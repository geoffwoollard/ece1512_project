{
  "nbformat": 4,
  "nbformat_minor": 0,
  "metadata": {
    "kernelspec": {
      "name": "python3",
      "display_name": "Python 3"
    },
    "colab": {
      "name": "cryo_Residual_Network_Keras.ipynb",
      "provenance": [],
      "collapsed_sections": [],
      "include_colab_link": true
    },
    "accelerator": "GPU"
  },
  "cells": [
    {
      "cell_type": "markdown",
      "metadata": {
        "id": "view-in-github",
        "colab_type": "text"
      },
      "source": [
        "<a href=\"https://colab.research.google.com/github/geoffwoollard/ece1512_project/blob/master/nb/cryo_Residual_Network_Keras.ipynb\" target=\"_parent\"><img src=\"https://colab.research.google.com/assets/colab-badge.svg\" alt=\"Open In Colab\"/></a>"
      ]
    },
    {
      "cell_type": "markdown",
      "metadata": {
        "id": "xsUv03M8Ia04",
        "colab_type": "text"
      },
      "source": [
        "# TODO\n",
        "- GPU to TPU? https://www.kdnuggets.com/2019/03/train-keras-model-20x-faster-tpu-free.html\n",
        "- tip from [blog post](https://dev.to/kriyeng/8-tips-for-google-colab-notebooks-to-take-advantage-of-their-free-of-charge-12gb-ram-gpu-be4): to speed up move data to root directory\n",
        "- weights from another task (transfer learning)\n",
        "- [add gussian noise](https://towardsdatascience.com/noise-its-not-always-annoying-1bd5f0f240f)\n",
        "- automate copy J??? data to root dir /\n",
        "- window particles\n",
        "- augment on predict. verify sim data OK\n",
        "- train on sub part data (micells vs no micelle)"
      ]
    },
    {
      "cell_type": "code",
      "metadata": {
        "id": "kStvyXEauDfx",
        "colab_type": "code",
        "colab": {
          "base_uri": "https://localhost:8080/",
          "height": 238
        },
        "outputId": "71e1c8f4-6e11-48fe-ddc1-03e9305b9e3a"
      },
      "source": [
        "# memory footprint support libraries/code\n",
        "!ln -sf /opt/bin/nvidia-smi /usr/bin/nvidia-smi\n",
        "!pip install gputil\n",
        "!pip install psutil\n",
        "!pip install humanize\n",
        "import psutil\n",
        "import humanize\n",
        "import os\n",
        "import GPUtil as GPU\n",
        "GPUs = GPU.getGPUs()\n",
        "# XXX: only one GPU on Colab and isn’t guaranteed\n",
        "gpu = GPUs[0]\n",
        "def printm():\n",
        " process = psutil.Process(os.getpid())\n",
        " print(\"Gen RAM Free: \" + humanize.naturalsize( psutil.virtual_memory().available ), \" | Proc size: \" + humanize.naturalsize( process.memory_info().rss))\n",
        " print(\"GPU RAM Free: {0:.0f}MB | Used: {1:.0f}MB | Util {2:3.0f}% | Total {3:.0f}MB\".format(gpu.memoryFree, gpu.memoryUsed, gpu.memoryUtil*100, gpu.memoryTotal))\n",
        "printm() "
      ],
      "execution_count": 1,
      "outputs": [
        {
          "output_type": "stream",
          "text": [
            "Collecting gputil\n",
            "  Downloading https://files.pythonhosted.org/packages/ed/0e/5c61eedde9f6c87713e89d794f01e378cfd9565847d4576fa627d758c554/GPUtil-1.4.0.tar.gz\n",
            "Building wheels for collected packages: gputil\n",
            "  Building wheel for gputil (setup.py) ... \u001b[?25l\u001b[?25hdone\n",
            "  Created wheel for gputil: filename=GPUtil-1.4.0-cp36-none-any.whl size=7413 sha256=d24545bc7ab9c138051ec1e8e74cb712b246c8b34c5f36c3c764fc4fbdcdd380\n",
            "  Stored in directory: /root/.cache/pip/wheels/3d/77/07/80562de4bb0786e5ea186911a2c831fdd0018bda69beab71fd\n",
            "Successfully built gputil\n",
            "Installing collected packages: gputil\n",
            "Successfully installed gputil-1.4.0\n",
            "Requirement already satisfied: psutil in /usr/local/lib/python3.6/dist-packages (5.4.8)\n",
            "Requirement already satisfied: humanize in /usr/local/lib/python3.6/dist-packages (0.5.1)\n",
            "Gen RAM Free: 12.8 GB  | Proc size: 159.4 MB\n",
            "GPU RAM Free: 16280MB | Used: 0MB | Util   0% | Total 16280MB\n"
          ],
          "name": "stdout"
        }
      ]
    },
    {
      "cell_type": "code",
      "metadata": {
        "id": "cvWgqYkjtmRr",
        "colab_type": "code",
        "outputId": "a352deea-4763-42a6-8515-4bdddaa2eeb2",
        "colab": {
          "base_uri": "https://localhost:8080/",
          "height": 34
        }
      },
      "source": [
        "from google.colab import drive\n",
        "drive.mount('/content/drive/')\n"
      ],
      "execution_count": 29,
      "outputs": [
        {
          "output_type": "stream",
          "text": [
            "Drive already mounted at /content/drive/; to attempt to forcibly remount, call drive.mount(\"/content/drive/\", force_remount=True).\n"
          ],
          "name": "stdout"
        }
      ]
    },
    {
      "cell_type": "code",
      "metadata": {
        "id": "xnvA-LmKh5vH",
        "colab_type": "code",
        "colab": {}
      },
      "source": [
        "!cp -r /content/drive/My\\ Drive/mbp/mohammad/ece1512_project/data/ouhn_Data1_P1/J1028 /\n",
        "#!cp -r /content/drive/My\\ Drive/mbp/mohammad/ece1512_project/data/ouhn_Data1_P1/J1012 /"
      ],
      "execution_count": 0,
      "outputs": []
    },
    {
      "cell_type": "code",
      "metadata": {
        "id": "AQBWjn05tt5a",
        "colab_type": "code",
        "outputId": "04ff918c-3b52-4818-ee3a-bdfa5979158a",
        "colab": {
          "base_uri": "https://localhost:8080/",
          "height": 34
        }
      },
      "source": [
        "%cd /content/drive/My\\ Drive/mbp/mohammad/ece1512_project\n",
        "import mrc, fit_generator_helper, customizable_deep_network\n"
      ],
      "execution_count": 10,
      "outputs": [
        {
          "output_type": "stream",
          "text": [
            "/content/drive/My Drive/mbp/mohammad/ece1512_project\n"
          ],
          "name": "stdout"
        }
      ]
    },
    {
      "cell_type": "code",
      "metadata": {
        "id": "FPxcUJiFtbJT",
        "colab_type": "code",
        "outputId": "4bcead55-cc7f-4fc8-ea42-2b9c0892afab",
        "colab": {
          "base_uri": "https://localhost:8080/",
          "height": 34
        }
      },
      "source": [
        "%cd /content/drive/My\\ Drive/mbp/Deep-Learning/resnet_keras/\n",
        "import pandas as pd\n",
        "import numpy as np \n",
        "import matplotlib.pyplot as plt\n",
        "import os\n",
        "from urllib.request import urlopen,urlretrieve\n",
        "from PIL import Image\n",
        "from tqdm import tqdm_notebook\n",
        "%matplotlib inline\n",
        "from sklearn.utils import shuffle\n",
        "import cv2\n",
        "from resnets_utils import *\n",
        "\n",
        "from keras.models import load_model\n",
        "from sklearn.datasets import load_files   \n",
        "from keras.utils import np_utils\n",
        "from glob import glob\n",
        "from keras import applications\n",
        "from keras.preprocessing.image import ImageDataGenerator \n",
        "from keras import optimizers\n",
        "from keras.models import Sequential,Model,load_model\n",
        "from keras.layers import Dense, Dropout, Flatten, Conv2D, MaxPool2D,GlobalAveragePooling2D\n",
        "from keras.callbacks import TensorBoard,ReduceLROnPlateau,ModelCheckpoint"
      ],
      "execution_count": 4,
      "outputs": [
        {
          "output_type": "stream",
          "text": [
            "/content/drive/My Drive/mbp/Deep-Learning/resnet_keras\n"
          ],
          "name": "stdout"
        }
      ]
    },
    {
      "cell_type": "code",
      "metadata": {
        "id": "wz3hbH9Q4B3V",
        "colab_type": "code",
        "colab": {}
      },
      "source": [
        "# !cp -r /content/drive/My\\ Drive/mbp/mohammad/ece1512_project/data/ouhn_Data1_P1/J977 /\n",
        "!cp -r /content/drive/My\\ Drive/mbp/mohammad/ece1512_project/data/ouhn_Data1_P1/J930 /\n",
        "# !cp -r /content/drive/My\\ Drive/mbp/mohammad/ece1512_project/data/ouhn_Data1_P1/J1028 /\n"
      ],
      "execution_count": 0,
      "outputs": []
    },
    {
      "cell_type": "code",
      "metadata": {
        "id": "vMKpdztM8I_d",
        "colab_type": "code",
        "colab": {
          "base_uri": "https://localhost:8080/",
          "height": 204
        },
        "outputId": "e498ffe1-44a5-4195-abf1-e34cd9688c35"
      },
      "source": [
        "!ls /"
      ],
      "execution_count": 34,
      "outputs": [
        {
          "output_type": "stream",
          "text": [
            "bin\t\t\t\t\t   J1028\t sbin\n",
            "boot\t\t\t\t\t   keras_models  srv\n",
            "content\t\t\t\t\t   lib\t\t swift\n",
            "datalab\t\t\t\t\t   lib32\t sys\n",
            "dev\t\t\t\t\t   lib64\t tensorflow-1.15.2\n",
            "dlib-19.18.0-cp27-cp27mu-linux_x86_64.whl  media\t tmp\n",
            "dlib-19.18.0-cp36-cp36m-linux_x86_64.whl   mnt\t\t tools\n",
            "etc\t\t\t\t\t   opt\t\t usr\n",
            "home\t\t\t\t\t   proc\t\t var\n",
            "J1011\t\t\t\t\t   root\n",
            "J1012\t\t\t\t\t   run\n"
          ],
          "name": "stdout"
        }
      ]
    },
    {
      "cell_type": "markdown",
      "metadata": {
        "id": "m9k6oFjbtbJa",
        "colab_type": "text"
      },
      "source": [
        "### Load the data set"
      ]
    },
    {
      "cell_type": "code",
      "metadata": {
        "id": "X-ZOUF17xWaK",
        "colab_type": "code",
        "colab": {}
      },
      "source": [
        "labels = []\n",
        "files = []\n",
        "#label_d = {'J977':0,'J978':1,'J979':2} # protomer, side, top\n",
        "label_d = {'J1028':0,'J930':1} # +/- micelle. different underlying picks\n",
        "for jdir in label_d.keys():\n",
        "  for fname in glob('/%s/downsample/*mrc' % jdir): #glob('/content/drive/My Drive/mbp/mohammad/ece1512_project/data/ouhn_Data1_P1/%s/downsample/*mrc' % jdir): \n",
        "    files.append(fname)\n",
        "    labels.append(label_d[jdir])\n"
      ],
      "execution_count": 0,
      "outputs": []
    },
    {
      "cell_type": "code",
      "metadata": {
        "id": "nPZuXFsHxd88",
        "colab_type": "code",
        "outputId": "e160c285-987b-43f5-c6f6-93d64401752c",
        "colab": {
          "base_uri": "https://localhost:8080/",
          "height": 68
        }
      },
      "source": [
        "df = fit_generator_helper.parse_files(files,labels)\n",
        "\n",
        "header = mrc.read_header(df['fname'].iloc[0])\n",
        "nx,ny = header['nx'], header['ny']\n",
        "\n",
        "n = int(df['class'].value_counts().min())\n",
        "df0 = df.loc[(df['class'] == 0)].sample(n)\n",
        "df1 = df.loc[(df['class'] == 1)].sample(n)\n",
        "#df2 = df.loc[(df['class'] == 2)].sample(n)\n",
        "\n",
        "df = pd.concat([df0,df1])\n",
        "#df = pd.concat([df0,df1,df2])\n",
        "\n",
        "\n",
        "df = df.sample(df.shape[0])\n",
        "\n",
        "df['class'].value_counts() "
      ],
      "execution_count": 39,
      "outputs": [
        {
          "output_type": "execute_result",
          "data": {
            "text/plain": [
              "1    25158\n",
              "0    25158\n",
              "Name: class, dtype: int64"
            ]
          },
          "metadata": {
            "tags": []
          },
          "execution_count": 39
        }
      ]
    },
    {
      "cell_type": "code",
      "metadata": {
        "id": "ggdJWuHrxlc1",
        "colab_type": "code",
        "colab": {
          "base_uri": "https://localhost:8080/",
          "height": 34
        },
        "outputId": "7234b598-3096-46a2-8cbf-c94dc5717eac"
      },
      "source": [
        "# test/train split\n",
        "val_n = int(0.02*df.shape[0]) \n",
        "df_val = df.iloc[-val_n:]\n",
        "df = df.iloc[:-val_n]\n",
        "df.shape, df_val.shape"
      ],
      "execution_count": 40,
      "outputs": [
        {
          "output_type": "execute_result",
          "data": {
            "text/plain": [
              "((49310, 3), (1006, 3))"
            ]
          },
          "metadata": {
            "tags": []
          },
          "execution_count": 40
        }
      ]
    },
    {
      "cell_type": "code",
      "metadata": {
        "id": "zUgi8p4Dxoo0",
        "colab_type": "code",
        "outputId": "0cc3933a-8938-42fd-d80b-e40e2986b7fc",
        "colab": {
          "base_uri": "https://localhost:8080/",
          "height": 68
        }
      },
      "source": [
        "%%time\n",
        "# 12 min 3.4k\n",
        "# 13 min 3.4k\n",
        "# 33s 100 \n",
        "# 2.5s/3.25min 706\n",
        "X_val,Y_val = fit_generator_helper.XY_from_df_batch(df_val,nx=nx,ny=ny,num_classes=df['class'].unique().size)\n",
        "print(X_val.shape)"
      ],
      "execution_count": 41,
      "outputs": [
        {
          "output_type": "stream",
          "text": [
            "(1006, 64, 64, 1)\n",
            "CPU times: user 83.3 ms, sys: 29.5 ms, total: 113 ms\n",
            "Wall time: 114 ms\n"
          ],
          "name": "stdout"
        }
      ]
    },
    {
      "cell_type": "code",
      "metadata": {
        "id": "mSZ3GjiPtbJf",
        "colab_type": "code",
        "outputId": "82d91a2c-48ab-4f87-f03e-fb6b97836674",
        "colab": {
          "base_uri": "https://localhost:8080/",
          "height": 71
        }
      },
      "source": [
        "img_height,img_width = nx,ny \n",
        "num_classes = df['class'].unique().size\n",
        "#If imagenet weights are being loaded, \n",
        "#input must have a static square shape (one of (128, 128), (160, 160), (192, 192), or (224, 224))\n",
        "base_model = applications.resnet50.ResNet50(weights= None, include_top=False, input_shape= (img_height,img_width,1))"
      ],
      "execution_count": 49,
      "outputs": [
        {
          "output_type": "stream",
          "text": [
            "/usr/local/lib/python3.6/dist-packages/keras_applications/resnet50.py:265: UserWarning: The output shape of `ResNet50(include_top=False)` has been changed since Keras 2.2.0.\n",
            "  warnings.warn('The output shape of `ResNet50(include_top=False)` '\n"
          ],
          "name": "stderr"
        }
      ]
    },
    {
      "cell_type": "code",
      "metadata": {
        "id": "4jv_lRZbtbJi",
        "colab_type": "code",
        "colab": {}
      },
      "source": [
        "x = base_model.output\n",
        "x = GlobalAveragePooling2D()(x)\n",
        "x = Dropout(0.5)(x)\n",
        "predictions = Dense(num_classes, activation= 'softmax')(x)\n",
        "model = Model(inputs = base_model.input, outputs = predictions)"
      ],
      "execution_count": 0,
      "outputs": []
    },
    {
      "cell_type": "code",
      "metadata": {
        "id": "EQNv5iM8tbJl",
        "colab_type": "code",
        "colab": {}
      },
      "source": [
        "from keras.optimizers import SGD, Adam\n",
        "# sgd = SGD(lr=lrate, momentum=0.9, decay=decay, nesterov=False)\n",
        "adam = Adam(lr=0.0001)\n",
        "model.compile(optimizer= adam, loss='categorical_crossentropy', metrics=['accuracy'])"
      ],
      "execution_count": 0,
      "outputs": []
    },
    {
      "cell_type": "code",
      "metadata": {
        "id": "qff9WDZmyI3N",
        "colab_type": "code",
        "outputId": "3b7c4ceb-5b0a-4803-c736-7f4b4cc3d5ee",
        "colab": {
          "base_uri": "https://localhost:8080/",
          "height": 34
        }
      },
      "source": [
        "batch_size = 20 # do not put this too large. 100 too big. 50 getting big, perhaps can go bigger. 20 ok\n",
        "n=df.shape[0]\n",
        "steps_per_epoch = np.floor(df.sample(n).shape[0] / batch_size) # 110 for 11k particles\n",
        "steps_per_epoch"
      ],
      "execution_count": 52,
      "outputs": [
        {
          "output_type": "execute_result",
          "data": {
            "text/plain": [
              "2465.0"
            ]
          },
          "metadata": {
            "tags": []
          },
          "execution_count": 52
        }
      ]
    },
    {
      "cell_type": "code",
      "metadata": {
        "id": "7lfmVQB7PKtR",
        "colab_type": "code",
        "colab": {
          "base_uri": "https://localhost:8080/",
          "height": 34
        },
        "outputId": "6b92d5d1-b2c3-4e1d-fee2-0a835500494f"
      },
      "source": [
        "from sklearn.metrics import confusion_matrix\n",
        "from datetime import datetime\n",
        "dateTimeObj = datetime.now()\n",
        "!mkdir /keras_models"
      ],
      "execution_count": 53,
      "outputs": [
        {
          "output_type": "stream",
          "text": [
            "mkdir: cannot create directory ‘/keras_models’: File exists\n"
          ],
          "name": "stdout"
        }
      ]
    },
    {
      "cell_type": "code",
      "metadata": {
        "id": "-f0Gx-HZcJCF",
        "colab_type": "code",
        "colab": {
          "base_uri": "https://localhost:8080/",
          "height": 1000
        },
        "outputId": "153724b3-5050-4339-8f34-dbc01e18006b"
      },
      "source": [
        "model_fname = '/keras_models/micelle_aug_'\n",
        "for epoch in range(20,40):\n",
        "    print('actual epoch %i' % epoch)\n",
        "    model.fit_generator(fit_generator_helper.image_loader(df.sample(n),\n",
        "                                                          do_augment=True,\n",
        "                                                          batch_size=batch_size,\n",
        "                                                          nx=nx,ny=ny,\n",
        "                                                          num_classes=df['class'].unique().size),\n",
        "                        steps_per_epoch=steps_per_epoch, # steps_per_epoch is number of batches per epoch\n",
        "                        epochs=1,\n",
        "                        )\n",
        "    \n",
        "    XY_aug_list = [fit_generator_helper.batch_image_augment(X_val,Y_val,batch_size=X_val.shape[0],rotation_range=180) for x in range(3)]\n",
        "    for X, Y in [(X_val, Y_val)] + XY_aug_list:\n",
        "      scores = model.evaluate(X, Y)\n",
        "      print ('epoch %s' % epoch, \"Loss = \" + str(scores[0]), \"Test Accuracy = \" + str(scores[1]))\n",
        "      model.save(model_fname+dateTimeObj.strftime(\"%Y%m%d-%H%M%S\")+'_ep%i.h5'%epoch)\n",
        "      Y_pred = model.predict(X)\n",
        "      print(confusion_matrix(Y.argmax(axis=1), Y_pred.argmax(axis=1)))\n",
        "\n",
        "    "
      ],
      "execution_count": 74,
      "outputs": [
        {
          "output_type": "stream",
          "text": [
            "actual epoch 20\n",
            "Epoch 1/1\n",
            "2465/2465 [==============================] - 221s 90ms/step - loss: 0.3717 - accuracy: 0.8378\n",
            "1006/1006 [==============================] - 1s 725us/step\n",
            "epoch 20 Loss = 1.013901698660424 Test Accuracy = 0.609343945980072\n",
            "[[132 378]\n",
            " [ 15 481]]\n",
            "1006/1006 [==============================] - 1s 696us/step\n",
            "epoch 20 Loss = 0.3884618652625302 Test Accuracy = 0.8339959979057312\n",
            "[[383 127]\n",
            " [ 40 456]]\n",
            "1006/1006 [==============================] - 1s 715us/step\n",
            "epoch 20 Loss = 0.390476577206113 Test Accuracy = 0.8240556716918945\n",
            "[[369 141]\n",
            " [ 36 460]]\n",
            "1006/1006 [==============================] - 1s 701us/step\n",
            "epoch 20 Loss = 0.3989915361935291 Test Accuracy = 0.8250496983528137\n",
            "[[369 141]\n",
            " [ 35 461]]\n",
            "actual epoch 21\n",
            "Epoch 1/1\n",
            "2465/2465 [==============================] - 221s 90ms/step - loss: 0.3677 - accuracy: 0.8399\n",
            "1006/1006 [==============================] - 1s 719us/step\n",
            "epoch 21 Loss = 2.271218903259065 Test Accuracy = 0.6023856997489929\n",
            "[[503   7]\n",
            " [393 103]]\n",
            "1006/1006 [==============================] - 1s 694us/step\n",
            "epoch 21 Loss = 0.3541952266133803 Test Accuracy = 0.8389661908149719\n",
            "[[400 110]\n",
            " [ 52 444]]\n",
            "1006/1006 [==============================] - 1s 708us/step\n",
            "epoch 21 Loss = 0.383288799264796 Test Accuracy = 0.8290258646011353\n",
            "[[392 118]\n",
            " [ 54 442]]\n",
            "1006/1006 [==============================] - 1s 712us/step\n",
            "epoch 21 Loss = 0.38972143745920057 Test Accuracy = 0.8349900841712952\n",
            "[[394 116]\n",
            " [ 50 446]]\n",
            "actual epoch 22\n",
            "Epoch 1/1\n",
            "2465/2465 [==============================] - 223s 90ms/step - loss: 0.3625 - accuracy: 0.8425\n",
            "1006/1006 [==============================] - 1s 719us/step\n",
            "epoch 22 Loss = 0.4979280234568162 Test Accuracy = 0.7584493160247803\n",
            "[[332 178]\n",
            " [ 65 431]]\n",
            "1006/1006 [==============================] - 1s 702us/step\n",
            "epoch 22 Loss = 0.3526452895898231 Test Accuracy = 0.8518886566162109\n",
            "[[448  62]\n",
            " [ 87 409]]\n",
            "1006/1006 [==============================] - 1s 708us/step\n",
            "epoch 22 Loss = 0.35006811844544194 Test Accuracy = 0.8538767099380493\n",
            "[[448  62]\n",
            " [ 85 411]]\n",
            "1006/1006 [==============================] - 1s 715us/step\n",
            "epoch 22 Loss = 0.34034574245126775 Test Accuracy = 0.8558648228645325\n",
            "[[448  62]\n",
            " [ 83 413]]\n",
            "actual epoch 23\n",
            "Epoch 1/1\n",
            "2465/2465 [==============================] - 224s 91ms/step - loss: 0.3596 - accuracy: 0.8448\n",
            "1006/1006 [==============================] - 1s 725us/step\n",
            "epoch 23 Loss = 0.7712514917134765 Test Accuracy = 0.6660040020942688\n",
            "[[487  23]\n",
            " [313 183]]\n",
            "1006/1006 [==============================] - 1s 719us/step\n",
            "epoch 23 Loss = 0.4031570072676505 Test Accuracy = 0.820079505443573\n",
            "[[475  35]\n",
            " [146 350]]\n",
            "1006/1006 [==============================] - 1s 719us/step\n",
            "epoch 23 Loss = 0.41248183921127624 Test Accuracy = 0.8190854787826538\n",
            "[[476  34]\n",
            " [148 348]]\n",
            "1006/1006 [==============================] - 1s 708us/step\n",
            "epoch 23 Loss = 0.39330679332285706 Test Accuracy = 0.8101391792297363\n",
            "[[476  34]\n",
            " [157 339]]\n",
            "actual epoch 24\n",
            "Epoch 1/1\n",
            "2465/2465 [==============================] - 225s 91ms/step - loss: 0.3570 - accuracy: 0.8439\n",
            "1006/1006 [==============================] - 1s 716us/step\n",
            "epoch 24 Loss = 0.6019994519339879 Test Accuracy = 0.697813093662262\n",
            "[[329 181]\n",
            " [123 373]]\n",
            "1006/1006 [==============================] - 1s 722us/step\n",
            "epoch 24 Loss = 0.33938233859496375 Test Accuracy = 0.8469184637069702\n",
            "[[417  93]\n",
            " [ 61 435]]\n",
            "1006/1006 [==============================] - 1s 704us/step\n",
            "epoch 24 Loss = 0.36282249266063243 Test Accuracy = 0.8439363837242126\n",
            "[[424  86]\n",
            " [ 71 425]]\n",
            "1006/1006 [==============================] - 1s 716us/step\n",
            "epoch 24 Loss = 0.3154617902298808 Test Accuracy = 0.8727633953094482\n",
            "[[425  85]\n",
            " [ 43 453]]\n",
            "actual epoch 25\n",
            "Epoch 1/1\n",
            "2465/2465 [==============================] - 224s 91ms/step - loss: 0.3580 - accuracy: 0.8442\n",
            "1006/1006 [==============================] - 1s 742us/step\n",
            "epoch 25 Loss = 0.5199584168183875 Test Accuracy = 0.7485089302062988\n",
            "[[432  78]\n",
            " [175 321]]\n",
            "1006/1006 [==============================] - 1s 739us/step\n",
            "epoch 25 Loss = 0.3696803332678603 Test Accuracy = 0.8439363837242126\n",
            "[[404 106]\n",
            " [ 51 445]]\n",
            "1006/1006 [==============================] - 1s 717us/step\n",
            "epoch 25 Loss = 0.3861534234662179 Test Accuracy = 0.8399602174758911\n",
            "[[393 117]\n",
            " [ 44 452]]\n",
            "1006/1006 [==============================] - 1s 716us/step\n",
            "epoch 25 Loss = 0.36705621268237326 Test Accuracy = 0.8499006032943726\n",
            "[[403 107]\n",
            " [ 44 452]]\n",
            "actual epoch 26\n",
            "Epoch 1/1\n",
            "2465/2465 [==============================] - 223s 90ms/step - loss: 0.3514 - accuracy: 0.8492\n",
            "1006/1006 [==============================] - 1s 723us/step\n",
            "epoch 26 Loss = 0.7073728662598915 Test Accuracy = 0.6630218625068665\n",
            "[[229 281]\n",
            " [ 58 438]]\n",
            "1006/1006 [==============================] - 1s 716us/step\n",
            "epoch 26 Loss = 0.3583083307411277 Test Accuracy = 0.8439363837242126\n",
            "[[454  56]\n",
            " [101 395]]\n",
            "1006/1006 [==============================] - 1s 711us/step\n",
            "epoch 26 Loss = 0.3566133521541687 Test Accuracy = 0.8439363837242126\n",
            "[[457  53]\n",
            " [104 392]]\n",
            "1006/1006 [==============================] - 1s 706us/step\n",
            "epoch 26 Loss = 0.35139472145683487 Test Accuracy = 0.8508946299552917\n",
            "[[460  50]\n",
            " [100 396]]\n",
            "actual epoch 27\n",
            "Epoch 1/1\n",
            "2465/2465 [==============================] - 221s 90ms/step - loss: 0.3510 - accuracy: 0.8488\n",
            "1006/1006 [==============================] - 1s 720us/step\n",
            "epoch 27 Loss = 0.8264913779366798 Test Accuracy = 0.6451292037963867\n",
            "[[188 322]\n",
            " [ 35 461]]\n",
            "1006/1006 [==============================] - 1s 724us/step\n",
            "epoch 27 Loss = 0.3705762987345398 Test Accuracy = 0.8280318379402161\n",
            "[[390 120]\n",
            " [ 53 443]]\n",
            "1006/1006 [==============================] - 1s 716us/step\n",
            "epoch 27 Loss = 0.3521615818113266 Test Accuracy = 0.8499006032943726\n",
            "[[406 104]\n",
            " [ 47 449]]\n",
            "1006/1006 [==============================] - 1s 719us/step\n",
            "epoch 27 Loss = 0.3638246654279189 Test Accuracy = 0.8508946299552917\n",
            "[[413  97]\n",
            " [ 53 443]]\n",
            "actual epoch 28\n",
            "Epoch 1/1\n",
            "2465/2465 [==============================] - 221s 90ms/step - loss: 0.3463 - accuracy: 0.8508\n",
            "1006/1006 [==============================] - 1s 726us/step\n",
            "epoch 28 Loss = 0.5884417174587667 Test Accuracy = 0.7276341915130615\n",
            "[[292 218]\n",
            " [ 56 440]]\n",
            "1006/1006 [==============================] - 1s 706us/step\n",
            "epoch 28 Loss = 0.3636515569497292 Test Accuracy = 0.8528826832771301\n",
            "[[440  70]\n",
            " [ 78 418]]\n",
            "1006/1006 [==============================] - 1s 709us/step\n",
            "epoch 28 Loss = 0.34884688749939025 Test Accuracy = 0.8508946299552917\n",
            "[[441  69]\n",
            " [ 81 415]]\n",
            "1006/1006 [==============================] - 1s 707us/step\n",
            "epoch 28 Loss = 0.3714989787245366 Test Accuracy = 0.8469184637069702\n",
            "[[440  70]\n",
            " [ 84 412]]\n",
            "actual epoch 29\n",
            "Epoch 1/1\n",
            "2465/2465 [==============================] - 222s 90ms/step - loss: 0.3444 - accuracy: 0.8536\n",
            "1006/1006 [==============================] - 1s 720us/step\n",
            "epoch 29 Loss = 0.5314269028529969 Test Accuracy = 0.7584493160247803\n",
            "[[356 154]\n",
            " [ 89 407]]\n",
            "1006/1006 [==============================] - 1s 695us/step\n",
            "epoch 29 Loss = 0.34024176244470283 Test Accuracy = 0.8618290424346924\n",
            "[[422  88]\n",
            " [ 51 445]]\n",
            "1006/1006 [==============================] - 1s 713us/step\n",
            "epoch 29 Loss = 0.3298818033566295 Test Accuracy = 0.8558648228645325\n",
            "[[420  90]\n",
            " [ 55 441]]\n",
            "1006/1006 [==============================] - 1s 695us/step\n",
            "epoch 29 Loss = 0.33302228703769016 Test Accuracy = 0.8638170957565308\n",
            "[[427  83]\n",
            " [ 54 442]]\n",
            "actual epoch 30\n",
            "Epoch 1/1\n",
            "2465/2465 [==============================] - 221s 90ms/step - loss: 0.3411 - accuracy: 0.8536\n",
            "1006/1006 [==============================] - 1s 721us/step\n",
            "epoch 30 Loss = 0.6247832129892724 Test Accuracy = 0.6769383549690247\n",
            "[[480  30]\n",
            " [295 201]]\n",
            "1006/1006 [==============================] - 1s 716us/step\n",
            "epoch 30 Loss = 0.33664476438971686 Test Accuracy = 0.8628230690956116\n",
            "[[430  80]\n",
            " [ 58 438]]\n",
            "1006/1006 [==============================] - 1s 717us/step\n",
            "epoch 30 Loss = 0.3464393199793624 Test Accuracy = 0.8518886566162109\n",
            "[[430  80]\n",
            " [ 69 427]]\n",
            "1006/1006 [==============================] - 1s 704us/step\n",
            "epoch 30 Loss = 0.33547143113779027 Test Accuracy = 0.8548707962036133\n",
            "[[428  82]\n",
            " [ 64 432]]\n",
            "actual epoch 31\n",
            "Epoch 1/1\n",
            "2465/2465 [==============================] - 221s 90ms/step - loss: 0.3362 - accuracy: 0.8546\n",
            "1006/1006 [==============================] - 1s 741us/step\n",
            "epoch 31 Loss = 0.5312360078392635 Test Accuracy = 0.7475149035453796\n",
            "[[312 198]\n",
            " [ 56 440]]\n",
            "1006/1006 [==============================] - 1s 729us/step\n",
            "epoch 31 Loss = 0.34225003056924336 Test Accuracy = 0.8608350157737732\n",
            "[[421  89]\n",
            " [ 51 445]]\n",
            "1006/1006 [==============================] - 1s 726us/step\n",
            "epoch 31 Loss = 0.3443051945144092 Test Accuracy = 0.8578528761863708\n",
            "[[423  87]\n",
            " [ 56 440]]\n",
            "1006/1006 [==============================] - 1s 716us/step\n",
            "epoch 31 Loss = 0.34222912604718747 Test Accuracy = 0.8439363837242126\n",
            "[[408 102]\n",
            " [ 55 441]]\n",
            "actual epoch 32\n",
            "Epoch 1/1\n",
            "2465/2465 [==============================] - 223s 91ms/step - loss: 0.3380 - accuracy: 0.8544\n",
            "1006/1006 [==============================] - 1s 737us/step\n",
            "epoch 32 Loss = 0.5659910443999895 Test Accuracy = 0.7345924377441406\n",
            "[[295 215]\n",
            " [ 52 444]]\n",
            "1006/1006 [==============================] - 1s 716us/step\n",
            "epoch 32 Loss = 0.4117390988598287 Test Accuracy = 0.8479125499725342\n",
            "[[408 102]\n",
            " [ 51 445]]\n",
            "1006/1006 [==============================] - 1s 716us/step\n",
            "epoch 32 Loss = 0.3615682000668338 Test Accuracy = 0.8439363837242126\n",
            "[[398 112]\n",
            " [ 45 451]]\n",
            "1006/1006 [==============================] - 1s 709us/step\n",
            "epoch 32 Loss = 0.3463581418303799 Test Accuracy = 0.8280318379402161\n",
            "[[380 130]\n",
            " [ 43 453]]\n",
            "actual epoch 33\n",
            "Epoch 1/1\n",
            "2465/2465 [==============================] - 228s 92ms/step - loss: 0.3357 - accuracy: 0.8557\n",
            "1006/1006 [==============================] - 1s 724us/step\n",
            "epoch 33 Loss = 1.1767847011861934 Test Accuracy = 0.6660040020942688\n",
            "[[493  17]\n",
            " [319 177]]\n",
            "1006/1006 [==============================] - 1s 727us/step\n",
            "epoch 33 Loss = 0.3333539015078402 Test Accuracy = 0.8548707962036133\n",
            "[[443  67]\n",
            " [ 79 417]]\n",
            "1006/1006 [==============================] - 1s 719us/step\n",
            "epoch 33 Loss = 0.3310879622965636 Test Accuracy = 0.8687872886657715\n",
            "[[447  63]\n",
            " [ 69 427]]\n",
            "1006/1006 [==============================] - 1s 714us/step\n",
            "epoch 33 Loss = 0.35252850670108266 Test Accuracy = 0.8538767099380493\n",
            "[[441  69]\n",
            " [ 78 418]]\n",
            "actual epoch 34\n",
            "Epoch 1/1\n",
            "2465/2465 [==============================] - 229s 93ms/step - loss: 0.3308 - accuracy: 0.8569\n",
            "1006/1006 [==============================] - 1s 728us/step\n",
            "epoch 34 Loss = 0.49345371630746376 Test Accuracy = 0.7544731497764587\n",
            "[[462  48]\n",
            " [199 297]]\n",
            "1006/1006 [==============================] - 1s 717us/step\n",
            "epoch 34 Loss = 0.3411671574973681 Test Accuracy = 0.8548707962036133\n",
            "[[448  62]\n",
            " [ 84 412]]\n",
            "1006/1006 [==============================] - 1s 728us/step\n",
            "epoch 34 Loss = 0.32706943210621714 Test Accuracy = 0.8578528761863708\n",
            "[[447  63]\n",
            " [ 80 416]]\n",
            "1006/1006 [==============================] - 1s 716us/step\n",
            "epoch 34 Loss = 0.3277507196245326 Test Accuracy = 0.8667991757392883\n",
            "[[448  62]\n",
            " [ 72 424]]\n",
            "actual epoch 35\n",
            "Epoch 1/1\n",
            "2465/2465 [==============================] - 228s 92ms/step - loss: 0.3269 - accuracy: 0.8592\n",
            "1006/1006 [==============================] - 1s 728us/step\n",
            "epoch 35 Loss = 0.6880415611665244 Test Accuracy = 0.6610338091850281\n",
            "[[466  44]\n",
            " [297 199]]\n",
            "1006/1006 [==============================] - 1s 710us/step\n",
            "epoch 35 Loss = 0.3093550413195229 Test Accuracy = 0.8737574815750122\n",
            "[[442  68]\n",
            " [ 59 437]]\n",
            "1006/1006 [==============================] - 1s 717us/step\n",
            "epoch 35 Loss = 0.34744983532319723 Test Accuracy = 0.8518886566162109\n",
            "[[431  79]\n",
            " [ 70 426]]\n",
            "1006/1006 [==============================] - 1s 709us/step\n",
            "epoch 35 Loss = 0.3255285241494833 Test Accuracy = 0.8618290424346924\n",
            "[[437  73]\n",
            " [ 66 430]]\n",
            "actual epoch 36\n",
            "Epoch 1/1\n",
            "2465/2465 [==============================] - 221s 90ms/step - loss: 0.3264 - accuracy: 0.8578\n",
            "1006/1006 [==============================] - 1s 722us/step\n",
            "epoch 36 Loss = 0.5890245360598175 Test Accuracy = 0.724652111530304\n",
            "[[345 165]\n",
            " [112 384]]\n",
            "1006/1006 [==============================] - 1s 706us/step\n",
            "epoch 36 Loss = 0.3275964145750459 Test Accuracy = 0.8658051490783691\n",
            "[[441  69]\n",
            " [ 66 430]]\n",
            "1006/1006 [==============================] - 1s 701us/step\n",
            "epoch 36 Loss = 0.3341543381481948 Test Accuracy = 0.8638170957565308\n",
            "[[436  74]\n",
            " [ 63 433]]\n",
            "1006/1006 [==============================] - 1s 718us/step\n",
            "epoch 36 Loss = 0.3323448114023057 Test Accuracy = 0.8677932620048523\n",
            "[[437  73]\n",
            " [ 60 436]]\n",
            "actual epoch 37\n",
            "Epoch 1/1\n",
            "2465/2465 [==============================] - 222s 90ms/step - loss: 0.3252 - accuracy: 0.8611\n",
            "1006/1006 [==============================] - 1s 721us/step\n",
            "epoch 37 Loss = 0.4613980544253325 Test Accuracy = 0.7962226867675781\n",
            "[[410 100]\n",
            " [105 391]]\n",
            "1006/1006 [==============================] - 1s 712us/step\n",
            "epoch 37 Loss = 0.31222471511861677 Test Accuracy = 0.8667991757392883\n",
            "[[437  73]\n",
            " [ 61 435]]\n",
            "1006/1006 [==============================] - 1s 710us/step\n",
            "epoch 37 Loss = 0.28945411181829084 Test Accuracy = 0.8767395615577698\n",
            "[[448  62]\n",
            " [ 62 434]]\n",
            "1006/1006 [==============================] - 1s 723us/step\n",
            "epoch 37 Loss = 0.3091563556943215 Test Accuracy = 0.8667991757392883\n",
            "[[441  69]\n",
            " [ 65 431]]\n",
            "actual epoch 38\n",
            "Epoch 1/1\n",
            "2465/2465 [==============================] - 221s 90ms/step - loss: 0.3199 - accuracy: 0.8614\n",
            "1006/1006 [==============================] - 1s 733us/step\n",
            "epoch 38 Loss = 0.6001552245014942 Test Accuracy = 0.750497043132782\n",
            "[[325 185]\n",
            " [ 66 430]]\n",
            "1006/1006 [==============================] - 1s 716us/step\n",
            "epoch 38 Loss = 0.34505276835225446 Test Accuracy = 0.8469184637069702\n",
            "[[397 113]\n",
            " [ 41 455]]\n",
            "1006/1006 [==============================] - 1s 718us/step\n",
            "epoch 38 Loss = 0.35177912140935363 Test Accuracy = 0.8489065766334534\n",
            "[[392 118]\n",
            " [ 34 462]]\n",
            "1006/1006 [==============================] - 1s 705us/step\n",
            "epoch 38 Loss = 0.3473536221691913 Test Accuracy = 0.8320079445838928\n",
            "[[376 134]\n",
            " [ 35 461]]\n",
            "actual epoch 39\n",
            "Epoch 1/1\n",
            "2465/2465 [==============================] - 219s 89ms/step - loss: 0.3205 - accuracy: 0.8628\n",
            "1006/1006 [==============================] - 1s 704us/step\n",
            "epoch 39 Loss = 0.47236969065713597 Test Accuracy = 0.7932405471801758\n",
            "[[399 111]\n",
            " [ 97 399]]\n",
            "1006/1006 [==============================] - 1s 693us/step\n",
            "epoch 39 Loss = 0.3411387794060451 Test Accuracy = 0.8449304103851318\n",
            "[[387 123]\n",
            " [ 33 463]]\n",
            "1006/1006 [==============================] - 1s 696us/step\n",
            "epoch 39 Loss = 0.32258757867407845 Test Accuracy = 0.8628230690956116\n",
            "[[412  98]\n",
            " [ 40 456]]\n",
            "1006/1006 [==============================] - 1s 715us/step\n",
            "epoch 39 Loss = 0.33362589394358944 Test Accuracy = 0.8469184637069702\n",
            "[[395 115]\n",
            " [ 39 457]]\n"
          ],
          "name": "stdout"
        }
      ]
    },
    {
      "cell_type": "code",
      "metadata": {
        "id": "Pa2BQDJ_B527",
        "colab_type": "code",
        "colab": {
          "base_uri": "https://localhost:8080/",
          "height": 1000
        },
        "outputId": "54ae45d0-95a6-48f5-ddc7-bced85e8f874"
      },
      "source": [
        "model_fname = '/keras_models/micelle_aug_'\n",
        "for epoch in range(20,40):\n",
        "    print('actual epoch %i' % epoch)\n",
        "    model.fit_generator(fit_generator_helper.image_loader(df.sample(n),\n",
        "                                                          do_augment=True,\n",
        "                                                          batch_size=batch_size,\n",
        "                                                          nx=nx,ny=ny,\n",
        "                                                          num_classes=df['class'].unique().size),\n",
        "                        steps_per_epoch=steps_per_epoch, # steps_per_epoch is number of batches per epoch\n",
        "                        epochs=1,\n",
        "                        )\n",
        "    \n",
        "    XY_aug_list = [fit_generator_helper.batch_image_augment(X_val,Y_val,batch_size=X_val.shape[0],rotation_range=180) for x in range(3)]\n",
        "    for X, Y in [(X_val, Y_val)] + XY_aug_list:\n",
        "      scores = model.evaluate(X, Y)\n",
        "      print ('epoch %s' % epoch, \"Loss = \" + str(scores[0]), \"Test Accuracy = \" + str(scores[1]))\n",
        "      model.save(model_fname+dateTimeObj.strftime(\"%Y%m%d-%H%M%S\")+'_ep%i.h5'%epoch)\n",
        "      Y_pred = model.predict(X)\n",
        "      print(confusion_matrix(Y.argmax(axis=1), Y_pred.argmax(axis=1)))\n",
        "\n",
        "    "
      ],
      "execution_count": 54,
      "outputs": [
        {
          "output_type": "stream",
          "text": [
            "actual epoch 0\n",
            "Epoch 1/1\n",
            "2465/2465 [==============================] - 237s 96ms/step - loss: 1.0221 - accuracy: 0.5057\n",
            "1006/1006 [==============================] - 2s 2ms/step\n",
            "epoch 0 Loss = 3.518287252953228 Test Accuracy = 0.5089462995529175\n",
            "[[510   0]\n",
            " [494   2]]\n",
            "actual epoch 1\n",
            "Epoch 1/1\n",
            "2465/2465 [==============================] - 227s 92ms/step - loss: 0.7996 - accuracy: 0.5352\n",
            "1006/1006 [==============================] - 1s 722us/step\n",
            "epoch 1 Loss = 6.927720621613338 Test Accuracy = 0.49105367064476013\n",
            "[[  0 510]\n",
            " [  2 494]]\n",
            "actual epoch 2\n",
            "Epoch 1/1\n",
            "2465/2465 [==============================] - 230s 93ms/step - loss: 0.7109 - accuracy: 0.6000\n",
            "1006/1006 [==============================] - 1s 715us/step\n",
            "epoch 2 Loss = 17.847723712504028 Test Accuracy = 0.4930417537689209\n",
            "[[  0 510]\n",
            " [  0 496]]\n",
            "actual epoch 3\n",
            "Epoch 1/1\n",
            "2465/2465 [==============================] - 223s 91ms/step - loss: 0.6451 - accuracy: 0.6571\n",
            "1006/1006 [==============================] - 1s 718us/step\n",
            "epoch 3 Loss = 8.974554674288862 Test Accuracy = 0.5069582462310791\n",
            "[[510   0]\n",
            " [496   0]]\n",
            "actual epoch 4\n",
            "Epoch 1/1\n",
            "2465/2465 [==============================] - 228s 93ms/step - loss: 0.5794 - accuracy: 0.7058\n",
            "1006/1006 [==============================] - 1s 717us/step\n",
            "epoch 4 Loss = 0.9626611518575467 Test Accuracy = 0.4930417537689209\n",
            "[[  0 510]\n",
            " [  0 496]]\n",
            "actual epoch 5\n",
            "Epoch 1/1\n",
            "2465/2465 [==============================] - 229s 93ms/step - loss: 0.5372 - accuracy: 0.7370\n",
            "1006/1006 [==============================] - 1s 729us/step\n",
            "epoch 5 Loss = 12.681935247796668 Test Accuracy = 0.5069582462310791\n",
            "[[510   0]\n",
            " [496   0]]\n",
            "actual epoch 6\n",
            "Epoch 1/1\n",
            "2465/2465 [==============================] - 226s 92ms/step - loss: 0.5106 - accuracy: 0.7543\n",
            "1006/1006 [==============================] - 1s 718us/step\n",
            "epoch 6 Loss = 14.854636330727791 Test Accuracy = 0.4930417537689209\n",
            "[[  0 510]\n",
            " [  0 496]]\n",
            "actual epoch 7\n",
            "Epoch 1/1\n",
            "2465/2465 [==============================] - 225s 91ms/step - loss: 0.4884 - accuracy: 0.7698\n",
            "1006/1006 [==============================] - 1s 717us/step\n",
            "epoch 7 Loss = 4.839755749370658 Test Accuracy = 0.4930417537689209\n",
            "[[  0 510]\n",
            " [  0 496]]\n",
            "actual epoch 8\n",
            "Epoch 1/1\n",
            "2465/2465 [==============================] - 223s 90ms/step - loss: 0.4703 - accuracy: 0.7841\n",
            "1006/1006 [==============================] - 1s 711us/step\n",
            "epoch 8 Loss = 0.7919221878288755 Test Accuracy = 0.5427435636520386\n",
            "[[495  15]\n",
            " [445  51]]\n",
            "actual epoch 9\n",
            "Epoch 1/1\n",
            "2465/2465 [==============================] - 221s 90ms/step - loss: 0.4528 - accuracy: 0.7914\n",
            "1006/1006 [==============================] - 1s 705us/step\n",
            "epoch 9 Loss = 40.881190373930735 Test Accuracy = 0.4930417537689209\n",
            "[[  0 510]\n",
            " [  0 496]]\n",
            "actual epoch 10\n",
            "Epoch 1/1\n",
            "2465/2465 [==============================] - 218s 89ms/step - loss: 0.4433 - accuracy: 0.7991\n",
            "1006/1006 [==============================] - 1s 716us/step\n",
            "epoch 10 Loss = 0.7753479946441726 Test Accuracy = 0.6033797264099121\n",
            "[[166 344]\n",
            " [ 55 441]]\n",
            "actual epoch 11\n",
            "Epoch 1/1\n",
            "2465/2465 [==============================] - 222s 90ms/step - loss: 0.4316 - accuracy: 0.8050\n",
            "1006/1006 [==============================] - 1s 712us/step\n",
            "epoch 11 Loss = 4.541998889763834 Test Accuracy = 0.4930417537689209\n",
            "[[  0 510]\n",
            " [  0 496]]\n",
            "actual epoch 12\n",
            "Epoch 1/1\n",
            "2465/2465 [==============================] - 224s 91ms/step - loss: 0.4222 - accuracy: 0.8106\n",
            "1006/1006 [==============================] - 1s 743us/step\n",
            "epoch 12 Loss = 16.290977104520703 Test Accuracy = 0.5069582462310791\n",
            "[[510   0]\n",
            " [496   0]]\n",
            "actual epoch 13\n",
            "Epoch 1/1\n",
            "2465/2465 [==============================] - 223s 90ms/step - loss: 0.4132 - accuracy: 0.8161\n",
            "1006/1006 [==============================] - 1s 730us/step\n",
            "epoch 13 Loss = 0.5756712015533068 Test Accuracy = 0.7017892599105835\n",
            "[[320 190]\n",
            " [110 386]]\n",
            "actual epoch 14\n",
            "Epoch 1/1\n",
            "2465/2465 [==============================] - 221s 90ms/step - loss: 0.4060 - accuracy: 0.8178\n",
            "1006/1006 [==============================] - 1s 699us/step\n",
            "epoch 14 Loss = 0.814362635669367 Test Accuracy = 0.6451292037963867\n",
            "[[176 334]\n",
            " [ 23 473]]\n",
            "actual epoch 15\n",
            "Epoch 1/1\n",
            "2465/2465 [==============================] - 217s 88ms/step - loss: 0.3987 - accuracy: 0.8229\n",
            "1006/1006 [==============================] - 1s 712us/step\n",
            "epoch 15 Loss = 0.5840346211823033 Test Accuracy = 0.692842960357666\n",
            "[[365 145]\n",
            " [164 332]]\n",
            "actual epoch 16\n",
            "Epoch 1/1\n",
            "2465/2465 [==============================] - 219s 89ms/step - loss: 0.3932 - accuracy: 0.8251\n",
            "1006/1006 [==============================] - 1s 724us/step\n",
            "epoch 16 Loss = 0.8875004027046218 Test Accuracy = 0.5675944089889526\n",
            "[[ 88 422]\n",
            " [ 13 483]]\n",
            "actual epoch 17\n",
            "Epoch 1/1\n",
            "2465/2465 [==============================] - 219s 89ms/step - loss: 0.3850 - accuracy: 0.8298\n",
            "1006/1006 [==============================] - 1s 748us/step\n",
            "epoch 17 Loss = 0.5884604865229628 Test Accuracy = 0.710735559463501\n",
            "[[300 210]\n",
            " [ 81 415]]\n",
            "actual epoch 18\n",
            "Epoch 1/1\n",
            "2465/2465 [==============================] - 220s 89ms/step - loss: 0.3829 - accuracy: 0.8317\n",
            "1006/1006 [==============================] - 1s 729us/step\n",
            "epoch 18 Loss = 0.5621058002380918 Test Accuracy = 0.6898608207702637\n",
            "[[412  98]\n",
            " [214 282]]\n",
            "actual epoch 19\n",
            "Epoch 1/1\n",
            "2465/2465 [==============================] - 225s 91ms/step - loss: 0.3739 - accuracy: 0.8355\n",
            "1006/1006 [==============================] - 1s 724us/step\n",
            "epoch 19 Loss = 0.9290364063520792 Test Accuracy = 0.5666003823280334\n",
            "[[ 87 423]\n",
            " [ 13 483]]\n"
          ],
          "name": "stdout"
        }
      ]
    },
    {
      "cell_type": "markdown",
      "metadata": {
        "id": "QdyafyP-2IO1",
        "colab_type": "text"
      },
      "source": [
        "\n",
        "|jobs | pix | train acc (%) | val acc (%) | epochs|notes|\n",
        "|-|-|-|-|-|-|\n",
        "|J152 vs J153, 1.5k:1.5k | 64 | 99 | 57-61 | 25-35||\n",
        "|J158 vs J159 good particles from excluded 2d (sort of particles) 17k:17k |64| 97-99|59-61 | 20-29||\n",
        "|J158 vs J162 junk (pretty bad) from good particles 17k:17k |64|99|99|3-6|can easily tell apart junk from good particles. train/test acc 95%/98% (sic) after one epoch. train time / epoch ranges 600-170s|\n",
        "|J167 v J168 side v top 3.5k:3.5k | 64 | 98 | 50-55 | 10-15 |  over trains and flatlines at 50% val after 24 epochs. not enouch data?|\n",
        "|J169 v J170 side v top with lp filter 12 A 3.5k:3.5k | 64 | 97-98| 50-55  |  15-30 |  lp filter does not help|\n",
        "|ouhn Data1 P1 J996 v J997, 3.5k:3.5k IP3R top v side| 128 | 96-97 | 55-60|8-10|can not distinguish side classes that are easy in 2D|\n",
        "|ouhn Data1 P1 J996 v J997, 3.5k:3.5k IP3R top v side| 128 | 70 | 50|20|+ augmentation (random angle). training slower, but rising stedily. prediction loss jumping around but accuracy constant at 50% |\n",
        "|(\"\")| 128 | 80-86 | 65-85 (outlier min 54 on epoch 31)|30-40|+ augmentation (random angle). need many more epochs to train, about epoch 25-30 validation accuracy starts to rise |\n",
        "|(\"\")| 128 | 87-90 | 52-85 |45-55|+ augmentation (random angle). validation accuracy getting consistenty better, but dips |\n",
        "| ouhn Data1 P1 J930 J931 36k:36k topaz picks: high res 2d vs bad particles (second round in 2d class)|64|78-94|69-66|5-10. (ok speed at 5min/ep, 85ms/20 sample batch|no augmentation. dropout rate 50%. validation accuracy peaks around 3-4 epochs, in high 60s then decreases; overfitting|\n",
        "| (\")|64|63-69; 53 outlier|76-77|25-30 (ok speed at 5min/ep, 85ms/20 sample batch|+ augmentation. dropout rate 50%. validation accuracy rises from 50 around ep 14 and bounces around but increased on average. no overfitting bc training acc slowly increasing|\n",
        "| ouhn Data1 P1 J940 J941 3.9k:3.9k IP3R like class from het ref -> 2d class -> really good from bad (low particles per class) |64|60|49-54|90-100 |+ augmentation. dropout rate 50%. validation accuracy mainly around 50. cant train. takes many epochs training acc to rise above 50. loss plateaus: 0.71 ep 30 0.68 ep 50 0.676 ep 75 0.665 ep 100. need more data? |\n",
        "| (\") |64|98-99|54-56|6-10 |no augmentation. dropout rate 50%. overtrains.validation acc best in first 5 epochs, then lowers |\n",
        "|J966 J967 45k abinit -> 2 polled junk classes vs good, 9.4k:9.4k| 64|60 by ep 10; max 65 at ep 50 | 49-62 ep 40-50|ended at 50 ep|+aug. dr 50. too difficult to train? loss plateauing at |\n",
        "|J977 J978 J989; 4.7k each; protomer, side tetramer, top tetramer|64|start random (0.34 acc bc 3 classes, 60 by ep 4, 90 by ep 10)|validatoin bouncing around 0.37-0.42. perhaps peaks at epoch 10| max 14 epochs|no aug. dr 50. overfitting|\n",
        "|(\") (three_classes)|64|50 by ep 6; 78 by ep 50|50 by ep 11; 63-67 by ep 50|50|+ aug. dr50. loss still decreasing at ep 50, train more|\n",
        "|J1002 J1003. 5k each. snr 0.05. `sim_data_3mer_4mer`|64|95+ first epoch|50|10|yes aug. not overtraining since with no aug validation acc high. fails bc augmenting artefact. should also mimic augment on prediction to keep consistent|\n",
        "|J1002 J1003. 5k each. snr 0.05. `sim_data_3mer_4mer_aug`|64|98.9 first epoch|99.8 first epoch|99.9 by 3 ep|no aug. not overtraining since with no aug validation acc high. fails bc augmenting artefact. should also mimic augment on prediction to keep consistent|\n",
        "|J1011 J1012. 5k each. snr 0.01. sim_data_3mer_4mer_snr0.01_noaug_|64|99.2 1 ep; 99.99 by ep 2|100 1 ep|perfect by ep 1-3|no aug|\n",
        "|J1028,J930. 25k each. +/- micelle. different underlying picks. `micelle_noaug_`| 64 | 90 by ep 7; 97 by ep 13 | 72 by ep 3, but stays; max 74 by ep 13;  ||no aug|\n"
      ]
    },
    {
      "cell_type": "code",
      "metadata": {
        "id": "1K7PXBEIlMVF",
        "colab_type": "code",
        "colab": {
          "base_uri": "https://localhost:8080/",
          "height": 221
        },
        "outputId": "ce48564a-afe4-4113-f7c0-b2bbcf17bc4c"
      },
      "source": [
        "!ls /keras_models/"
      ],
      "execution_count": 30,
      "outputs": [
        {
          "output_type": "stream",
          "text": [
            "sim_data_3mer_4mer_noaug_20200420-031213_ep0.h5\n",
            "sim_data_3mer_4mer_noaug_20200420-031213_ep1.h5\n",
            "sim_data_3mer_4mer_noaug_20200420-031213_ep2.h5\n",
            "sim_data_3mer_4mer_noaug_20200420-031213_ep3.h5\n",
            "sim_data_3mer_4mer_noaug_20200420-031213_ep4.h5\n",
            "sim_data_3mer_4mer_noaug_20200420-031213_ep5.h5\n",
            "three_classes_20200420-030444_ep0.h5\n",
            "three_classes_20200420-030444_ep1.h5\n",
            "three_classes_20200420-030444_ep2.h5\n",
            "three_classes_20200420-030444_ep3.h5\n",
            "three_classes_20200420-030444_ep4.h5\n",
            "three_classes_20200420-030444_ep5.h5\n"
          ],
          "name": "stdout"
        }
      ]
    },
    {
      "cell_type": "code",
      "metadata": {
        "id": "8eG_5-bFtbJu",
        "colab_type": "code",
        "outputId": "a559cdd3-6d93-4cb4-ff28-15dffa700611",
        "colab": {
          "base_uri": "https://localhost:8080/",
          "height": 164
        }
      },
      "source": [
        "model.summary()"
      ],
      "execution_count": 1,
      "outputs": [
        {
          "output_type": "error",
          "ename": "NameError",
          "evalue": "ignored",
          "traceback": [
            "\u001b[0;31m---------------------------------------------------------------------------\u001b[0m",
            "\u001b[0;31mNameError\u001b[0m                                 Traceback (most recent call last)",
            "\u001b[0;32m<ipython-input-1-5f15418b3570>\u001b[0m in \u001b[0;36m<module>\u001b[0;34m()\u001b[0m\n\u001b[0;32m----> 1\u001b[0;31m \u001b[0mmodel\u001b[0m\u001b[0;34m.\u001b[0m\u001b[0msummary\u001b[0m\u001b[0;34m(\u001b[0m\u001b[0;34m)\u001b[0m\u001b[0;34m\u001b[0m\u001b[0;34m\u001b[0m\u001b[0m\n\u001b[0m",
            "\u001b[0;31mNameError\u001b[0m: name 'model' is not defined"
          ]
        }
      ]
    }
  ]
}