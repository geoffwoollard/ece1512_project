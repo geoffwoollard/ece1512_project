{
  "nbformat": 4,
  "nbformat_minor": 0,
  "metadata": {
    "kernelspec": {
      "name": "python3",
      "display_name": "Python 3"
    },
    "colab": {
      "name": "cryo_transfer_learning.ipynb",
      "provenance": [],
      "collapsed_sections": [
        "Rk85R1hLOXI6"
      ],
      "include_colab_link": true
    },
    "accelerator": "GPU"
  },
  "cells": [
    {
      "cell_type": "markdown",
      "metadata": {
        "id": "view-in-github",
        "colab_type": "text"
      },
      "source": [
        "<a href=\"https://colab.research.google.com/github/geoffwoollard/ece1512_project/blob/master/nb/cryo_transfer_learning.ipynb\" target=\"_parent\"><img src=\"https://colab.research.google.com/assets/colab-badge.svg\" alt=\"Open In Colab\"/></a>"
      ]
    },
    {
      "cell_type": "markdown",
      "metadata": {
        "id": "xsUv03M8Ia04",
        "colab_type": "text"
      },
      "source": [
        "# TODO\n",
        "- GPU to TPU? https://www.kdnuggets.com/2019/03/train-keras-model-20x-faster-tpu-free.html\n",
        "- [add gussian noise](https://towardsdatascience.com/noise-its-not-always-annoying-1bd5f0f240f)\n",
        "- window particles"
      ]
    },
    {
      "cell_type": "markdown",
      "metadata": {
        "id": "6B42q42-cIgc",
        "colab_type": "text"
      },
      "source": [
        "# Goal\n",
        "* implement transfer leaning (using pretrained architecture)\n",
        "\n",
        "# Resources\n",
        "* [Transfer Learning in Keras with Computer Vision Models](https://machinelearningmastery.com/how-to-use-transfer-learning-when-developing-convolutional-neural-network-models/)\n",
        "* [Deep Learning using Transfer Learning -Python Code for ResNet50](https://towardsdatascience.com/deep-learning-using-transfer-learning-python-code-for-resnet50-8acdfb3a2d38)\n"
      ]
    },
    {
      "cell_type": "code",
      "metadata": {
        "id": "cvWgqYkjtmRr",
        "colab_type": "code",
        "outputId": "857bf0da-af8d-49d2-d7e4-5be7ad012c8f",
        "colab": {
          "base_uri": "https://localhost:8080/",
          "height": 122
        }
      },
      "source": [
        "from google.colab import drive\n",
        "drive.mount('/content/drive/')\n"
      ],
      "execution_count": 1,
      "outputs": [
        {
          "output_type": "stream",
          "text": [
            "Go to this URL in a browser: https://accounts.google.com/o/oauth2/auth?client_id=947318989803-6bn6qk8qdgf4n4g3pfee6491hc0brc4i.apps.googleusercontent.com&redirect_uri=urn%3aietf%3awg%3aoauth%3a2.0%3aoob&response_type=code&scope=email%20https%3a%2f%2fwww.googleapis.com%2fauth%2fdocs.test%20https%3a%2f%2fwww.googleapis.com%2fauth%2fdrive%20https%3a%2f%2fwww.googleapis.com%2fauth%2fdrive.photos.readonly%20https%3a%2f%2fwww.googleapis.com%2fauth%2fpeopleapi.readonly\n",
            "\n",
            "Enter your authorization code:\n",
            "··········\n",
            "Mounted at /content/drive/\n"
          ],
          "name": "stdout"
        }
      ]
    },
    {
      "cell_type": "code",
      "metadata": {
        "id": "AQBWjn05tt5a",
        "colab_type": "code",
        "outputId": "e05a947b-e713-4d0e-c81d-2a726fa9feb5",
        "colab": {
          "base_uri": "https://localhost:8080/",
          "height": 68
        }
      },
      "source": [
        "%cd /content/drive/My\\ Drive/mbp/mohammad/ece1512_project\n",
        "import mrc, fit_generator_helper, customizable_deep_network\n",
        "import importlib\n",
        "importlib.reload(fit_generator_helper)\n"
      ],
      "execution_count": 2,
      "outputs": [
        {
          "output_type": "stream",
          "text": [
            "/content/drive/My Drive/mbp/mohammad/ece1512_project\n"
          ],
          "name": "stdout"
        },
        {
          "output_type": "stream",
          "text": [
            "Using TensorFlow backend.\n"
          ],
          "name": "stderr"
        },
        {
          "output_type": "execute_result",
          "data": {
            "text/plain": [
              "<module 'fit_generator_helper' from '/content/drive/My Drive/mbp/mohammad/ece1512_project/fit_generator_helper.py'>"
            ]
          },
          "metadata": {
            "tags": []
          },
          "execution_count": 2
        }
      ]
    },
    {
      "cell_type": "code",
      "metadata": {
        "id": "FPxcUJiFtbJT",
        "colab_type": "code",
        "colab": {}
      },
      "source": [
        "import pandas as pd\n",
        "import numpy as np \n",
        "import matplotlib.pyplot as plt\n",
        "import os, shutil\n",
        "\n",
        "from keras.models import load_model\n",
        "from sklearn.datasets import load_files   \n",
        "from keras.utils import np_utils\n",
        "from glob import glob\n",
        "from keras import applications\n",
        "from keras.preprocessing.image import ImageDataGenerator \n",
        "from keras import optimizers\n",
        "from keras.models import Sequential,Model,load_model\n",
        "from keras.layers import Dense, Dropout, Flatten, Conv2D, MaxPool2D,GlobalAveragePooling2D\n",
        "from keras.callbacks import TensorBoard,ReduceLROnPlateau,ModelCheckpoint"
      ],
      "execution_count": 0,
      "outputs": []
    },
    {
      "cell_type": "markdown",
      "metadata": {
        "id": "m9k6oFjbtbJa",
        "colab_type": "text"
      },
      "source": [
        "### Load the data set"
      ]
    },
    {
      "cell_type": "code",
      "metadata": {
        "id": "X-ZOUF17xWaK",
        "colab_type": "code",
        "colab": {}
      },
      "source": [
        "labels = []\n",
        "files = []\n",
        "#label_d = {'J977':0,'J978':1,'J979':2} # protomer, side, top\n",
        "label_d = {'J1028':0,'J930':1} # +/- micelle. different underlying picks\n",
        "for jdir in label_d.keys():\n",
        "  slow_dir = '/content/drive/My Drive/mbp/mohammad/ece1512_project/data/ouhn_Data1_P1/%s'% jdir\n",
        "  fast_dir = '/%s'% jdir\n",
        "  if not os.path.exists(fast_dir):\n",
        "    shutil.copytree(slow_dir,fast_dir) #!cp -r /content/drive/My\\ Drive/mbp/mohammad/ece1512_project/data/ouhn_Data1_P1/J1028 /\n",
        "  for fname in glob('/%s/downsample/*mrc' % jdir): #glob('/content/drive/My Drive/mbp/mohammad/ece1512_project/data/ouhn_Data1_P1/%s/downsample/*mrc' % jdir): \n",
        "    files.append(fname)\n",
        "    labels.append(label_d[jdir])\n"
      ],
      "execution_count": 0,
      "outputs": []
    },
    {
      "cell_type": "code",
      "metadata": {
        "id": "nPZuXFsHxd88",
        "colab_type": "code",
        "outputId": "5fc1bb1c-3e31-4647-b75e-075d1055ebed",
        "colab": {
          "base_uri": "https://localhost:8080/",
          "height": 68
        }
      },
      "source": [
        "df = fit_generator_helper.parse_files(files,labels)\n",
        "\n",
        "header = mrc.read_header(df['fname'].iloc[0])\n",
        "nx,ny = header['nx'], header['ny']\n",
        "\n",
        "n = int(df['class'].value_counts().min())\n",
        "df0 = df.loc[(df['class'] == 0)].sample(n)\n",
        "df1 = df.loc[(df['class'] == 1)].sample(n)\n",
        "#df2 = df.loc[(df['class'] == 2)].sample(n)\n",
        "\n",
        "df = pd.concat([df0,df1])\n",
        "#df = pd.concat([df0,df1,df2])\n",
        "\n",
        "\n",
        "df = df.sample(df.shape[0])\n",
        "\n",
        "df['class'].value_counts() "
      ],
      "execution_count": 16,
      "outputs": [
        {
          "output_type": "execute_result",
          "data": {
            "text/plain": [
              "1    25158\n",
              "0    25158\n",
              "Name: class, dtype: int64"
            ]
          },
          "metadata": {
            "tags": []
          },
          "execution_count": 16
        }
      ]
    },
    {
      "cell_type": "code",
      "metadata": {
        "id": "ggdJWuHrxlc1",
        "colab_type": "code",
        "outputId": "ab46cb53-488e-4c61-89f8-b60f4592a02c",
        "colab": {
          "base_uri": "https://localhost:8080/",
          "height": 34
        }
      },
      "source": [
        "# test/train split\n",
        "val_n = int(0.02*df.shape[0]) \n",
        "df_val = df.iloc[-val_n:]\n",
        "df = df.iloc[:-val_n]\n",
        "df.shape, df_val.shape"
      ],
      "execution_count": 18,
      "outputs": [
        {
          "output_type": "execute_result",
          "data": {
            "text/plain": [
              "((49310, 3), (1006, 3))"
            ]
          },
          "metadata": {
            "tags": []
          },
          "execution_count": 18
        }
      ]
    },
    {
      "cell_type": "code",
      "metadata": {
        "id": "zUgi8p4Dxoo0",
        "colab_type": "code",
        "outputId": "f0786cf4-e500-4059-f190-ec0489abb5e6",
        "colab": {
          "base_uri": "https://localhost:8080/",
          "height": 68
        }
      },
      "source": [
        "%%time\n",
        "# 12 min 3.4k\n",
        "# 13 min 3.4k\n",
        "# 33s 100 \n",
        "# 2.5s/3.25min 706\n",
        "X_val,Y_val = fit_generator_helper.XY_from_df_batch(df_val,nx=nx,ny=ny,num_classes=df['class'].unique().size)\n",
        "print(X_val.shape)"
      ],
      "execution_count": 19,
      "outputs": [
        {
          "output_type": "stream",
          "text": [
            "(1006, 64, 64, 1)\n",
            "CPU times: user 131 ms, sys: 42.3 ms, total: 173 ms\n",
            "Wall time: 178 ms\n"
          ],
          "name": "stdout"
        }
      ]
    },
    {
      "cell_type": "markdown",
      "metadata": {
        "id": "-20mUvAwwguQ",
        "colab_type": "text"
      },
      "source": [
        "# Model"
      ]
    },
    {
      "cell_type": "code",
      "metadata": {
        "id": "mSZ3GjiPtbJf",
        "colab_type": "code",
        "outputId": "d241a88b-396d-4fcc-dcc7-9a8c34ad2cd0",
        "colab": {
          "base_uri": "https://localhost:8080/",
          "height": 105
        }
      },
      "source": [
        "img_height,img_width = nx,ny \n",
        "num_classes = df['class'].unique().size\n",
        "#If imagenet weights are being loaded, \n",
        "#input must have a static square shape (one of (128, 128), (160, 160), (192, 192), or (224, 224))\n",
        "#base_model = applications.resnet50.ResNet50(weights= None, include_top=False, input_shape= (img_height,img_width,1))\n",
        "input_shape=(img_height,img_width,3)\n",
        "restnet = applications.resnet50.ResNet50(weights= 'imagenet', include_top=False, input_shape= input_shape)"
      ],
      "execution_count": 20,
      "outputs": [
        {
          "output_type": "stream",
          "text": [
            "/usr/local/lib/python3.6/dist-packages/keras_applications/resnet50.py:265: UserWarning: The output shape of `ResNet50(include_top=False)` has been changed since Keras 2.2.0.\n",
            "  warnings.warn('The output shape of `ResNet50(include_top=False)` '\n"
          ],
          "name": "stderr"
        },
        {
          "output_type": "stream",
          "text": [
            "Downloading data from https://github.com/fchollet/deep-learning-models/releases/download/v0.2/resnet50_weights_tf_dim_ordering_tf_kernels_notop.h5\n",
            "94658560/94653016 [==============================] - 4s 0us/step\n"
          ],
          "name": "stdout"
        }
      ]
    },
    {
      "cell_type": "code",
      "metadata": {
        "id": "GwmTzrWqxxXh",
        "colab_type": "code",
        "outputId": "9a98905b-162e-41fb-a025-dbed76b5597a",
        "colab": {
          "base_uri": "https://localhost:8080/",
          "height": 1000
        }
      },
      "source": [
        "output = restnet.layers[-1].output\n",
        "output = Flatten()(output)\n",
        "restnet = Model(restnet.input, output=output)\n",
        "for layer in restnet.layers:\n",
        "    layer.trainable = False\n",
        "restnet.summary()\n"
      ],
      "execution_count": 0,
      "outputs": [
        {
          "output_type": "stream",
          "text": [
            "Model: \"model_1\"\n",
            "__________________________________________________________________________________________________\n",
            "Layer (type)                    Output Shape         Param #     Connected to                     \n",
            "==================================================================================================\n",
            "input_1 (InputLayer)            (None, 64, 64, 3)    0                                            \n",
            "__________________________________________________________________________________________________\n",
            "conv1_pad (ZeroPadding2D)       (None, 70, 70, 3)    0           input_1[0][0]                    \n",
            "__________________________________________________________________________________________________\n",
            "conv1 (Conv2D)                  (None, 32, 32, 64)   9472        conv1_pad[0][0]                  \n",
            "__________________________________________________________________________________________________\n",
            "bn_conv1 (BatchNormalization)   (None, 32, 32, 64)   256         conv1[0][0]                      \n",
            "__________________________________________________________________________________________________\n",
            "activation_1 (Activation)       (None, 32, 32, 64)   0           bn_conv1[0][0]                   \n",
            "__________________________________________________________________________________________________\n",
            "pool1_pad (ZeroPadding2D)       (None, 34, 34, 64)   0           activation_1[0][0]               \n",
            "__________________________________________________________________________________________________\n",
            "max_pooling2d_1 (MaxPooling2D)  (None, 16, 16, 64)   0           pool1_pad[0][0]                  \n",
            "__________________________________________________________________________________________________\n",
            "res2a_branch2a (Conv2D)         (None, 16, 16, 64)   4160        max_pooling2d_1[0][0]            \n",
            "__________________________________________________________________________________________________\n",
            "bn2a_branch2a (BatchNormalizati (None, 16, 16, 64)   256         res2a_branch2a[0][0]             \n",
            "__________________________________________________________________________________________________\n",
            "activation_2 (Activation)       (None, 16, 16, 64)   0           bn2a_branch2a[0][0]              \n",
            "__________________________________________________________________________________________________\n",
            "res2a_branch2b (Conv2D)         (None, 16, 16, 64)   36928       activation_2[0][0]               \n",
            "__________________________________________________________________________________________________\n",
            "bn2a_branch2b (BatchNormalizati (None, 16, 16, 64)   256         res2a_branch2b[0][0]             \n",
            "__________________________________________________________________________________________________\n",
            "activation_3 (Activation)       (None, 16, 16, 64)   0           bn2a_branch2b[0][0]              \n",
            "__________________________________________________________________________________________________\n",
            "res2a_branch2c (Conv2D)         (None, 16, 16, 256)  16640       activation_3[0][0]               \n",
            "__________________________________________________________________________________________________\n",
            "res2a_branch1 (Conv2D)          (None, 16, 16, 256)  16640       max_pooling2d_1[0][0]            \n",
            "__________________________________________________________________________________________________\n",
            "bn2a_branch2c (BatchNormalizati (None, 16, 16, 256)  1024        res2a_branch2c[0][0]             \n",
            "__________________________________________________________________________________________________\n",
            "bn2a_branch1 (BatchNormalizatio (None, 16, 16, 256)  1024        res2a_branch1[0][0]              \n",
            "__________________________________________________________________________________________________\n",
            "add_1 (Add)                     (None, 16, 16, 256)  0           bn2a_branch2c[0][0]              \n",
            "                                                                 bn2a_branch1[0][0]               \n",
            "__________________________________________________________________________________________________\n",
            "activation_4 (Activation)       (None, 16, 16, 256)  0           add_1[0][0]                      \n",
            "__________________________________________________________________________________________________\n",
            "res2b_branch2a (Conv2D)         (None, 16, 16, 64)   16448       activation_4[0][0]               \n",
            "__________________________________________________________________________________________________\n",
            "bn2b_branch2a (BatchNormalizati (None, 16, 16, 64)   256         res2b_branch2a[0][0]             \n",
            "__________________________________________________________________________________________________\n",
            "activation_5 (Activation)       (None, 16, 16, 64)   0           bn2b_branch2a[0][0]              \n",
            "__________________________________________________________________________________________________\n",
            "res2b_branch2b (Conv2D)         (None, 16, 16, 64)   36928       activation_5[0][0]               \n",
            "__________________________________________________________________________________________________\n",
            "bn2b_branch2b (BatchNormalizati (None, 16, 16, 64)   256         res2b_branch2b[0][0]             \n",
            "__________________________________________________________________________________________________\n",
            "activation_6 (Activation)       (None, 16, 16, 64)   0           bn2b_branch2b[0][0]              \n",
            "__________________________________________________________________________________________________\n",
            "res2b_branch2c (Conv2D)         (None, 16, 16, 256)  16640       activation_6[0][0]               \n",
            "__________________________________________________________________________________________________\n",
            "bn2b_branch2c (BatchNormalizati (None, 16, 16, 256)  1024        res2b_branch2c[0][0]             \n",
            "__________________________________________________________________________________________________\n",
            "add_2 (Add)                     (None, 16, 16, 256)  0           bn2b_branch2c[0][0]              \n",
            "                                                                 activation_4[0][0]               \n",
            "__________________________________________________________________________________________________\n",
            "activation_7 (Activation)       (None, 16, 16, 256)  0           add_2[0][0]                      \n",
            "__________________________________________________________________________________________________\n",
            "res2c_branch2a (Conv2D)         (None, 16, 16, 64)   16448       activation_7[0][0]               \n",
            "__________________________________________________________________________________________________\n",
            "bn2c_branch2a (BatchNormalizati (None, 16, 16, 64)   256         res2c_branch2a[0][0]             \n",
            "__________________________________________________________________________________________________\n",
            "activation_8 (Activation)       (None, 16, 16, 64)   0           bn2c_branch2a[0][0]              \n",
            "__________________________________________________________________________________________________\n",
            "res2c_branch2b (Conv2D)         (None, 16, 16, 64)   36928       activation_8[0][0]               \n",
            "__________________________________________________________________________________________________\n",
            "bn2c_branch2b (BatchNormalizati (None, 16, 16, 64)   256         res2c_branch2b[0][0]             \n",
            "__________________________________________________________________________________________________\n",
            "activation_9 (Activation)       (None, 16, 16, 64)   0           bn2c_branch2b[0][0]              \n",
            "__________________________________________________________________________________________________\n",
            "res2c_branch2c (Conv2D)         (None, 16, 16, 256)  16640       activation_9[0][0]               \n",
            "__________________________________________________________________________________________________\n",
            "bn2c_branch2c (BatchNormalizati (None, 16, 16, 256)  1024        res2c_branch2c[0][0]             \n",
            "__________________________________________________________________________________________________\n",
            "add_3 (Add)                     (None, 16, 16, 256)  0           bn2c_branch2c[0][0]              \n",
            "                                                                 activation_7[0][0]               \n",
            "__________________________________________________________________________________________________\n",
            "activation_10 (Activation)      (None, 16, 16, 256)  0           add_3[0][0]                      \n",
            "__________________________________________________________________________________________________\n",
            "res3a_branch2a (Conv2D)         (None, 8, 8, 128)    32896       activation_10[0][0]              \n",
            "__________________________________________________________________________________________________\n",
            "bn3a_branch2a (BatchNormalizati (None, 8, 8, 128)    512         res3a_branch2a[0][0]             \n",
            "__________________________________________________________________________________________________\n",
            "activation_11 (Activation)      (None, 8, 8, 128)    0           bn3a_branch2a[0][0]              \n",
            "__________________________________________________________________________________________________\n",
            "res3a_branch2b (Conv2D)         (None, 8, 8, 128)    147584      activation_11[0][0]              \n",
            "__________________________________________________________________________________________________\n",
            "bn3a_branch2b (BatchNormalizati (None, 8, 8, 128)    512         res3a_branch2b[0][0]             \n",
            "__________________________________________________________________________________________________\n",
            "activation_12 (Activation)      (None, 8, 8, 128)    0           bn3a_branch2b[0][0]              \n",
            "__________________________________________________________________________________________________\n",
            "res3a_branch2c (Conv2D)         (None, 8, 8, 512)    66048       activation_12[0][0]              \n",
            "__________________________________________________________________________________________________\n",
            "res3a_branch1 (Conv2D)          (None, 8, 8, 512)    131584      activation_10[0][0]              \n",
            "__________________________________________________________________________________________________\n",
            "bn3a_branch2c (BatchNormalizati (None, 8, 8, 512)    2048        res3a_branch2c[0][0]             \n",
            "__________________________________________________________________________________________________\n",
            "bn3a_branch1 (BatchNormalizatio (None, 8, 8, 512)    2048        res3a_branch1[0][0]              \n",
            "__________________________________________________________________________________________________\n",
            "add_4 (Add)                     (None, 8, 8, 512)    0           bn3a_branch2c[0][0]              \n",
            "                                                                 bn3a_branch1[0][0]               \n",
            "__________________________________________________________________________________________________\n",
            "activation_13 (Activation)      (None, 8, 8, 512)    0           add_4[0][0]                      \n",
            "__________________________________________________________________________________________________\n",
            "res3b_branch2a (Conv2D)         (None, 8, 8, 128)    65664       activation_13[0][0]              \n",
            "__________________________________________________________________________________________________\n",
            "bn3b_branch2a (BatchNormalizati (None, 8, 8, 128)    512         res3b_branch2a[0][0]             \n",
            "__________________________________________________________________________________________________\n",
            "activation_14 (Activation)      (None, 8, 8, 128)    0           bn3b_branch2a[0][0]              \n",
            "__________________________________________________________________________________________________\n",
            "res3b_branch2b (Conv2D)         (None, 8, 8, 128)    147584      activation_14[0][0]              \n",
            "__________________________________________________________________________________________________\n",
            "bn3b_branch2b (BatchNormalizati (None, 8, 8, 128)    512         res3b_branch2b[0][0]             \n",
            "__________________________________________________________________________________________________\n",
            "activation_15 (Activation)      (None, 8, 8, 128)    0           bn3b_branch2b[0][0]              \n",
            "__________________________________________________________________________________________________\n",
            "res3b_branch2c (Conv2D)         (None, 8, 8, 512)    66048       activation_15[0][0]              \n",
            "__________________________________________________________________________________________________\n",
            "bn3b_branch2c (BatchNormalizati (None, 8, 8, 512)    2048        res3b_branch2c[0][0]             \n",
            "__________________________________________________________________________________________________\n",
            "add_5 (Add)                     (None, 8, 8, 512)    0           bn3b_branch2c[0][0]              \n",
            "                                                                 activation_13[0][0]              \n",
            "__________________________________________________________________________________________________\n",
            "activation_16 (Activation)      (None, 8, 8, 512)    0           add_5[0][0]                      \n",
            "__________________________________________________________________________________________________\n",
            "res3c_branch2a (Conv2D)         (None, 8, 8, 128)    65664       activation_16[0][0]              \n",
            "__________________________________________________________________________________________________\n",
            "bn3c_branch2a (BatchNormalizati (None, 8, 8, 128)    512         res3c_branch2a[0][0]             \n",
            "__________________________________________________________________________________________________\n",
            "activation_17 (Activation)      (None, 8, 8, 128)    0           bn3c_branch2a[0][0]              \n",
            "__________________________________________________________________________________________________\n",
            "res3c_branch2b (Conv2D)         (None, 8, 8, 128)    147584      activation_17[0][0]              \n",
            "__________________________________________________________________________________________________\n",
            "bn3c_branch2b (BatchNormalizati (None, 8, 8, 128)    512         res3c_branch2b[0][0]             \n",
            "__________________________________________________________________________________________________\n",
            "activation_18 (Activation)      (None, 8, 8, 128)    0           bn3c_branch2b[0][0]              \n",
            "__________________________________________________________________________________________________\n",
            "res3c_branch2c (Conv2D)         (None, 8, 8, 512)    66048       activation_18[0][0]              \n",
            "__________________________________________________________________________________________________\n",
            "bn3c_branch2c (BatchNormalizati (None, 8, 8, 512)    2048        res3c_branch2c[0][0]             \n",
            "__________________________________________________________________________________________________\n",
            "add_6 (Add)                     (None, 8, 8, 512)    0           bn3c_branch2c[0][0]              \n",
            "                                                                 activation_16[0][0]              \n",
            "__________________________________________________________________________________________________\n",
            "activation_19 (Activation)      (None, 8, 8, 512)    0           add_6[0][0]                      \n",
            "__________________________________________________________________________________________________\n",
            "res3d_branch2a (Conv2D)         (None, 8, 8, 128)    65664       activation_19[0][0]              \n",
            "__________________________________________________________________________________________________\n",
            "bn3d_branch2a (BatchNormalizati (None, 8, 8, 128)    512         res3d_branch2a[0][0]             \n",
            "__________________________________________________________________________________________________\n",
            "activation_20 (Activation)      (None, 8, 8, 128)    0           bn3d_branch2a[0][0]              \n",
            "__________________________________________________________________________________________________\n",
            "res3d_branch2b (Conv2D)         (None, 8, 8, 128)    147584      activation_20[0][0]              \n",
            "__________________________________________________________________________________________________\n",
            "bn3d_branch2b (BatchNormalizati (None, 8, 8, 128)    512         res3d_branch2b[0][0]             \n",
            "__________________________________________________________________________________________________\n",
            "activation_21 (Activation)      (None, 8, 8, 128)    0           bn3d_branch2b[0][0]              \n",
            "__________________________________________________________________________________________________\n",
            "res3d_branch2c (Conv2D)         (None, 8, 8, 512)    66048       activation_21[0][0]              \n",
            "__________________________________________________________________________________________________\n",
            "bn3d_branch2c (BatchNormalizati (None, 8, 8, 512)    2048        res3d_branch2c[0][0]             \n",
            "__________________________________________________________________________________________________\n",
            "add_7 (Add)                     (None, 8, 8, 512)    0           bn3d_branch2c[0][0]              \n",
            "                                                                 activation_19[0][0]              \n",
            "__________________________________________________________________________________________________\n",
            "activation_22 (Activation)      (None, 8, 8, 512)    0           add_7[0][0]                      \n",
            "__________________________________________________________________________________________________\n",
            "res4a_branch2a (Conv2D)         (None, 4, 4, 256)    131328      activation_22[0][0]              \n",
            "__________________________________________________________________________________________________\n",
            "bn4a_branch2a (BatchNormalizati (None, 4, 4, 256)    1024        res4a_branch2a[0][0]             \n",
            "__________________________________________________________________________________________________\n",
            "activation_23 (Activation)      (None, 4, 4, 256)    0           bn4a_branch2a[0][0]              \n",
            "__________________________________________________________________________________________________\n",
            "res4a_branch2b (Conv2D)         (None, 4, 4, 256)    590080      activation_23[0][0]              \n",
            "__________________________________________________________________________________________________\n",
            "bn4a_branch2b (BatchNormalizati (None, 4, 4, 256)    1024        res4a_branch2b[0][0]             \n",
            "__________________________________________________________________________________________________\n",
            "activation_24 (Activation)      (None, 4, 4, 256)    0           bn4a_branch2b[0][0]              \n",
            "__________________________________________________________________________________________________\n",
            "res4a_branch2c (Conv2D)         (None, 4, 4, 1024)   263168      activation_24[0][0]              \n",
            "__________________________________________________________________________________________________\n",
            "res4a_branch1 (Conv2D)          (None, 4, 4, 1024)   525312      activation_22[0][0]              \n",
            "__________________________________________________________________________________________________\n",
            "bn4a_branch2c (BatchNormalizati (None, 4, 4, 1024)   4096        res4a_branch2c[0][0]             \n",
            "__________________________________________________________________________________________________\n",
            "bn4a_branch1 (BatchNormalizatio (None, 4, 4, 1024)   4096        res4a_branch1[0][0]              \n",
            "__________________________________________________________________________________________________\n",
            "add_8 (Add)                     (None, 4, 4, 1024)   0           bn4a_branch2c[0][0]              \n",
            "                                                                 bn4a_branch1[0][0]               \n",
            "__________________________________________________________________________________________________\n",
            "activation_25 (Activation)      (None, 4, 4, 1024)   0           add_8[0][0]                      \n",
            "__________________________________________________________________________________________________\n",
            "res4b_branch2a (Conv2D)         (None, 4, 4, 256)    262400      activation_25[0][0]              \n",
            "__________________________________________________________________________________________________\n",
            "bn4b_branch2a (BatchNormalizati (None, 4, 4, 256)    1024        res4b_branch2a[0][0]             \n",
            "__________________________________________________________________________________________________\n",
            "activation_26 (Activation)      (None, 4, 4, 256)    0           bn4b_branch2a[0][0]              \n",
            "__________________________________________________________________________________________________\n",
            "res4b_branch2b (Conv2D)         (None, 4, 4, 256)    590080      activation_26[0][0]              \n",
            "__________________________________________________________________________________________________\n",
            "bn4b_branch2b (BatchNormalizati (None, 4, 4, 256)    1024        res4b_branch2b[0][0]             \n",
            "__________________________________________________________________________________________________\n",
            "activation_27 (Activation)      (None, 4, 4, 256)    0           bn4b_branch2b[0][0]              \n",
            "__________________________________________________________________________________________________\n",
            "res4b_branch2c (Conv2D)         (None, 4, 4, 1024)   263168      activation_27[0][0]              \n",
            "__________________________________________________________________________________________________\n",
            "bn4b_branch2c (BatchNormalizati (None, 4, 4, 1024)   4096        res4b_branch2c[0][0]             \n",
            "__________________________________________________________________________________________________\n",
            "add_9 (Add)                     (None, 4, 4, 1024)   0           bn4b_branch2c[0][0]              \n",
            "                                                                 activation_25[0][0]              \n",
            "__________________________________________________________________________________________________\n",
            "activation_28 (Activation)      (None, 4, 4, 1024)   0           add_9[0][0]                      \n",
            "__________________________________________________________________________________________________\n",
            "res4c_branch2a (Conv2D)         (None, 4, 4, 256)    262400      activation_28[0][0]              \n",
            "__________________________________________________________________________________________________\n",
            "bn4c_branch2a (BatchNormalizati (None, 4, 4, 256)    1024        res4c_branch2a[0][0]             \n",
            "__________________________________________________________________________________________________\n",
            "activation_29 (Activation)      (None, 4, 4, 256)    0           bn4c_branch2a[0][0]              \n",
            "__________________________________________________________________________________________________\n",
            "res4c_branch2b (Conv2D)         (None, 4, 4, 256)    590080      activation_29[0][0]              \n",
            "__________________________________________________________________________________________________\n",
            "bn4c_branch2b (BatchNormalizati (None, 4, 4, 256)    1024        res4c_branch2b[0][0]             \n",
            "__________________________________________________________________________________________________\n",
            "activation_30 (Activation)      (None, 4, 4, 256)    0           bn4c_branch2b[0][0]              \n",
            "__________________________________________________________________________________________________\n",
            "res4c_branch2c (Conv2D)         (None, 4, 4, 1024)   263168      activation_30[0][0]              \n",
            "__________________________________________________________________________________________________\n",
            "bn4c_branch2c (BatchNormalizati (None, 4, 4, 1024)   4096        res4c_branch2c[0][0]             \n",
            "__________________________________________________________________________________________________\n",
            "add_10 (Add)                    (None, 4, 4, 1024)   0           bn4c_branch2c[0][0]              \n",
            "                                                                 activation_28[0][0]              \n",
            "__________________________________________________________________________________________________\n",
            "activation_31 (Activation)      (None, 4, 4, 1024)   0           add_10[0][0]                     \n",
            "__________________________________________________________________________________________________\n",
            "res4d_branch2a (Conv2D)         (None, 4, 4, 256)    262400      activation_31[0][0]              \n",
            "__________________________________________________________________________________________________\n",
            "bn4d_branch2a (BatchNormalizati (None, 4, 4, 256)    1024        res4d_branch2a[0][0]             \n",
            "__________________________________________________________________________________________________\n",
            "activation_32 (Activation)      (None, 4, 4, 256)    0           bn4d_branch2a[0][0]              \n",
            "__________________________________________________________________________________________________\n",
            "res4d_branch2b (Conv2D)         (None, 4, 4, 256)    590080      activation_32[0][0]              \n",
            "__________________________________________________________________________________________________\n",
            "bn4d_branch2b (BatchNormalizati (None, 4, 4, 256)    1024        res4d_branch2b[0][0]             \n",
            "__________________________________________________________________________________________________\n",
            "activation_33 (Activation)      (None, 4, 4, 256)    0           bn4d_branch2b[0][0]              \n",
            "__________________________________________________________________________________________________\n",
            "res4d_branch2c (Conv2D)         (None, 4, 4, 1024)   263168      activation_33[0][0]              \n",
            "__________________________________________________________________________________________________\n",
            "bn4d_branch2c (BatchNormalizati (None, 4, 4, 1024)   4096        res4d_branch2c[0][0]             \n",
            "__________________________________________________________________________________________________\n",
            "add_11 (Add)                    (None, 4, 4, 1024)   0           bn4d_branch2c[0][0]              \n",
            "                                                                 activation_31[0][0]              \n",
            "__________________________________________________________________________________________________\n",
            "activation_34 (Activation)      (None, 4, 4, 1024)   0           add_11[0][0]                     \n",
            "__________________________________________________________________________________________________\n",
            "res4e_branch2a (Conv2D)         (None, 4, 4, 256)    262400      activation_34[0][0]              \n",
            "__________________________________________________________________________________________________\n",
            "bn4e_branch2a (BatchNormalizati (None, 4, 4, 256)    1024        res4e_branch2a[0][0]             \n",
            "__________________________________________________________________________________________________\n",
            "activation_35 (Activation)      (None, 4, 4, 256)    0           bn4e_branch2a[0][0]              \n",
            "__________________________________________________________________________________________________\n",
            "res4e_branch2b (Conv2D)         (None, 4, 4, 256)    590080      activation_35[0][0]              \n",
            "__________________________________________________________________________________________________\n",
            "bn4e_branch2b (BatchNormalizati (None, 4, 4, 256)    1024        res4e_branch2b[0][0]             \n",
            "__________________________________________________________________________________________________\n",
            "activation_36 (Activation)      (None, 4, 4, 256)    0           bn4e_branch2b[0][0]              \n",
            "__________________________________________________________________________________________________\n",
            "res4e_branch2c (Conv2D)         (None, 4, 4, 1024)   263168      activation_36[0][0]              \n",
            "__________________________________________________________________________________________________\n",
            "bn4e_branch2c (BatchNormalizati (None, 4, 4, 1024)   4096        res4e_branch2c[0][0]             \n",
            "__________________________________________________________________________________________________\n",
            "add_12 (Add)                    (None, 4, 4, 1024)   0           bn4e_branch2c[0][0]              \n",
            "                                                                 activation_34[0][0]              \n",
            "__________________________________________________________________________________________________\n",
            "activation_37 (Activation)      (None, 4, 4, 1024)   0           add_12[0][0]                     \n",
            "__________________________________________________________________________________________________\n",
            "res4f_branch2a (Conv2D)         (None, 4, 4, 256)    262400      activation_37[0][0]              \n",
            "__________________________________________________________________________________________________\n",
            "bn4f_branch2a (BatchNormalizati (None, 4, 4, 256)    1024        res4f_branch2a[0][0]             \n",
            "__________________________________________________________________________________________________\n",
            "activation_38 (Activation)      (None, 4, 4, 256)    0           bn4f_branch2a[0][0]              \n",
            "__________________________________________________________________________________________________\n",
            "res4f_branch2b (Conv2D)         (None, 4, 4, 256)    590080      activation_38[0][0]              \n",
            "__________________________________________________________________________________________________\n",
            "bn4f_branch2b (BatchNormalizati (None, 4, 4, 256)    1024        res4f_branch2b[0][0]             \n",
            "__________________________________________________________________________________________________\n",
            "activation_39 (Activation)      (None, 4, 4, 256)    0           bn4f_branch2b[0][0]              \n",
            "__________________________________________________________________________________________________\n",
            "res4f_branch2c (Conv2D)         (None, 4, 4, 1024)   263168      activation_39[0][0]              \n",
            "__________________________________________________________________________________________________\n",
            "bn4f_branch2c (BatchNormalizati (None, 4, 4, 1024)   4096        res4f_branch2c[0][0]             \n",
            "__________________________________________________________________________________________________\n",
            "add_13 (Add)                    (None, 4, 4, 1024)   0           bn4f_branch2c[0][0]              \n",
            "                                                                 activation_37[0][0]              \n",
            "__________________________________________________________________________________________________\n",
            "activation_40 (Activation)      (None, 4, 4, 1024)   0           add_13[0][0]                     \n",
            "__________________________________________________________________________________________________\n",
            "res5a_branch2a (Conv2D)         (None, 2, 2, 512)    524800      activation_40[0][0]              \n",
            "__________________________________________________________________________________________________\n",
            "bn5a_branch2a (BatchNormalizati (None, 2, 2, 512)    2048        res5a_branch2a[0][0]             \n",
            "__________________________________________________________________________________________________\n",
            "activation_41 (Activation)      (None, 2, 2, 512)    0           bn5a_branch2a[0][0]              \n",
            "__________________________________________________________________________________________________\n",
            "res5a_branch2b (Conv2D)         (None, 2, 2, 512)    2359808     activation_41[0][0]              \n",
            "__________________________________________________________________________________________________\n",
            "bn5a_branch2b (BatchNormalizati (None, 2, 2, 512)    2048        res5a_branch2b[0][0]             \n",
            "__________________________________________________________________________________________________\n",
            "activation_42 (Activation)      (None, 2, 2, 512)    0           bn5a_branch2b[0][0]              \n",
            "__________________________________________________________________________________________________\n",
            "res5a_branch2c (Conv2D)         (None, 2, 2, 2048)   1050624     activation_42[0][0]              \n",
            "__________________________________________________________________________________________________\n",
            "res5a_branch1 (Conv2D)          (None, 2, 2, 2048)   2099200     activation_40[0][0]              \n",
            "__________________________________________________________________________________________________\n",
            "bn5a_branch2c (BatchNormalizati (None, 2, 2, 2048)   8192        res5a_branch2c[0][0]             \n",
            "__________________________________________________________________________________________________\n",
            "bn5a_branch1 (BatchNormalizatio (None, 2, 2, 2048)   8192        res5a_branch1[0][0]              \n",
            "__________________________________________________________________________________________________\n",
            "add_14 (Add)                    (None, 2, 2, 2048)   0           bn5a_branch2c[0][0]              \n",
            "                                                                 bn5a_branch1[0][0]               \n",
            "__________________________________________________________________________________________________\n",
            "activation_43 (Activation)      (None, 2, 2, 2048)   0           add_14[0][0]                     \n",
            "__________________________________________________________________________________________________\n",
            "res5b_branch2a (Conv2D)         (None, 2, 2, 512)    1049088     activation_43[0][0]              \n",
            "__________________________________________________________________________________________________\n",
            "bn5b_branch2a (BatchNormalizati (None, 2, 2, 512)    2048        res5b_branch2a[0][0]             \n",
            "__________________________________________________________________________________________________\n",
            "activation_44 (Activation)      (None, 2, 2, 512)    0           bn5b_branch2a[0][0]              \n",
            "__________________________________________________________________________________________________\n",
            "res5b_branch2b (Conv2D)         (None, 2, 2, 512)    2359808     activation_44[0][0]              \n",
            "__________________________________________________________________________________________________\n",
            "bn5b_branch2b (BatchNormalizati (None, 2, 2, 512)    2048        res5b_branch2b[0][0]             \n",
            "__________________________________________________________________________________________________\n",
            "activation_45 (Activation)      (None, 2, 2, 512)    0           bn5b_branch2b[0][0]              \n",
            "__________________________________________________________________________________________________\n",
            "res5b_branch2c (Conv2D)         (None, 2, 2, 2048)   1050624     activation_45[0][0]              \n",
            "__________________________________________________________________________________________________\n",
            "bn5b_branch2c (BatchNormalizati (None, 2, 2, 2048)   8192        res5b_branch2c[0][0]             \n",
            "__________________________________________________________________________________________________\n",
            "add_15 (Add)                    (None, 2, 2, 2048)   0           bn5b_branch2c[0][0]              \n",
            "                                                                 activation_43[0][0]              \n",
            "__________________________________________________________________________________________________\n",
            "activation_46 (Activation)      (None, 2, 2, 2048)   0           add_15[0][0]                     \n",
            "__________________________________________________________________________________________________\n",
            "res5c_branch2a (Conv2D)         (None, 2, 2, 512)    1049088     activation_46[0][0]              \n",
            "__________________________________________________________________________________________________\n",
            "bn5c_branch2a (BatchNormalizati (None, 2, 2, 512)    2048        res5c_branch2a[0][0]             \n",
            "__________________________________________________________________________________________________\n",
            "activation_47 (Activation)      (None, 2, 2, 512)    0           bn5c_branch2a[0][0]              \n",
            "__________________________________________________________________________________________________\n",
            "res5c_branch2b (Conv2D)         (None, 2, 2, 512)    2359808     activation_47[0][0]              \n",
            "__________________________________________________________________________________________________\n",
            "bn5c_branch2b (BatchNormalizati (None, 2, 2, 512)    2048        res5c_branch2b[0][0]             \n",
            "__________________________________________________________________________________________________\n",
            "activation_48 (Activation)      (None, 2, 2, 512)    0           bn5c_branch2b[0][0]              \n",
            "__________________________________________________________________________________________________\n",
            "res5c_branch2c (Conv2D)         (None, 2, 2, 2048)   1050624     activation_48[0][0]              \n",
            "__________________________________________________________________________________________________\n",
            "bn5c_branch2c (BatchNormalizati (None, 2, 2, 2048)   8192        res5c_branch2c[0][0]             \n",
            "__________________________________________________________________________________________________\n",
            "add_16 (Add)                    (None, 2, 2, 2048)   0           bn5c_branch2c[0][0]              \n",
            "                                                                 activation_46[0][0]              \n",
            "__________________________________________________________________________________________________\n",
            "activation_49 (Activation)      (None, 2, 2, 2048)   0           add_16[0][0]                     \n",
            "__________________________________________________________________________________________________\n",
            "flatten_1 (Flatten)             (None, 8192)         0           activation_49[0][0]              \n",
            "==================================================================================================\n",
            "Total params: 23,587,712\n",
            "Trainable params: 0\n",
            "Non-trainable params: 23,587,712\n",
            "__________________________________________________________________________________________________\n"
          ],
          "name": "stdout"
        },
        {
          "output_type": "stream",
          "text": [
            "/usr/local/lib/python3.6/dist-packages/ipykernel_launcher.py:3: UserWarning: Update your `Model` call to the Keras 2 API: `Model(Tensor(\"in..., outputs=Tensor(\"fl...)`\n",
            "  This is separate from the ipykernel package so we can avoid doing imports until\n"
          ],
          "name": "stderr"
        }
      ]
    },
    {
      "cell_type": "code",
      "metadata": {
        "id": "iSSsQ4UR1kiT",
        "colab_type": "code",
        "outputId": "56b838a7-7090-42ef-c8a9-6f9eb582b105",
        "colab": {
          "base_uri": "https://localhost:8080/",
          "height": 357
        }
      },
      "source": [
        "model = Sequential()\n",
        "model.add(restnet)\n",
        "model.add(Dense(512, activation='relu', input_dim=input_shape))\n",
        "model.add(Dropout(0.3))\n",
        "model.add(Dense(512, activation='relu'))\n",
        "model.add(Dropout(0.3))\n",
        "model.add(Dense(1, activation='sigmoid'))\n",
        "model.compile(loss='binary_crossentropy',\n",
        "              optimizer=optimizers.Adam(lr=1e-4),\n",
        "              metrics=['accuracy'])\n",
        "model.summary()"
      ],
      "execution_count": 0,
      "outputs": [
        {
          "output_type": "stream",
          "text": [
            "Model: \"sequential_1\"\n",
            "_________________________________________________________________\n",
            "Layer (type)                 Output Shape              Param #   \n",
            "=================================================================\n",
            "model_1 (Model)              (None, 8192)              23587712  \n",
            "_________________________________________________________________\n",
            "dense_1 (Dense)              (None, 512)               4194816   \n",
            "_________________________________________________________________\n",
            "dropout_1 (Dropout)          (None, 512)               0         \n",
            "_________________________________________________________________\n",
            "dense_2 (Dense)              (None, 512)               262656    \n",
            "_________________________________________________________________\n",
            "dropout_2 (Dropout)          (None, 512)               0         \n",
            "_________________________________________________________________\n",
            "dense_3 (Dense)              (None, 1)                 513       \n",
            "=================================================================\n",
            "Total params: 28,045,697\n",
            "Trainable params: 4,457,985\n",
            "Non-trainable params: 23,587,712\n",
            "_________________________________________________________________\n"
          ],
          "name": "stdout"
        }
      ]
    },
    {
      "cell_type": "markdown",
      "metadata": {
        "id": "Rk85R1hLOXI6",
        "colab_type": "text"
      },
      "source": [
        "# 1 -> 3 channel\n",
        "* the images are black and white (1 channel). However some architectures have pretrained weights on 3 channel RGB images. We can duplicate each batch in  `fit_generator_helper.XY_from_df_batch`\n",
        "* There are many ways to duplicate data. `np.concatenate` seems comes out the fastest in some [benchmarks](https://stackoverflow.com/questions/39463019/how-to-copy-numpy-array-value-into-higher-dimensions). However in my benchmarks `np.stack` and `np.concatenate` are the fastest, but it depends on the batch size.\n"
      ]
    },
    {
      "cell_type": "code",
      "metadata": {
        "id": "QWdVQQUmQ6Yf",
        "colab_type": "code",
        "outputId": "4cbd70d9-0e31-4ced-f963-6c3dc59db53a",
        "colab": {
          "base_uri": "https://localhost:8080/",
          "height": 34
        }
      },
      "source": [
        "df_batch = df.iloc[:20]\n",
        "dict_list = df_batch.to_dict('records')\n",
        "x_train = fit_generator_helper.read_particles(dict_list,nx,ny)\n",
        "X = x_train[:,:,:,np.newaxis]\n",
        "X.shape"
      ],
      "execution_count": 0,
      "outputs": [
        {
          "output_type": "execute_result",
          "data": {
            "text/plain": [
              "(20, 64, 64, 1)"
            ]
          },
          "metadata": {
            "tags": []
          },
          "execution_count": 45
        }
      ]
    },
    {
      "cell_type": "code",
      "metadata": {
        "id": "hzoFyDtFSTdl",
        "colab_type": "code",
        "outputId": "3329be86-9044-4717-cf6f-0232b66a2f1c",
        "colab": {
          "base_uri": "https://localhost:8080/",
          "height": 285
        }
      },
      "source": [
        "plt.imshow(X[0,:,:,0],cmap='gray')"
      ],
      "execution_count": 0,
      "outputs": [
        {
          "output_type": "execute_result",
          "data": {
            "text/plain": [
              "<matplotlib.image.AxesImage at 0x7f3cfbbccb70>"
            ]
          },
          "metadata": {
            "tags": []
          },
          "execution_count": 34
        },
        {
          "output_type": "display_data",
          "data": {
            "image/png": "[encoded data removed]",
            "text/plain": [
              "<Figure size 432x288 with 1 Axes>"
            ]
          },
          "metadata": {
            "tags": [],
            "needs_background": "light"
          }
        }
      ]
    },
    {
      "cell_type": "code",
      "metadata": {
        "id": "BApJXo4ORdLU",
        "colab_type": "code",
        "outputId": "98664787-773f-4627-c3d4-fb35963dc406",
        "colab": {
          "base_uri": "https://localhost:8080/",
          "height": 34
        }
      },
      "source": [
        "X3 = np.stack([x_train]*3, -1)\n",
        "X3.shape"
      ],
      "execution_count": 0,
      "outputs": [
        {
          "output_type": "execute_result",
          "data": {
            "text/plain": [
              "(20, 64, 64, 3)"
            ]
          },
          "metadata": {
            "tags": []
          },
          "execution_count": 69
        }
      ]
    },
    {
      "cell_type": "code",
      "metadata": {
        "id": "6JVKiWMvSw9m",
        "colab_type": "code",
        "outputId": "55919da3-f1f0-4e7f-988c-e0183ba91d12",
        "colab": {
          "base_uri": "https://localhost:8080/",
          "height": 285
        }
      },
      "source": [
        "plt.imshow(X3[0,:,:,0:3].mean(axis=-1),cmap='gray')\n",
        "np.allclose(X3[0,:,:,0:3].mean(axis=-1),X3[0,:,:,0])"
      ],
      "execution_count": 0,
      "outputs": [
        {
          "output_type": "execute_result",
          "data": {
            "text/plain": [
              "True"
            ]
          },
          "metadata": {
            "tags": []
          },
          "execution_count": 70
        },
        {
          "output_type": "display_data",
          "data": {
            "image/png": "[encoded data removed]",
            "text/plain": [
              "<Figure size 432x288 with 1 Axes>"
            ]
          },
          "metadata": {
            "tags": [],
            "needs_background": "light"
          }
        }
      ]
    },
    {
      "cell_type": "code",
      "metadata": {
        "id": "aF1mDUstTlLY",
        "colab_type": "code",
        "outputId": "c218d5a3-fcfe-446c-b45e-d1518a75820e",
        "colab": {
          "base_uri": "https://localhost:8080/",
          "height": 102
        }
      },
      "source": [
        "df_batch = df.iloc[:5]\n",
        "dict_list = df_batch.to_dict('records')\n",
        "x_train = fit_generator_helper.read_particles(dict_list,nx,ny)\n",
        "\n",
        "%timeit -n 1000 np.concatenate([x_train[:,:,:,np.newaxis]]*3, axis=-1)\n",
        "%timeit -n 1000 np.repeat(x_train[..., np.newaxis], 3, axis=-1)\n",
        "%timeit -n 1000 np.dstack([x_train]*3) # not right shape. not sure how to reshape\n",
        "%timeit -n 1000 np.stack([x_train]*3, -1)\n",
        "%timeit -n 1000 np.tile(x_train[..., np.newaxis], 3)"
      ],
      "execution_count": 0,
      "outputs": [
        {
          "output_type": "stream",
          "text": [
            "1000 loops, best of 3: 76.6 µs per loop\n",
            "1000 loops, best of 3: 288 µs per loop\n",
            "1000 loops, best of 3: 72.6 µs per loop\n",
            "1000 loops, best of 3: 87.5 µs per loop\n",
            "1000 loops, best of 3: 291 µs per loop\n"
          ],
          "name": "stdout"
        }
      ]
    },
    {
      "cell_type": "code",
      "metadata": {
        "id": "NnqIHLk5Ugbk",
        "colab_type": "code",
        "outputId": "58a02a2d-cea4-4322-dd92-2e4300122001",
        "colab": {
          "base_uri": "https://localhost:8080/",
          "height": 102
        }
      },
      "source": [
        "df_batch = df.iloc[:20]\n",
        "dict_list = df_batch.to_dict('records')\n",
        "x_train = fit_generator_helper.read_particles(dict_list,nx,ny)\n",
        "\n",
        "%timeit -n 1000 np.concatenate([x_train[:,:,:,np.newaxis]]*3, axis=-1)\n",
        "%timeit -n 1000 np.repeat(x_train[..., np.newaxis], 3, axis=-1)\n",
        "%timeit -n 1000 np.dstack([x_train]*3)\n",
        "%timeit -n 1000 np.stack([x_train]*3, -1)\n",
        "%timeit -n 1000 np.tile(x_train[..., np.newaxis], 3)"
      ],
      "execution_count": 0,
      "outputs": [
        {
          "output_type": "stream",
          "text": [
            "1000 loops, best of 3: 345 µs per loop\n",
            "1000 loops, best of 3: 1.03 ms per loop\n",
            "1000 loops, best of 3: 236 µs per loop\n",
            "1000 loops, best of 3: 333 µs per loop\n",
            "1000 loops, best of 3: 983 µs per loop\n"
          ],
          "name": "stdout"
        }
      ]
    },
    {
      "cell_type": "code",
      "metadata": {
        "id": "PJN7psdSTwcf",
        "colab_type": "code",
        "outputId": "dcb3c0df-1bdd-4874-9609-d393b687a6a0",
        "colab": {
          "base_uri": "https://localhost:8080/",
          "height": 102
        }
      },
      "source": [
        "df_batch = df.iloc[:50]\n",
        "dict_list = df_batch.to_dict('records')\n",
        "x_train = fit_generator_helper.read_particles(dict_list,nx,ny)\n",
        "\n",
        "%timeit -n 1000 np.concatenate([x_train[:,:,:,np.newaxis]]*3, axis=-1)\n",
        "%timeit -n 1000 np.repeat(x_train[..., np.newaxis], 3, axis=-1)\n",
        "%timeit -n 1000 np.dstack([x_train]*3)\n",
        "%timeit -n 1000 np.stack([x_train]*3, -1)\n",
        "%timeit -n 1000 np.tile(x_train[..., np.newaxis], 3)"
      ],
      "execution_count": 0,
      "outputs": [
        {
          "output_type": "stream",
          "text": [
            "1000 loops, best of 3: 964 µs per loop\n",
            "1000 loops, best of 3: 2.5 ms per loop\n",
            "1000 loops, best of 3: 499 µs per loop\n",
            "1000 loops, best of 3: 742 µs per loop\n",
            "1000 loops, best of 3: 2.38 ms per loop\n"
          ],
          "name": "stdout"
        }
      ]
    },
    {
      "cell_type": "code",
      "metadata": {
        "id": "3ZLfcKYLYi7C",
        "colab_type": "code",
        "outputId": "8cb62b0c-387f-42d7-da79-1c0ed95e6bd2",
        "colab": {
          "base_uri": "https://localhost:8080/",
          "height": 51
        }
      },
      "source": [
        "%cd /content/drive/My\\ Drive/mbp/mohammad/ece1512_project\n",
        "import mrc, fit_generator_helper, customizable_deep_network\n",
        "import importlib\n",
        "importlib.reload(fit_generator_helper)\n"
      ],
      "execution_count": 0,
      "outputs": [
        {
          "output_type": "stream",
          "text": [
            "/content/drive/My Drive/mbp/mohammad/ece1512_project\n"
          ],
          "name": "stdout"
        },
        {
          "output_type": "execute_result",
          "data": {
            "text/plain": [
              "<module 'fit_generator_helper' from '/content/drive/My Drive/mbp/mohammad/ece1512_project/fit_generator_helper.py'>"
            ]
          },
          "metadata": {
            "tags": []
          },
          "execution_count": 121
        }
      ]
    },
    {
      "cell_type": "code",
      "metadata": {
        "id": "Z4PG5cJzXS--",
        "colab_type": "code",
        "outputId": "2d8ef8c4-e128-43c7-9e90-e3da58ddd2ea",
        "colab": {
          "base_uri": "https://localhost:8080/",
          "height": 34
        }
      },
      "source": [
        "X_batch, Y_batch = fit_generator_helper.XY_from_df_batch(df.iloc[:5],\n",
        "                                      nx,\n",
        "                                      ny,\n",
        "                                      do_1to3channel=True\n",
        "    \n",
        ")\n",
        "X_batch.shape, Y_batch.shape"
      ],
      "execution_count": 0,
      "outputs": [
        {
          "output_type": "execute_result",
          "data": {
            "text/plain": [
              "((5, 64, 64, 3), (5,))"
            ]
          },
          "metadata": {
            "tags": []
          },
          "execution_count": 123
        }
      ]
    },
    {
      "cell_type": "code",
      "metadata": {
        "id": "zX_MvbymO4qC",
        "colab_type": "code",
        "outputId": "644c5177-a12e-426b-ed63-60f01d9291aa",
        "colab": {
          "base_uri": "https://localhost:8080/",
          "height": 34
        }
      },
      "source": [
        "fit_generator_helper.image_loader(df.sample(4),\n",
        "                                  do_augment=True,\n",
        "                                  batch_size=batch_size,\n",
        "                                  nx=nx,ny=ny,\n",
        "                                  num_classes=df['class'].unique().size,\n",
        "                                  do_1to3channel=True\n",
        "                                  )"
      ],
      "execution_count": 0,
      "outputs": [
        {
          "output_type": "execute_result",
          "data": {
            "text/plain": [
              "<generator object image_loader at 0x7f3cfc286780>"
            ]
          },
          "metadata": {
            "tags": []
          },
          "execution_count": 80
        }
      ]
    },
    {
      "cell_type": "markdown",
      "metadata": {
        "id": "rg4yN6zta1rU",
        "colab_type": "text"
      },
      "source": [
        "We also need to reshape the Y data"
      ]
    },
    {
      "cell_type": "code",
      "metadata": {
        "id": "OPGejGn7a09V",
        "colab_type": "code",
        "outputId": "a1605221-0d77-46f2-e529-f6e31f551360",
        "colab": {
          "base_uri": "https://localhost:8080/",
          "height": 34
        }
      },
      "source": [
        "num_classes = 2\n",
        "Y = fit_generator_helper.to_categorical(df_batch['class'].values, num_classes=num_classes,dtype='int')\n",
        "df_batch['class'].values"
      ],
      "execution_count": 0,
      "outputs": [
        {
          "output_type": "execute_result",
          "data": {
            "text/plain": [
              "array([1, 1, 1, 0, 1, 1, 1, 0, 0, 0, 1, 1, 0, 0, 0, 1, 1, 1, 1, 1])"
            ]
          },
          "metadata": {
            "tags": []
          },
          "execution_count": 110
        }
      ]
    },
    {
      "cell_type": "markdown",
      "metadata": {
        "id": "wpCU50tFOZwY",
        "colab_type": "text"
      },
      "source": [
        "# Train"
      ]
    },
    {
      "cell_type": "code",
      "metadata": {
        "id": "qff9WDZmyI3N",
        "colab_type": "code",
        "outputId": "9b7122e2-18d9-45bf-e0b5-923673ef3156",
        "colab": {
          "base_uri": "https://localhost:8080/",
          "height": 34
        }
      },
      "source": [
        "batch_size = 20 # do not put this too large. 100 too big. 50 getting big, perhaps can go bigger. 20 ok\n",
        "n=df.shape[0]\n",
        "steps_per_epoch = np.floor(df.sample(n).shape[0] / batch_size) # 110 for 11k particles\n",
        "steps_per_epoch"
      ],
      "execution_count": 0,
      "outputs": [
        {
          "output_type": "execute_result",
          "data": {
            "text/plain": [
              "2465.0"
            ]
          },
          "metadata": {
            "tags": []
          },
          "execution_count": 15
        }
      ]
    },
    {
      "cell_type": "code",
      "metadata": {
        "id": "7lfmVQB7PKtR",
        "colab_type": "code",
        "colab": {}
      },
      "source": [
        "from sklearn.metrics import confusion_matrix\n",
        "from datetime import datetime\n",
        "dateTimeObj = datetime.now()\n",
        "!mkdir /keras_models"
      ],
      "execution_count": 0,
      "outputs": []
    },
    {
      "cell_type": "code",
      "metadata": {
        "id": "L4RB2OwAdBTE",
        "colab_type": "code",
        "outputId": "2ffd76a5-cbbd-480c-f269-8afdbd052f30",
        "colab": {
          "base_uri": "https://localhost:8080/",
          "height": 51
        }
      },
      "source": [
        "def XY_to_3channel(X,Y):\n",
        "  X3 = np.stack([X[:,:,:,0]]*3, -1)\n",
        "  Y3 = np.argmax(Y,axis=1)\n",
        "  return(X3,Y3)\n",
        "XY_aug_list = [fit_generator_helper.batch_image_augment(X_val,Y_val,batch_size=X_val.shape[0],rotation_range=180) for x in range(1)]\n",
        "X, Y = XY_aug_list[0]\n",
        "X3, Y3 = XY_to_3channel(X,Y)\n",
        "model.evaluate(X3, Y3)"
      ],
      "execution_count": 0,
      "outputs": [
        {
          "output_type": "stream",
          "text": [
            "1006/1006 [==============================] - 1s 705us/step\n"
          ],
          "name": "stdout"
        },
        {
          "output_type": "execute_result",
          "data": {
            "text/plain": [
              "[0.7480953226743589, 0.5089462995529175]"
            ]
          },
          "metadata": {
            "tags": []
          },
          "execution_count": 18
        }
      ]
    },
    {
      "cell_type": "code",
      "metadata": {
        "id": "-f0Gx-HZcJCF",
        "colab_type": "code",
        "outputId": "af3d4ebd-7991-4000-ad35-3b78c88fc172",
        "colab": {
          "base_uri": "https://localhost:8080/",
          "height": 1000
        }
      },
      "source": [
        "model_fname = '/keras_models/micelle_aug_rn50_pretrainedin'\n",
        "do_1to3channel=True\n",
        "for epoch in range(40):\n",
        "    print('actual epoch %i' % epoch)\n",
        "    model.fit_generator(fit_generator_helper.image_loader(df.sample(n),\n",
        "                                                          do_augment=True,\n",
        "                                                          batch_size=batch_size,\n",
        "                                                          nx=nx,ny=ny,\n",
        "                                                          num_classes=df['class'].unique().size,\n",
        "                                                          do_1to3channel=do_1to3channel,\n",
        "                                                          ),\n",
        "                        steps_per_epoch=steps_per_epoch, # steps_per_epoch is number of batches per epoch\n",
        "                        epochs=1,\n",
        "                        )\n",
        "    \n",
        "    XY_aug_list = [fit_generator_helper.batch_image_augment(X_val,Y_val,batch_size=X_val.shape[0],rotation_range=180) for x in range(1)]\n",
        "    for X, Y in XY_aug_list:\n",
        "      X, Y = XY_to_3channel(X,Y)\n",
        "      scores = model.evaluate(X, Y)\n",
        "      print ('epoch %s' % epoch, \"Loss = \" + str(scores[0]), \"Test Accuracy = \" + str(scores[1]))\n",
        "      #model.save(model_fname+dateTimeObj.strftime(\"%Y%m%d-%H%M%S\")+'_ep%i.h5'%epoch)\n",
        "      Y_pred = model.predict(X)\n",
        "      print(confusion_matrix(Y, Y_pred > 0.5))\n",
        "\n",
        "    "
      ],
      "execution_count": 0,
      "outputs": [
        {
          "output_type": "stream",
          "text": [
            "actual epoch 0\n",
            "Epoch 1/1\n",
            "2465/2465 [==============================] - 79s 32ms/step - loss: 0.7220 - accuracy: 0.5298\n",
            "1006/1006 [==============================] - 1s 685us/step\n",
            "epoch 0 Loss = 0.7078211091858729 Test Accuracy = 0.49701789021492004\n",
            "[[ 95 409]\n",
            " [ 97 405]]\n",
            "actual epoch 1\n",
            "Epoch 1/1\n",
            "2465/2465 [==============================] - 78s 32ms/step - loss: 0.6941 - accuracy: 0.5409\n",
            "1006/1006 [==============================] - 1s 681us/step\n",
            "epoch 1 Loss = 0.7059611668643611 Test Accuracy = 0.48906561732292175\n",
            "[[311 193]\n",
            " [321 181]]\n",
            "actual epoch 2\n",
            "Epoch 1/1\n",
            "2465/2465 [==============================] - 77s 31ms/step - loss: 0.6868 - accuracy: 0.5587\n",
            "1006/1006 [==============================] - 1s 684us/step\n",
            "epoch 2 Loss = 0.7218612874478516 Test Accuracy = 0.5218687653541565\n",
            "[[ 65 439]\n",
            " [ 42 460]]\n",
            "actual epoch 3\n",
            "Epoch 1/1\n",
            "2465/2465 [==============================] - 77s 31ms/step - loss: 0.6828 - accuracy: 0.5666\n",
            "1006/1006 [==============================] - 1s 678us/step\n",
            "epoch 3 Loss = 0.7059369870493 Test Accuracy = 0.5357853174209595\n",
            "[[104 400]\n",
            " [ 67 435]]\n",
            "actual epoch 4\n",
            "Epoch 1/1\n",
            "2465/2465 [==============================] - 77s 31ms/step - loss: 0.6806 - accuracy: 0.5681\n",
            "1006/1006 [==============================] - 1s 709us/step\n",
            "epoch 4 Loss = 0.7559979073332982 Test Accuracy = 0.4990059733390808\n",
            "[[ 15 489]\n",
            " [ 15 487]]\n",
            "actual epoch 5\n",
            "Epoch 1/1\n",
            "2465/2465 [==============================] - 77s 31ms/step - loss: 0.6779 - accuracy: 0.5753\n",
            "1006/1006 [==============================] - 1s 678us/step\n",
            "epoch 5 Loss = 0.7547148416340944 Test Accuracy = 0.5029820799827576\n",
            "[[  5 499]\n",
            " [  1 501]]\n",
            "actual epoch 6\n",
            "Epoch 1/1\n",
            "2465/2465 [==============================] - 78s 32ms/step - loss: 0.6754 - accuracy: 0.5808\n",
            "1006/1006 [==============================] - 1s 694us/step\n",
            "epoch 6 Loss = 0.7473625763510141 Test Accuracy = 0.5009940266609192\n",
            "[[  8 496]\n",
            " [  6 496]]\n",
            "actual epoch 7\n",
            "Epoch 1/1\n",
            "2465/2465 [==============================] - 77s 31ms/step - loss: 0.6752 - accuracy: 0.5776\n",
            "1006/1006 [==============================] - 1s 683us/step\n",
            "epoch 7 Loss = 0.7379801904941885 Test Accuracy = 0.5059642195701599\n",
            "[[ 14 490]\n",
            " [  7 495]]\n",
            "actual epoch 8\n",
            "Epoch 1/1\n",
            "2465/2465 [==============================] - 79s 32ms/step - loss: 0.6727 - accuracy: 0.5819\n",
            "1006/1006 [==============================] - 1s 698us/step\n",
            "epoch 8 Loss = 0.7144792361951491 Test Accuracy = 0.5268389582633972\n",
            "[[ 73 431]\n",
            " [ 45 457]]\n",
            "actual epoch 9\n",
            "Epoch 1/1\n",
            "2465/2465 [==============================] - 79s 32ms/step - loss: 0.6740 - accuracy: 0.5833\n",
            "1006/1006 [==============================] - 1s 685us/step\n",
            "epoch 9 Loss = 0.7305145319366075 Test Accuracy = 0.512922465801239\n",
            "[[ 24 480]\n",
            " [ 10 492]]\n",
            "actual epoch 10\n",
            "Epoch 1/1\n",
            "2465/2465 [==============================] - 77s 31ms/step - loss: 0.6724 - accuracy: 0.5829\n",
            "1006/1006 [==============================] - 1s 676us/step\n",
            "epoch 10 Loss = 0.7740068831453266 Test Accuracy = 0.5\n",
            "[[  1 503]\n",
            " [  0 502]]\n",
            "actual epoch 11\n",
            "Epoch 1/1\n",
            "2465/2465 [==============================] - 78s 31ms/step - loss: 0.6710 - accuracy: 0.5874\n",
            "1006/1006 [==============================] - 1s 681us/step\n",
            "epoch 11 Loss = 0.713520017580294 Test Accuracy = 0.5308151245117188\n",
            "[[ 71 433]\n",
            " [ 39 463]]\n",
            "actual epoch 12\n",
            "Epoch 1/1\n",
            "2465/2465 [==============================] - 78s 31ms/step - loss: 0.6690 - accuracy: 0.5914\n",
            "1006/1006 [==============================] - 1s 685us/step\n",
            "epoch 12 Loss = 0.7637415219016862 Test Accuracy = 0.5119284391403198\n",
            "[[ 40 464]\n",
            " [ 27 475]]\n",
            "actual epoch 13\n",
            "Epoch 1/1\n",
            "2465/2465 [==============================] - 77s 31ms/step - loss: 0.6678 - accuracy: 0.5929\n",
            "1006/1006 [==============================] - 1s 684us/step\n",
            "epoch 13 Loss = 0.8090370738245621 Test Accuracy = 0.4940357804298401\n",
            "[[  0 504]\n",
            " [  5 497]]\n",
            "actual epoch 14\n",
            "Epoch 1/1\n",
            "2465/2465 [==============================] - 77s 31ms/step - loss: 0.6672 - accuracy: 0.5932\n",
            "1006/1006 [==============================] - 1s 687us/step\n",
            "epoch 14 Loss = 0.7347933384580593 Test Accuracy = 0.5099403858184814\n",
            "[[ 34 470]\n",
            " [ 23 479]]\n",
            "actual epoch 15\n",
            "Epoch 1/1\n",
            "2465/2465 [==============================] - 77s 31ms/step - loss: 0.6658 - accuracy: 0.5976\n",
            "1006/1006 [==============================] - 1s 682us/step\n",
            "epoch 15 Loss = 0.7175409806888573 Test Accuracy = 0.5049701929092407\n",
            "[[ 18 486]\n",
            " [ 12 490]]\n",
            "actual epoch 16\n",
            "Epoch 1/1\n",
            "2465/2465 [==============================] - 77s 31ms/step - loss: 0.6676 - accuracy: 0.5940\n",
            "1006/1006 [==============================] - 1s 689us/step\n",
            "epoch 16 Loss = 0.8143940500426246 Test Accuracy = 0.5029820799827576\n",
            "[[  6 498]\n",
            " [  2 500]]\n",
            "actual epoch 17\n",
            "Epoch 1/1\n",
            "2465/2465 [==============================] - 76s 31ms/step - loss: 0.6646 - accuracy: 0.5997\n",
            "1006/1006 [==============================] - 1s 695us/step\n",
            "epoch 17 Loss = 0.7530063342147508 Test Accuracy = 0.5139164924621582\n",
            "[[ 33 471]\n",
            " [ 18 484]]\n",
            "actual epoch 18\n",
            "Epoch 1/1\n",
            "2465/2465 [==============================] - 77s 31ms/step - loss: 0.6665 - accuracy: 0.5931\n",
            "1006/1006 [==============================] - 1s 681us/step\n",
            "epoch 18 Loss = 0.7326223628658424 Test Accuracy = 0.5099403858184814\n",
            "[[ 22 482]\n",
            " [ 11 491]]\n",
            "actual epoch 19\n",
            "Epoch 1/1\n",
            "2465/2465 [==============================] - 76s 31ms/step - loss: 0.6662 - accuracy: 0.5953\n",
            "1006/1006 [==============================] - 1s 669us/step\n",
            "epoch 19 Loss = 0.7348688804131616 Test Accuracy = 0.5139164924621582\n",
            "[[ 50 454]\n",
            " [ 35 467]]\n",
            "actual epoch 20\n",
            "Epoch 1/1\n",
            "2465/2465 [==============================] - 76s 31ms/step - loss: 0.6662 - accuracy: 0.5917\n",
            "1006/1006 [==============================] - 1s 675us/step\n",
            "epoch 20 Loss = 0.7617624162679638 Test Accuracy = 0.5079522728919983\n",
            "[[ 20 484]\n",
            " [ 11 491]]\n",
            "actual epoch 21\n",
            "Epoch 1/1\n",
            "2465/2465 [==============================] - 76s 31ms/step - loss: 0.6644 - accuracy: 0.5982\n",
            "1006/1006 [==============================] - 1s 683us/step\n",
            "epoch 21 Loss = 0.771073757298661 Test Accuracy = 0.5009940266609192\n",
            "[[ 19 485]\n",
            " [ 17 485]]\n",
            "actual epoch 22\n",
            "Epoch 1/1\n",
            "2465/2465 [==============================] - 77s 31ms/step - loss: 0.6655 - accuracy: 0.5954\n",
            "1006/1006 [==============================] - 1s 688us/step\n",
            "epoch 22 Loss = 0.7523797163906438 Test Accuracy = 0.5079522728919983\n",
            "[[ 16 488]\n",
            " [  7 495]]\n",
            "actual epoch 23\n",
            "Epoch 1/1\n",
            "2465/2465 [==============================] - 77s 31ms/step - loss: 0.6650 - accuracy: 0.5975\n",
            "1006/1006 [==============================] - 1s 684us/step\n",
            "epoch 23 Loss = 0.7447787067051199 Test Accuracy = 0.5059642195701599\n",
            "[[  9 495]\n",
            " [  2 500]]\n",
            "actual epoch 24\n",
            "Epoch 1/1\n",
            "2465/2465 [==============================] - 77s 31ms/step - loss: 0.6659 - accuracy: 0.5982\n",
            "1006/1006 [==============================] - 1s 673us/step\n",
            "epoch 24 Loss = 0.7620142038252434 Test Accuracy = 0.5019880533218384\n",
            "[[  3 501]\n",
            " [  0 502]]\n",
            "actual epoch 25\n",
            "Epoch 1/1\n",
            "2465/2465 [==============================] - 77s 31ms/step - loss: 0.6634 - accuracy: 0.5995\n",
            "1006/1006 [==============================] - 1s 676us/step\n",
            "epoch 25 Loss = 0.7659430449335997 Test Accuracy = 0.5019880533218384\n",
            "[[ 10 494]\n",
            " [  7 495]]\n",
            "actual epoch 26\n",
            "Epoch 1/1\n",
            "2465/2465 [==============================] - 80s 32ms/step - loss: 0.6635 - accuracy: 0.5991\n",
            "1006/1006 [==============================] - 1s 694us/step\n",
            "epoch 26 Loss = 0.795682692741068 Test Accuracy = 0.4990059733390808\n",
            "[[  3 501]\n",
            " [  3 499]]\n",
            "actual epoch 27\n",
            "Epoch 1/1\n",
            "2465/2465 [==============================] - 77s 31ms/step - loss: 0.6646 - accuracy: 0.5956\n",
            "1006/1006 [==============================] - 1s 682us/step\n",
            "epoch 27 Loss = 0.8720519009451743 Test Accuracy = 0.4990059733390808\n",
            "[[  0 504]\n",
            " [  0 502]]\n",
            "actual epoch 28\n",
            "Epoch 1/1\n",
            "2465/2465 [==============================] - 77s 31ms/step - loss: 0.6636 - accuracy: 0.5998\n",
            "1006/1006 [==============================] - 1s 685us/step\n",
            "epoch 28 Loss = 0.7382181296291692 Test Accuracy = 0.5109344124794006\n",
            "[[ 15 489]\n",
            " [  3 499]]\n",
            "actual epoch 29\n",
            "Epoch 1/1\n",
            "2465/2465 [==============================] - 78s 32ms/step - loss: 0.6637 - accuracy: 0.5974\n",
            "1006/1006 [==============================] - 1s 690us/step\n",
            "epoch 29 Loss = 0.7504198026230511 Test Accuracy = 0.5029820799827576\n",
            "[[ 11 493]\n",
            " [  7 495]]\n",
            "actual epoch 30\n",
            "Epoch 1/1\n",
            "2465/2465 [==============================] - 77s 31ms/step - loss: 0.6618 - accuracy: 0.6005\n",
            "1006/1006 [==============================] - 1s 693us/step\n",
            "epoch 30 Loss = 0.7888858550585525 Test Accuracy = 0.5188866853713989\n",
            "[[ 26 478]\n",
            " [  6 496]]\n",
            "actual epoch 31\n",
            "Epoch 1/1\n",
            "2465/2465 [==============================] - 77s 31ms/step - loss: 0.6618 - accuracy: 0.6007\n",
            "1006/1006 [==============================] - 1s 676us/step\n",
            "epoch 31 Loss = 0.7726806103590705 Test Accuracy = 0.5089462995529175\n",
            "[[ 20 484]\n",
            " [ 10 492]]\n",
            "actual epoch 32\n",
            "Epoch 1/1\n",
            "2465/2465 [==============================] - 77s 31ms/step - loss: 0.6634 - accuracy: 0.5986\n",
            "1006/1006 [==============================] - 1s 684us/step\n",
            "epoch 32 Loss = 0.8424813800730241 Test Accuracy = 0.4990059733390808\n",
            "[[  0 504]\n",
            " [  0 502]]\n",
            "actual epoch 33\n",
            "Epoch 1/1\n",
            "2465/2465 [==============================] - 77s 31ms/step - loss: 0.6611 - accuracy: 0.6036\n",
            "1006/1006 [==============================] - 1s 682us/step\n",
            "epoch 33 Loss = 0.7240401667581637 Test Accuracy = 0.5089462995529175\n",
            "[[ 35 469]\n",
            " [ 25 477]]\n",
            "actual epoch 34\n",
            "Epoch 1/1\n",
            "2465/2465 [==============================] - 79s 32ms/step - loss: 0.6643 - accuracy: 0.5991\n",
            "1006/1006 [==============================] - 1s 702us/step\n",
            "epoch 34 Loss = 0.7987278396519231 Test Accuracy = 0.4990059733390808\n",
            "[[  0 504]\n",
            " [  0 502]]\n",
            "actual epoch 35\n",
            "Epoch 1/1\n",
            "2465/2465 [==============================] - 79s 32ms/step - loss: 0.6608 - accuracy: 0.6038\n",
            "1006/1006 [==============================] - 1s 689us/step\n",
            "epoch 35 Loss = 0.824206160622136 Test Accuracy = 0.4990059733390808\n",
            "[[  0 504]\n",
            " [  0 502]]\n",
            "actual epoch 36\n",
            "Epoch 1/1\n",
            "2465/2465 [==============================] - 78s 32ms/step - loss: 0.6620 - accuracy: 0.6004\n",
            "1006/1006 [==============================] - 1s 697us/step\n",
            "epoch 36 Loss = 0.7831695756428758 Test Accuracy = 0.5009940266609192\n",
            "[[  2 502]\n",
            " [  0 502]]\n",
            "actual epoch 37\n",
            "Epoch 1/1\n",
            "2465/2465 [==============================] - 79s 32ms/step - loss: 0.6627 - accuracy: 0.6012\n",
            "1006/1006 [==============================] - 1s 687us/step\n",
            "epoch 37 Loss = 0.7879358695942176 Test Accuracy = 0.5009940266609192\n",
            "[[  3 501]\n",
            " [  1 501]]\n",
            "actual epoch 38\n",
            "Epoch 1/1\n",
            "2465/2465 [==============================] - 78s 32ms/step - loss: 0.6613 - accuracy: 0.6046\n",
            "1006/1006 [==============================] - 1s 688us/step\n",
            "epoch 38 Loss = 0.840382312093056 Test Accuracy = 0.4990059733390808\n",
            "[[  0 504]\n",
            " [  0 502]]\n",
            "actual epoch 39\n",
            "Epoch 1/1\n",
            "2465/2465 [==============================] - 78s 32ms/step - loss: 0.6611 - accuracy: 0.6030\n",
            "1006/1006 [==============================] - 1s 679us/step\n",
            "epoch 39 Loss = 0.8360049649924929 Test Accuracy = 0.5\n",
            "[[  2 502]\n",
            " [  1 501]]\n"
          ],
          "name": "stdout"
        }
      ]
    },
    {
      "cell_type": "code",
      "metadata": {
        "id": "1RZb2CQ9QPQY",
        "colab_type": "code",
        "outputId": "a324fed0-cf9d-4e5e-b0a3-810cfc49668d",
        "colab": {
          "base_uri": "https://localhost:8080/",
          "height": 136
        }
      },
      "source": [
        "model_fname = '/keras_models/micelle_aug_rn50_pretrainedin'\n",
        "do_1to3channel=True\n",
        "for epoch in range(40,41):\n",
        "    print('actual epoch %i' % epoch)\n",
        "    model.fit_generator(fit_generator_helper.image_loader(df.sample(n),\n",
        "                                                          do_augment=True,\n",
        "                                                          batch_size=batch_size,\n",
        "                                                          nx=nx,ny=ny,\n",
        "                                                          num_classes=df['class'].unique().size,\n",
        "                                                          do_1to3channel=do_1to3channel,\n",
        "                                                          ),\n",
        "                        steps_per_epoch=steps_per_epoch, # steps_per_epoch is number of batches per epoch\n",
        "                        epochs=1,\n",
        "                        )\n",
        "    \n",
        "    XY_aug_list = [fit_generator_helper.batch_image_augment(X_val,Y_val,batch_size=X_val.shape[0],rotation_range=180) for x in range(1)]\n",
        "    for X, Y in XY_aug_list:\n",
        "      X, Y = XY_to_3channel(X,Y)\n",
        "      scores = model.evaluate(X, Y)\n",
        "      print ('epoch %s' % epoch, \"Loss = \" + str(scores[0]), \"Test Accuracy = \" + str(scores[1]))\n",
        "      #model.save(model_fname+dateTimeObj.strftime(\"%Y%m%d-%H%M%S\")+'_ep%i.h5'%epoch)\n",
        "      Y_pred = model.predict(X)\n",
        "      print(confusion_matrix(Y, Y_pred > 0.5))\n",
        "\n",
        "    "
      ],
      "execution_count": 0,
      "outputs": [
        {
          "output_type": "stream",
          "text": [
            "actual epoch 40\n",
            "Epoch 1/1\n",
            "2465/2465 [==============================] - 77s 31ms/step - loss: 0.6631 - accuracy: 0.5965\n",
            "1006/1006 [==============================] - 1s 674us/step\n",
            "epoch 40 Loss = 0.790411197286003 Test Accuracy = 0.5009940266609192\n",
            "[[  2 502]\n",
            " [  0 502]]\n"
          ],
          "name": "stdout"
        }
      ]
    },
    {
      "cell_type": "markdown",
      "metadata": {
        "id": "QdyafyP-2IO1",
        "colab_type": "text"
      },
      "source": [
        "\n",
        "|jobs | pix | train acc (%) | val acc (%) | epochs|notes|\n",
        "|-|-|-|-|-|-|\n",
        "|J1028,J930. 25k each. +/- micelle. different underlying picks. `micelle_aug_rn50_pretrainedin`|64| 58.2 ep 20, 59.4 ep 30, 60.0 ep 40 | 50 for all epochs up to 40, pretty much all being predicted as same class  |40|aug. resnet 50 imagenet weights. copied 1 to 3 channels|\n"
      ]
    }
  ]
}