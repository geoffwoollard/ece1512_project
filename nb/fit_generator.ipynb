{
 "cells": [
  {
   "cell_type": "markdown",
   "metadata": {},
   "source": [
    "# `model.fit_generator` in `keras`"
   ]
  },
  {
   "cell_type": "markdown",
   "metadata": {},
   "source": [
    "### imports"
   ]
  },
  {
   "cell_type": "code",
   "execution_count": 2,
   "metadata": {
    "scrolled": false
   },
   "outputs": [
    {
     "name": "stderr",
     "output_type": "stream",
     "text": [
      "Using TensorFlow backend.\n"
     ]
    }
   ],
   "source": [
    "import keras\n",
    "import matplotlib.pyplot as plt\n",
    "import numpy as np\n",
    "import pandas as pd\n",
    "from sklearn.model_selection import train_test_split\n",
    "from keras.layers import Dense, Activation, AveragePooling2D, Dropout, Conv2D, MaxPooling2D, Flatten\n",
    "from keras.models import Sequential\n",
    "from keras.layers.normalization import BatchNormalization\n",
    "from keras.optimizers import RMSprop, Adadelta, Adam, SGD\n",
    "from keras.utils.np_utils import to_categorical "
   ]
  },
  {
   "cell_type": "code",
   "execution_count": 3,
   "metadata": {},
   "outputs": [
    {
     "name": "stdout",
     "output_type": "stream",
     "text": [
      "/Users/gw/repos/ece1512_project\n"
     ]
    }
   ],
   "source": [
    "%cd ..\n",
    "import mrc"
   ]
  },
  {
   "cell_type": "markdown",
   "metadata": {},
   "source": [
    "### custom function to load in data\n",
    "- see https://stackoverflow.com/questions/47200146/keras-load-images-batch-wise-for-large-dataset\n",
    "'''python\n",
    "fileList = listOfFiles     \n",
    "\n",
    "def imageLoader(files, batch_size):\n",
    "\n",
    "    L = len(files)\n",
    "\n",
    "    #this line is just to make the generator infinite, keras needs that    \n",
    "    while True:\n",
    "\n",
    "        batch_start = 0\n",
    "        batch_end = batch_size\n",
    "\n",
    "        while batch_start < L:\n",
    "            limit = min(batch_end, L)\n",
    "            X = load_data_chunk(files[batch_start:limit])\n",
    "            Y = someMethodToLoadTargets(files[batch_start:limit])\n",
    "\n",
    "            yield (X,Y) #a tuple with two numpy arrays with batch_size samples     \n",
    "\n",
    "            batch_start += batch_size   \n",
    "            batch_end += batch_size\n",
    "'''"
   ]
  },
  {
   "cell_type": "code",
   "execution_count": 4,
   "metadata": {},
   "outputs": [],
   "source": [
    "def parse_file(fname,label):\n",
    "    #fname = '/Users/gw/Documents/education/2018w/ece1512/project/P11/J85/simulated_particles.mrcs'\n",
    "    #label = 0\n",
    "    header = mrc.read_header(fname)\n",
    "    df = pd.DataFrame({'fname':fname,'idx':range(header['nz']),'class':label})\n",
    "    return(df)\n",
    "\n",
    "def parse_files(fname_list,label_list):\n",
    "    df_list = []\n",
    "    for fname,label in zip(fname_list,label_list):\n",
    "        df_list.append(parse_file(fname,label))\n",
    "    \n",
    "    return(pd.concat(df_list,axis=0))\n",
    "\n",
    "\n",
    "\n"
   ]
  },
  {
   "cell_type": "code",
   "execution_count": 62,
   "metadata": {},
   "outputs": [],
   "source": [
    "fname_list = ['/Users/gw/Documents/education/2018w/ece1512/project/P11/J99/simulated_particles.mrcs',\n",
    "              '/Users/gw/Documents/education/2018w/ece1512/project/P11/J100/simulated_particles.mrcs']\n",
    "label_list = [0,1]\n",
    "df = parse_files(fname_list,label_list)\n",
    "df = df.sample(df.shape[0])\n",
    "header = mrc.read_header(fname_list[0])\n",
    "nx,ny=header['nx'],header['nx']\n",
    "df = df.iloc[:-1000]\n",
    "df_val = df.iloc[-1000:]\n",
    "\n",
    "\n",
    "\n"
   ]
  },
  {
   "cell_type": "code",
   "execution_count": 64,
   "metadata": {},
   "outputs": [],
   "source": [
    "def read_particle_from_stack(fname,idx,nx=nx,ny=ny):\n",
    "    particles = mrc.read_imgs(fname,idx=idx,num=1).reshape(1,nx,ny)\n",
    "    return(particles)\n",
    "\n",
    "def crop(x,n_crop):\n",
    "    x = x[:,int(nx/2-n_crop/2):int(nx/2+n_crop/2),int(nx/2-n_crop/2):int(nx/2+n_crop/2),:]\n",
    "    return(x)"
   ]
  },
  {
   "cell_type": "code",
   "execution_count": 65,
   "metadata": {},
   "outputs": [],
   "source": [
    "def read_particles(dict_list,nx=ny,ny=ny):\n",
    "    \n",
    "    particle_n=0\n",
    "    particles=np.zeros((len(dict_list),nx,ny))\n",
    "    for row in dict_list:\n",
    "\n",
    "        particle = read_particle_from_stack(row['fname'],row['idx'])\n",
    "        particles[particle_n,:,:] = particle\n",
    "        particle_n+=1\n",
    "    return(particles)   \n",
    "\n",
    "def XY_from_df_batch(df_batch):\n",
    "    dict_list = df_batch.to_dict('records')\n",
    "    x_train = read_particles(dict_list)\n",
    "    #x_train = crop(x_train,128)\n",
    "    X = x_train[:,:,:,np.newaxis]\n",
    "    X = crop(X,128) # match 128x128 in Deep Consensus\n",
    "    Y = to_categorical(df_batch['class'].values, num_classes=2,dtype='int') #https://stackoverflow.com/questions/29831489/convert-array-of-indices-to-1-hot-encoded-numpy-array\n",
    "    return(X,Y)\n",
    "\n",
    "\n",
    "def image_loader(df,batch_size):\n",
    "    \n",
    "    L = df.shape[0]\n",
    "    while True: #this line is just to make the generator infinite, keras needs that\n",
    "        \n",
    "        batch_start = 0\n",
    "        batch_end = batch_size\n",
    "        \n",
    "        while batch_start < L:\n",
    "            limit = min(batch_end,L)\n",
    "            X, Y = XY_from_df_batch(df.iloc[batch_start:limit])\n",
    "            yield (X,Y) #a tuple with two numpy arrays with batch_size samples \n",
    "            batch_start += batch_size   \n",
    "            batch_end += batch_size\n",
    "#df_batch = df.sample(batch_size, random_state=0)\n",
    "\n"
   ]
  },
  {
   "cell_type": "code",
   "execution_count": 66,
   "metadata": {},
   "outputs": [
    {
     "data": {
      "text/plain": [
       "(200, 128, 128, 1)"
      ]
     },
     "execution_count": 66,
     "metadata": {},
     "output_type": "execute_result"
    }
   ],
   "source": [
    "X,Y = XY_from_df_batch(df.sample(200))\n",
    "X.shape"
   ]
  },
  {
   "cell_type": "markdown",
   "metadata": {},
   "source": [
    "### Check if we can distinguish the resolution by eye"
   ]
  },
  {
   "cell_type": "code",
   "execution_count": 40,
   "metadata": {},
   "outputs": [
    {
     "data": {
      "text/plain": [
       "array([0.481, 0.519])"
      ]
     },
     "execution_count": 40,
     "metadata": {},
     "output_type": "execute_result"
    }
   ],
   "source": [
    "Y.mean(0)"
   ]
  },
  {
   "cell_type": "code",
   "execution_count": 67,
   "metadata": {},
   "outputs": [
    {
     "data": {
      "text/plain": [
       "<matplotlib.image.AxesImage at 0x1a34df4dd8>"
      ]
     },
     "execution_count": 67,
     "metadata": {},
     "output_type": "execute_result"
    },
    {
     "data": {
      "image/png": "[encoded data removed]",
      "text/plain": [
       "<Figure size 432x288 with 2 Axes>"
      ]
     },
     "metadata": {
      "needs_background": "light"
     },
     "output_type": "display_data"
    }
   ],
   "source": [
    "fig = plt.figure()\n",
    "i,j = 0,2\n",
    "a = fig.add_subplot(121)\n",
    "a.set_title('%s' % Y[i])\n",
    "plt.imshow(X[i,:,:,0],cmap='gray')\n",
    "\n",
    "a = fig.add_subplot(122)\n",
    "a.set_title('%s' % Y[j])\n",
    "plt.imshow(X[j,:,:,0],cmap='gray')"
   ]
  },
  {
   "cell_type": "code",
   "execution_count": 11,
   "metadata": {},
   "outputs": [],
   "source": [
    "# o_x_train = stack\n",
    "# o_y_train = np.append(np.zeros(num),np.ones(num))\n",
    "#np.random.shuffle(o_y_train) # garble labels to check if evaluation accuracy is 50%"
   ]
  },
  {
   "cell_type": "code",
   "execution_count": 57,
   "metadata": {},
   "outputs": [
    {
     "name": "stdout",
     "output_type": "stream",
     "text": [
      "The Training set images have this shape: (200, 128, 128, 1)\n",
      "The Training set labels have this shape: (200, 2)\n"
     ]
    }
   ],
   "source": [
    "# x_train, x_val, y_train, y_val = train_test_split(o_x_train, o_y_train,\n",
    "#                                                   test_size=0.1,\n",
    "#                                                   random_state=20) # does random shuffle for us\n",
    "\n",
    "# y_train_targ = pd.get_dummies(y_train)\n",
    "# y_val_targ = pd.get_dummies(y_val)\n",
    "\n",
    "# x_train = x_train[:,:,:,np.newaxis]\n",
    "# x_val = x_val[:,:,:,np.newaxis]\n",
    "\n",
    "\n",
    "print('The Training set images have this shape: ' + str(X.shape))\n",
    "print('The Training set labels have this shape: ' + str(Y.shape))\n",
    "# print('The Validation set images have this shape: ' + str(x_val.shape))\n",
    "# print('The Validation set labels have this shape: ' + str(y_val_targ.shape))"
   ]
  },
  {
   "cell_type": "markdown",
   "metadata": {},
   "source": [
    "### set up model\n",
    "- see the architecture in the Deep Consensus paper (Table 1 in doi:10.1107/S2052252518014392)\n",
    "- note defaults in [keras documentation](https://keras.io) (eg `strides=1`)\n",
    "- `padding='same'` to match Deep Consensus Table 1"
   ]
  },
  {
   "cell_type": "code",
   "execution_count": 68,
   "metadata": {},
   "outputs": [
    {
     "name": "stdout",
     "output_type": "stream",
     "text": [
      "_________________________________________________________________\n",
      "Layer (type)                 Output Shape              Param #   \n",
      "=================================================================\n",
      "conv2d_25 (Conv2D)           (None, 128, 128, 8)       1808      \n",
      "_________________________________________________________________\n",
      "conv2d_26 (Conv2D)           (None, 128, 128, 8)       14408     \n",
      "_________________________________________________________________\n",
      "activation_13 (Activation)   (None, 128, 128, 8)       0         \n",
      "_________________________________________________________________\n",
      "batch_normalization_13 (Batc (None, 128, 128, 8)       32        \n",
      "_________________________________________________________________\n",
      "max_pooling2d_10 (MaxPooling (None, 64, 64, 8)         0         \n",
      "_________________________________________________________________\n",
      "conv2d_27 (Conv2D)           (None, 64, 64, 8)         3144      \n",
      "_________________________________________________________________\n",
      "conv2d_28 (Conv2D)           (None, 64, 64, 16)        6288      \n",
      "_________________________________________________________________\n",
      "activation_14 (Activation)   (None, 64, 64, 16)        0         \n",
      "_________________________________________________________________\n",
      "batch_normalization_14 (Batc (None, 64, 64, 16)        64        \n",
      "_________________________________________________________________\n",
      "max_pooling2d_11 (MaxPooling (None, 32, 32, 16)        0         \n",
      "_________________________________________________________________\n",
      "conv2d_29 (Conv2D)           (None, 32, 32, 32)        4640      \n",
      "_________________________________________________________________\n",
      "conv2d_30 (Conv2D)           (None, 32, 32, 32)        9248      \n",
      "_________________________________________________________________\n",
      "activation_15 (Activation)   (None, 32, 32, 32)        0         \n",
      "_________________________________________________________________\n",
      "batch_normalization_15 (Batc (None, 32, 32, 32)        128       \n",
      "_________________________________________________________________\n",
      "max_pooling2d_12 (MaxPooling (None, 16, 16, 32)        0         \n",
      "_________________________________________________________________\n",
      "conv2d_31 (Conv2D)           (None, 16, 16, 64)        18496     \n",
      "_________________________________________________________________\n",
      "conv2d_32 (Conv2D)           (None, 16, 16, 64)        36928     \n",
      "_________________________________________________________________\n",
      "activation_16 (Activation)   (None, 16, 16, 64)        0         \n",
      "_________________________________________________________________\n",
      "batch_normalization_16 (Batc (None, 16, 16, 64)        256       \n",
      "_________________________________________________________________\n",
      "average_pooling2d_4 (Average (None, 8, 8, 64)          0         \n",
      "_________________________________________________________________\n",
      "flatten_4 (Flatten)          (None, 4096)              0         \n",
      "_________________________________________________________________\n",
      "dense_7 (Dense)              (None, 512)               2097664   \n",
      "_________________________________________________________________\n",
      "dropout_4 (Dropout)          (None, 512)               0         \n",
      "_________________________________________________________________\n",
      "dense_8 (Dense)              (None, 2)                 1026      \n",
      "=================================================================\n",
      "Total params: 2,194,130\n",
      "Trainable params: 2,193,890\n",
      "Non-trainable params: 240\n",
      "_________________________________________________________________\n"
     ]
    }
   ],
   "source": [
    "model = Sequential()\n",
    "#2\n",
    "# 1808 = (15*15+1)*8\n",
    "# plus one for bias\n",
    "model.add(Conv2D(8, kernel_size=(15,15), activation='relu',input_shape=X.shape[1::], padding='same'))\n",
    "#3\n",
    "model.add(Conv2D(8, kernel_size=(15,15),padding='same'))\n",
    "# see https://stackoverflow.com/questions/34716454/where-do-i-call-the-batchnormalization-function-in-keras\n",
    "# not sure if batch normaliztion + relu or relu + batch normaliztion\n",
    "model.add(Activation('relu'))\n",
    "model.add(BatchNormalization())\n",
    "\n",
    "#4\n",
    "model.add(MaxPooling2D((7,7), strides=2,padding='same'))\n",
    "#5 \n",
    "model.add(Conv2D(8, kernel_size=(7,7), activation='relu',padding='same'))\n",
    "#6\n",
    "model.add(Conv2D(16, kernel_size=(7,7),padding='same'))\n",
    "model.add(Activation('relu'))\n",
    "model.add(BatchNormalization())\n",
    "\n",
    "#7\n",
    "model.add(MaxPooling2D((5,5), strides=2,padding='same'))\n",
    "#8 \n",
    "model.add(Conv2D(32, kernel_size=(3,3), activation='relu',padding='same'))\n",
    "#9\n",
    "model.add(Conv2D(32, kernel_size=(3,3),padding='same'))\n",
    "model.add(Activation('relu'))\n",
    "model.add(BatchNormalization())\n",
    "\n",
    "#10\n",
    "model.add(MaxPooling2D((3,3), strides=2,padding='same'))\n",
    "#11\n",
    "model.add(Conv2D(64, kernel_size=(3,3), activation='relu',padding='same'))\n",
    "#12\n",
    "model.add(Conv2D(64, kernel_size=(3,3),padding='same'))\n",
    "model.add(Activation('relu'))\n",
    "model.add(BatchNormalization())\n",
    "\n",
    "#13\n",
    "model.add(AveragePooling2D(pool_size=(4, 4), strides=2,padding='same'))\n",
    "###\n",
    "model.add(Flatten())\n",
    "model.add(Dense(512, activation='relu')) # 2097664 = 512*(8*8*64) ; AveragePooling2D size is 8*8*64=4096\n",
    "model.add(Dropout(rate=0.5)) # note large dropout rate\n",
    "\n",
    "n_classes = 2 #np.unique(o_y_train.tolist()).size\n",
    "model.add(Dense(n_classes, activation='softmax'))\n",
    "\n",
    "model.summary()\n",
    "\n",
    "model.compile(optimizer=SGD(), loss='categorical_crossentropy', metrics=['categorical_accuracy'])\n",
    "\n"
   ]
  },
  {
   "cell_type": "markdown",
   "metadata": {},
   "source": [
    "### fit and evaluate model"
   ]
  },
  {
   "cell_type": "code",
   "execution_count": 59,
   "metadata": {},
   "outputs": [
    {
     "name": "stdout",
     "output_type": "stream",
     "text": [
      "Epoch 1/1\n",
      "200/200 [==============================] - 23s 116ms/step - loss: 0.9110 - categorical_accuracy: 0.5300\n",
      "CPU times: user 1min 35s, sys: 22.8 s, total: 1min 57s\n",
      "Wall time: 23.7 s\n"
     ]
    },
    {
     "data": {
      "text/plain": [
       "<keras.callbacks.History at 0x111b39b00>"
      ]
     },
     "execution_count": 59,
     "metadata": {},
     "output_type": "execute_result"
    }
   ],
   "source": [
    "%%time\n",
    "model.fit(X, Y, epochs=1, batch_size=20)\n",
    "\n",
    "\n"
   ]
  },
  {
   "cell_type": "code",
   "execution_count": 15,
   "metadata": {},
   "outputs": [
    {
     "name": "stdout",
     "output_type": "stream",
     "text": [
      "Epoch 1/1\n",
      "1000/1000 [==============================] - 114s 114ms/step - loss: 9.0456e-04 - categorical_accuracy: 1.0000\n",
      "CPU times: user 7min 55s, sys: 1min 13s, total: 9min 8s\n",
      "Wall time: 1min 54s\n"
     ]
    },
    {
     "data": {
      "text/plain": [
       "<keras.callbacks.History at 0x1a774dc908>"
      ]
     },
     "execution_count": 15,
     "metadata": {},
     "output_type": "execute_result"
    }
   ],
   "source": [
    "%%time\n",
    "model.fit(X, Y, epochs=1, batch_size=100)\n",
    "\n",
    "\n"
   ]
  },
  {
   "cell_type": "code",
   "execution_count": 60,
   "metadata": {},
   "outputs": [
    {
     "name": "stdout",
     "output_type": "stream",
     "text": [
      "200/200 [==============================] - 8s 39ms/step\n",
      "\n",
      "categorical_accuracy: 65.50%\n",
      "CPU times: user 36.5 s, sys: 13.1 s, total: 49.6 s\n",
      "Wall time: 7.88 s\n"
     ]
    }
   ],
   "source": [
    "%%time\n",
    "scores = model.evaluate(X, Y)\n",
    "print(\"\\n%s: %.2f%%\" % (model.metrics_names[1], scores[1] * 100))"
   ]
  },
  {
   "cell_type": "code",
   "execution_count": 22,
   "metadata": {},
   "outputs": [
    {
     "name": "stdout",
     "output_type": "stream",
     "text": [
      "Epoch 1/1\n",
      "10/10 [==============================] - 118s 12s/step - loss: 7.3563e-04 - categorical_accuracy: 1.0000\n"
     ]
    },
    {
     "data": {
      "text/plain": [
       "<keras.callbacks.History at 0x11276a240>"
      ]
     },
     "execution_count": 22,
     "metadata": {},
     "output_type": "execute_result"
    }
   ],
   "source": [
    "model.fit_generator(image_loader(df,batch_size=100),steps_per_epoch=10, epochs=1) # steps_per_epoch is number of batches per epoch\n"
   ]
  },
  {
   "cell_type": "code",
   "execution_count": 17,
   "metadata": {},
   "outputs": [
    {
     "name": "stdout",
     "output_type": "stream",
     "text": [
      "1000/1000 [==============================] - 42s 42ms/step\n",
      "\n",
      "categorical_accuracy: 100.00%\n",
      "CPU times: user 3min 5s, sys: 1min 7s, total: 4min 12s\n",
      "Wall time: 42.1 s\n"
     ]
    }
   ],
   "source": [
    "%%time\n",
    "scores = model.evaluate(X, Y)\n",
    "print(\"\\n%s: %.2f%%\" % (model.metrics_names[1], scores[1] * 100))"
   ]
  },
  {
   "cell_type": "markdown",
   "metadata": {},
   "source": [
    "### training time\n",
    "\n",
    "| num particles (1000s) | batchsize | time (ETA, min) | platform|\n",
    "|-|-|-|-|\n",
    "|1|100|2|gw's macbook pro|\n",
    "|11|1| 39|\"|\n",
    "|11|2| 29|\"|\n",
    "|11|3| 27|\"|\n",
    "|11|5| 27|\"|\n",
    "|11|10| 23|\"|\n",
    "|11|25| 21|\"|\n",
    "|11|50| 22|\"|\n",
    "|11|100| 30|\"|\n",
    "|11|200| 44|\"|\n",
    "|20|25| 44|\"|\n"
   ]
  },
  {
   "cell_type": "code",
   "execution_count": 61,
   "metadata": {},
   "outputs": [
    {
     "data": {
      "text/plain": [
       "(19000, 3)"
      ]
     },
     "execution_count": 61,
     "metadata": {},
     "output_type": "execute_result"
    }
   ],
   "source": [
    "df.shape"
   ]
  },
  {
   "cell_type": "code",
   "execution_count": null,
   "metadata": {},
   "outputs": [
    {
     "name": "stdout",
     "output_type": "stream",
     "text": [
      "Epoch 1/1\n",
      " 90/760 [==>...........................] - ETA: 35:28 - loss: 0.4672 - categorical_accuracy: 0.7600"
     ]
    }
   ],
   "source": [
    "%%time\n",
    "batch_size = 25\n",
    "steps_per_epoch = np.floor(df.shape[0] / batch_size) # 110\n",
    "model.fit_generator(image_loader(df,batch_size=batch_size),steps_per_epoch=steps_per_epoch, epochs=1) # steps_per_epoch is number of batches per epoch\n"
   ]
  }
 ],
 "metadata": {
  "kernelspec": {
   "display_name": "Python 3",
   "language": "python",
   "name": "python3"
  },
  "language_info": {
   "codemirror_mode": {
    "name": "ipython",
    "version": 3
   },
   "file_extension": ".py",
   "mimetype": "text/x-python",
   "name": "python",
   "nbconvert_exporter": "python",
   "pygments_lexer": "ipython3",
   "version": "3.6.8"
  }
 },
 "nbformat": 4,
 "nbformat_minor": 2
}
