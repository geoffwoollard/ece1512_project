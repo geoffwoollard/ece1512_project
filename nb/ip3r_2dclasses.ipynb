{
 "cells": [
  {
   "cell_type": "markdown",
   "metadata": {},
   "source": [
    "# Goal\n",
    "* make fit generator than can use 'blob/idx' info"
   ]
  },
  {
   "cell_type": "code",
   "execution_count": 1,
   "metadata": {},
   "outputs": [
    {
     "name": "stderr",
     "output_type": "stream",
     "text": [
      "Using TensorFlow backend.\n"
     ]
    },
    {
     "name": "stdout",
     "output_type": "stream",
     "text": [
      "/Users/gw/repos/ece1512_project\n"
     ]
    }
   ],
   "source": [
    "import keras\n",
    "import matplotlib.pyplot as plt\n",
    "import numpy as np\n",
    "import pandas as pd\n",
    "from sklearn.model_selection import train_test_split\n",
    "from keras.layers import Dense, Activation, AveragePooling2D, Dropout, Conv2D, MaxPooling2D, Flatten\n",
    "from keras.models import Sequential\n",
    "from keras.layers.normalization import BatchNormalization\n",
    "from keras.optimizers import RMSprop, Adadelta, Adam, SGD\n",
    "from keras.utils.np_utils import to_categorical\n",
    "%cd ~/repos/ece1512_project/\n",
    "import mrc, fit_generator_helper, customizable_deep_network"
   ]
  },
  {
   "cell_type": "code",
   "execution_count": 44,
   "metadata": {},
   "outputs": [
    {
     "data": {
      "text/plain": [
       "<module 'fit_generator_helper' from '/Users/gw/repos/ece1512_project/fit_generator_helper.py'>"
      ]
     },
     "execution_count": 44,
     "metadata": {},
     "output_type": "execute_result"
    }
   ],
   "source": [
    "from imp import reload\n",
    "reload(fit_generator_helper)"
   ]
  },
  {
   "cell_type": "code",
   "execution_count": 7,
   "metadata": {},
   "outputs": [],
   "source": [
    "d = np.load('/Users/gw/repos/superpick/data/muhn_Data2_P30_J106/particles_selected.cs')\n",
    "df = pd.DataFrame(d[['blob/path','alignments2D/class', 'blob/idx']])\n",
    "pdir = '/Users/gw/repos/superpick/data/'\n",
    "df['blob/path'] = pdir + df['blob/path'].str.decode(\"utf-8\") #https://stackoverflow.com/questions/40389764/how-to-translate-bytes-objects-into-literal-strings-in-pandas-dataframe-pytho\n",
    "df = df.rename(columns={'alignments2D/class':'class','blob/idx':'idx','blob/path':'fname'})\n",
    "header = mrc.read_header(df['fname'].loc[0])\n",
    "nx,ny = header['nx'], header['ny']\n",
    "d = {k:v for v,k in enumerate(df['class'].unique())}\n",
    "df['class'] = df['class'].map(d)\n",
    "df = df.head(100)"
   ]
  },
  {
   "cell_type": "code",
   "execution_count": 8,
   "metadata": {},
   "outputs": [],
   "source": [
    "# 10%/90% test/train split\n",
    "val_n = int(0.1*df.shape[0]) \n",
    "df = df.iloc[:-val_n]\n",
    "df_val = df.iloc[-val_n:]"
   ]
  },
  {
   "cell_type": "code",
   "execution_count": 9,
   "metadata": {},
   "outputs": [],
   "source": [
    "X_val,Y_val = fit_generator_helper.XY_from_df_batch(df_val,nx=nx,ny=ny,num_classes=df.head(10)['class'].unique().size)"
   ]
  },
  {
   "cell_type": "code",
   "execution_count": 10,
   "metadata": {},
   "outputs": [],
   "source": [
    "params = customizable_deep_network.architecture_params_wrapper(blocks=6,\n",
    "                                inputl_kernel=30,\n",
    "                                inputl_node=8,\n",
    "                                hiddenl_kernels=(15,7,5),\n",
    "                                hiddenl_nodes=((8,8),(8,16),(32,32)),\n",
    "                                pooling_sizes = (15,7,5,3),\n",
    "                                n1_ave_pool=64, \n",
    "                                n2_ave_pool=64, \n",
    "                                k1_ave_pool=3, \n",
    "                                k2_ave_pool=3, \n",
    "                                av_pool=4,\n",
    "                                val_dense=256,\n",
    "                                drop=0.5\n",
    "                               )"
   ]
  },
  {
   "cell_type": "code",
   "execution_count": 11,
   "metadata": {},
   "outputs": [
    {
     "name": "stdout",
     "output_type": "stream",
     "text": [
      "_________________________________________________________________\n",
      "Layer (type)                 Output Shape              Param #   \n",
      "=================================================================\n",
      "conv2d_11 (Conv2D)           (None, 352, 352, 8)       7208      \n",
      "_________________________________________________________________\n",
      "conv2d_12 (Conv2D)           (None, 352, 352, 8)       57608     \n",
      "_________________________________________________________________\n",
      "batch_normalization_6 (Batch (None, 352, 352, 8)       32        \n",
      "_________________________________________________________________\n",
      "activation_6 (Activation)    (None, 352, 352, 8)       0         \n",
      "_________________________________________________________________\n",
      "max_pooling2d_5 (MaxPooling2 (None, 176, 176, 8)       0         \n",
      "_________________________________________________________________\n",
      "conv2d_13 (Conv2D)           (None, 176, 176, 8)       14408     \n",
      "_________________________________________________________________\n",
      "conv2d_14 (Conv2D)           (None, 176, 176, 8)       14408     \n",
      "_________________________________________________________________\n",
      "batch_normalization_7 (Batch (None, 176, 176, 8)       32        \n",
      "_________________________________________________________________\n",
      "activation_7 (Activation)    (None, 176, 176, 8)       0         \n",
      "_________________________________________________________________\n",
      "max_pooling2d_6 (MaxPooling2 (None, 88, 88, 8)         0         \n",
      "_________________________________________________________________\n",
      "conv2d_15 (Conv2D)           (None, 88, 88, 8)         3144      \n",
      "_________________________________________________________________\n",
      "conv2d_16 (Conv2D)           (None, 88, 88, 16)        6288      \n",
      "_________________________________________________________________\n",
      "batch_normalization_8 (Batch (None, 88, 88, 16)        64        \n",
      "_________________________________________________________________\n",
      "activation_8 (Activation)    (None, 88, 88, 16)        0         \n",
      "_________________________________________________________________\n",
      "max_pooling2d_7 (MaxPooling2 (None, 44, 44, 16)        0         \n",
      "_________________________________________________________________\n",
      "conv2d_17 (Conv2D)           (None, 44, 44, 32)        12832     \n",
      "_________________________________________________________________\n",
      "conv2d_18 (Conv2D)           (None, 44, 44, 32)        25632     \n",
      "_________________________________________________________________\n",
      "batch_normalization_9 (Batch (None, 44, 44, 32)        128       \n",
      "_________________________________________________________________\n",
      "activation_9 (Activation)    (None, 44, 44, 32)        0         \n",
      "_________________________________________________________________\n",
      "max_pooling2d_8 (MaxPooling2 (None, 22, 22, 32)        0         \n",
      "_________________________________________________________________\n",
      "conv2d_19 (Conv2D)           (None, 22, 22, 64)        18496     \n",
      "_________________________________________________________________\n",
      "conv2d_20 (Conv2D)           (None, 22, 22, 64)        36928     \n",
      "_________________________________________________________________\n",
      "batch_normalization_10 (Batc (None, 22, 22, 64)        256       \n",
      "_________________________________________________________________\n",
      "activation_10 (Activation)   (None, 22, 22, 64)        0         \n",
      "_________________________________________________________________\n",
      "average_pooling2d_2 (Average (None, 11, 11, 64)        0         \n",
      "_________________________________________________________________\n",
      "flatten_2 (Flatten)          (None, 7744)              0         \n",
      "_________________________________________________________________\n",
      "dense_3 (Dense)              (None, 256)               1982720   \n",
      "_________________________________________________________________\n",
      "dropout_2 (Dropout)          (None, 256)               0         \n",
      "_________________________________________________________________\n",
      "dense_4 (Dense)              (None, 7)                 1799      \n",
      "=================================================================\n",
      "Total params: 2,181,983\n",
      "Trainable params: 2,181,727\n",
      "Non-trainable params: 256\n",
      "_________________________________________________________________\n",
      "None\n"
     ]
    }
   ],
   "source": [
    "# Define input shape and number of classes\n",
    "\n",
    "input_shape=X_val.shape[1::]\n",
    "n_classes = Y_val.shape[1]\n",
    "\n",
    "# Call function build_network\n",
    "\n",
    "model = customizable_deep_network.build_network (\n",
    "  blocks=params['blocks'],\n",
    "  input_shape=input_shape, \n",
    "  inputl_node=params['inputl_node'],\n",
    "  inputl_kernel=params['inputl_kernel'],\n",
    "  hiddenl_node=params['hiddenl_node'],\n",
    "    \n",
    "  hiddenl_kernel=params['hiddenl_kernel'], \n",
    "  pooling_size=params['pooling_size'], \n",
    "  n1_ave_pool=params['n1_ave_pool'], \n",
    "  n2_ave_pool=params['n2_ave_pool'], \n",
    "    \n",
    "  k1_ave_pool=params['k1_ave_pool'], \n",
    "  k2_ave_pool=params['k2_ave_pool'], \n",
    "  av_pool=params['av_pool'], \n",
    "  val_dense=params['val_dense'], \n",
    "  drop=params['drop'], \n",
    "  n_classes=n_classes)\n",
    "\n",
    "model.compile(optimizer = SGD() , loss='categorical_crossentropy', metrics=['categorical_accuracy'])\n",
    "print(model.summary())\n"
   ]
  },
  {
   "cell_type": "markdown",
   "metadata": {},
   "source": [
    "# train model"
   ]
  },
  {
   "cell_type": "code",
   "execution_count": 12,
   "metadata": {},
   "outputs": [],
   "source": [
    "batch_size = 10\n",
    "steps_per_epoch = np.floor(df.shape[0] / batch_size) # 110 for 11k particles"
   ]
  },
  {
   "cell_type": "code",
   "execution_count": 13,
   "metadata": {},
   "outputs": [
    {
     "name": "stdout",
     "output_type": "stream",
     "text": [
      "epoch 0\n",
      "Epoch 1/1\n",
      "9/9 [==============================] - 321s 36s/step - loss: 2.6427 - categorical_accuracy: 0.1333\n",
      "10/10 [==============================] - 8s 754ms/step\n",
      "categorical_accuracy: 40.00%\n"
     ]
    }
   ],
   "source": [
    "for _ in range(1):\n",
    "    print('epoch %i' % _)\n",
    "    model.fit_generator(fit_generator_helper.image_loader(df,batch_size=batch_size,nx=nx,ny=ny,num_classes=7),\n",
    "                    steps_per_epoch=steps_per_epoch, # steps_per_epoch is number of batches per epoch\n",
    "                    epochs=1,\n",
    "                   )\n",
    "    scores = model.evaluate(X_val, Y_val)\n",
    "    print(\"%s: %.2f%%\" % (model.metrics_names[1], scores[1] * 100))"
   ]
  }
 ],
 "metadata": {
  "kernelspec": {
   "display_name": "Python 3",
   "language": "python",
   "name": "python3"
  },
  "language_info": {
   "codemirror_mode": {
    "name": "ipython",
    "version": 3
   },
   "file_extension": ".py",
   "mimetype": "text/x-python",
   "name": "python",
   "nbconvert_exporter": "python",
   "pygments_lexer": "ipython3",
   "version": "3.6.8"
  }
 },
 "nbformat": 4,
 "nbformat_minor": 2
}
