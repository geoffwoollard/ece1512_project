{
  "nbformat": 4,
  "nbformat_minor": 0,
  "metadata": {
    "colab": {
      "name": "more-layers.ipynb",
      "version": "0.3.2",
      "provenance": [],
      "collapsed_sections": []
    },
    "kernelspec": {
      "name": "python3",
      "display_name": "Python 3"
    },
    "accelerator": "GPU"
  },
  "cells": [
    {
      "metadata": {
        "id": "XEr888EF35TW",
        "colab_type": "text"
      },
      "cell_type": "markdown",
      "source": [
        "# Goal\n",
        "- try out more hidden layers (instead of 3 try 4-8 until can use 512 dense network and have $10^6$ params)"
      ]
    },
    {
      "metadata": {
        "id": "vs4L2BZ4Fch2",
        "colab_type": "code",
        "colab": {}
      },
      "cell_type": "code",
      "source": [
        "import glob\n",
        "import numpy as np\n",
        "import matplotlib.pyplot as plt"
      ],
      "execution_count": 0,
      "outputs": []
    },
    {
      "metadata": {
        "id": "dDu5KYOh35Tc",
        "colab_type": "code",
        "outputId": "476d1d95-1f3c-4414-ef76-b74908fd3646",
        "colab": {
          "base_uri": "https://localhost:8080/",
          "height": 34
        }
      },
      "cell_type": "code",
      "source": [
        "from google.colab import drive\n",
        "drive.mount('/content/drive/')"
      ],
      "execution_count": 2,
      "outputs": [
        {
          "output_type": "stream",
          "text": [
            "Drive already mounted at /content/drive/; to attempt to forcibly remount, call drive.mount(\"/content/drive/\", force_remount=True).\n"
          ],
          "name": "stdout"
        }
      ]
    },
    {
      "metadata": {
        "id": "MMeeYh2PfYwL",
        "colab_type": "code",
        "outputId": "8c113ec6-f851-4f69-87af-bdf89b8c8900",
        "colab": {
          "base_uri": "https://localhost:8080/",
          "height": 122
        }
      },
      "cell_type": "code",
      "source": [
        "%cd /content/drive/My\\ Drive/ece1512/project/ece1512_project\n",
        "from deep_consensus import deep_consensus_wrapper\n",
        "import fit_generator_helper, customizable_deep_network\n",
        "import mrc"
      ],
      "execution_count": 3,
      "outputs": [
        {
          "output_type": "stream",
          "text": [
            "/content/drive/My Drive/ece1512/project/ece1512_project\n"
          ],
          "name": "stdout"
        },
        {
          "output_type": "stream",
          "text": [
            "Using TensorFlow backend.\n"
          ],
          "name": "stderr"
        },
        {
          "output_type": "stream",
          "text": [
            "WARNING:tensorflow:From /usr/local/lib/python3.6/dist-packages/tensorflow/python/framework/op_def_library.py:263: colocate_with (from tensorflow.python.framework.ops) is deprecated and will be removed in a future version.\n",
            "Instructions for updating:\n",
            "Colocations handled automatically by placer.\n"
          ],
          "name": "stdout"
        }
      ]
    },
    {
      "metadata": {
        "id": "GyVtsqlK35Tk",
        "colab_type": "text"
      },
      "cell_type": "markdown",
      "source": [
        "# set up data\n",
        "- J109 ligand\n",
        "- J110 no ligand\n",
        "- J119 missing quarter core\n",
        "- J123 missing half core\n",
        "- J125 missing particle\n",
        "- J128 full particle (missing tiny piece of noise)\n",
        "- J138 missing small region, size 4\n",
        "- J139 missing small region, size 2\n",
        "- J145 sc all\n",
        "- J146 sc small region missing, bit smaller than cytc, hard to see in 2d class\n",
        "- J151 sc 2x cytc missing"
      ]
    },
    {
      "metadata": {
        "id": "v_vvO2AG35Tl",
        "colab_type": "code",
        "colab": {}
      },
      "cell_type": "code",
      "source": [
        "fname_list = []\n",
        "label_list=[]\n",
        "# each directory is associated with a label. there are multiple mrcs files in the directory (only two for now, but probably tens later with more data)\n",
        "for fname in glob.glob('/content/drive/My Drive/ece1512/project/P11/J145/*.mrcs'):#[:-1]:\n",
        "  label_list.append(0)\n",
        "  fname_list.append(fname)\n",
        "\n",
        "for fname in glob.glob('/content/drive/My Drive/ece1512/project/P11/J151/*.mrcs'):#[-1:]:\n",
        "  label_list.append(1)\n",
        "  fname_list.append(fname) \n",
        "                      \n",
        "\n",
        "df = fit_generator_helper.parse_files(fname_list,label_list)\n",
        "df = df.sample(df.shape[0])\n",
        "header = mrc.read_header(fname_list[0])\n",
        "nx,ny=header['nx'],header['nx']\n",
        "val_n = int(0.1*df.shape[0]) # 10%/90% test/train split\n",
        "df = df.iloc[:-val_n]\n",
        "df_val = df.iloc[-val_n:]"
      ],
      "execution_count": 0,
      "outputs": []
    },
    {
      "metadata": {
        "id": "h-2RGc5X35Tn",
        "colab_type": "code",
        "outputId": "ca76d4a5-af7f-4b6b-89c0-504a76802260",
        "colab": {
          "base_uri": "https://localhost:8080/",
          "height": 34
        }
      },
      "cell_type": "code",
      "source": [
        "X_val,Y_val = fit_generator_helper.XY_from_df_batch(df_val,nx=nx,ny=ny) # crop \n",
        "X_val.shape"
      ],
      "execution_count": 5,
      "outputs": [
        {
          "output_type": "execute_result",
          "data": {
            "text/plain": [
              "(200, 380, 380, 1)"
            ]
          },
          "metadata": {
            "tags": []
          },
          "execution_count": 5
        }
      ]
    },
    {
      "metadata": {
        "id": "TbGkS81UvrN8",
        "colab_type": "code",
        "colab": {}
      },
      "cell_type": "code",
      "source": [
        "from scipy.ndimage.filters import gaussian_filter"
      ],
      "execution_count": 0,
      "outputs": []
    },
    {
      "metadata": {
        "id": "qmMAPpYZ35Tp",
        "colab_type": "code",
        "outputId": "258ae959-a63a-48e5-b041-6e1aba35f530",
        "colab": {
          "base_uri": "https://localhost:8080/",
          "height": 283
        }
      },
      "cell_type": "code",
      "source": [
        "X,Y = X_val,Y_val\n",
        "\n",
        "# first index of different labels (shuffled up)\n",
        "s,e=0,10\n",
        "i=np.argwhere((Y_val[s:e]==np.array([1,0])).mean(1) == 1).flatten()[0]\n",
        "j=np.argwhere((Y_val[s:e]==np.array([0,1])).mean(1) == 1).flatten()[0]\n",
        "\n",
        "sigma=3\n",
        "\n",
        "fig = plt.figure()\n",
        "a = fig.add_subplot(121)\n",
        "a.set_title('%s' % Y[i]) # class 1\n",
        "plt.imshow(gaussian_filter(X[i,:,:,0],sigma),cmap='gray')\n",
        "\n",
        "a = fig.add_subplot(122)\n",
        "a.set_title('%s' % Y[j]) # class 0\n",
        "plt.imshow(gaussian_filter(X[j,:,:,0],sigma),cmap='gray')\n"
      ],
      "execution_count": 18,
      "outputs": [
        {
          "output_type": "execute_result",
          "data": {
            "text/plain": [
              "<matplotlib.image.AxesImage at 0x7f8c06ff3c50>"
            ]
          },
          "metadata": {
            "tags": []
          },
          "execution_count": 18
        },
        {
          "output_type": "display_data",
          "data": {
            "image/png": "[encoded data removed]",
            "text/plain": [
              "<Figure size 576x396 with 2 Axes>"
            ]
          },
          "metadata": {
            "tags": []
          }
        }
      ]
    },
    {
      "metadata": {
        "id": "g1eUO81X35Ts",
        "colab_type": "text"
      },
      "cell_type": "markdown",
      "source": [
        "# build model"
      ]
    },
    {
      "metadata": {
        "id": "uYKbo17bjWkS",
        "colab_type": "text"
      },
      "cell_type": "markdown",
      "source": [
        "### `deep_consensus_wrapper`"
      ]
    },
    {
      "metadata": {
        "id": "6fotWgFtdql7",
        "colab_type": "code",
        "colab": {}
      },
      "cell_type": "code",
      "source": [
        "from keras.optimizers import Adam, SGD\n"
      ],
      "execution_count": 0,
      "outputs": []
    },
    {
      "metadata": {
        "id": "26yPcg_-35Tu",
        "colab_type": "code",
        "outputId": "8219672b-aa89-401e-86f1-c0e35f9dc7a7",
        "colab": {
          "base_uri": "https://localhost:8080/",
          "height": 1040
        }
      },
      "cell_type": "code",
      "source": [
        "model = deep_consensus_wrapper(input_shape=X.shape[1::],dense13_n=512,optimizer=SGD())\n",
        "print(model.summary())"
      ],
      "execution_count": 20,
      "outputs": [
        {
          "output_type": "stream",
          "text": [
            "WARNING:tensorflow:From /usr/local/lib/python3.6/dist-packages/keras/backend/tensorflow_backend.py:3445: calling dropout (from tensorflow.python.ops.nn_ops) with keep_prob is deprecated and will be removed in a future version.\n",
            "Instructions for updating:\n",
            "Please use `rate` instead of `keep_prob`. Rate should be set to `rate = 1 - keep_prob`.\n",
            "_________________________________________________________________\n",
            "Layer (type)                 Output Shape              Param #   \n",
            "=================================================================\n",
            "conv2d_1 (Conv2D)            (None, 380, 380, 8)       1808      \n",
            "_________________________________________________________________\n",
            "conv2d_2 (Conv2D)            (None, 380, 380, 8)       14408     \n",
            "_________________________________________________________________\n",
            "batch_normalization_1 (Batch (None, 380, 380, 8)       32        \n",
            "_________________________________________________________________\n",
            "activation_1 (Activation)    (None, 380, 380, 8)       0         \n",
            "_________________________________________________________________\n",
            "max_pooling2d_1 (MaxPooling2 (None, 190, 190, 8)       0         \n",
            "_________________________________________________________________\n",
            "conv2d_3 (Conv2D)            (None, 190, 190, 8)       3144      \n",
            "_________________________________________________________________\n",
            "conv2d_4 (Conv2D)            (None, 190, 190, 16)      6288      \n",
            "_________________________________________________________________\n",
            "batch_normalization_2 (Batch (None, 190, 190, 16)      64        \n",
            "_________________________________________________________________\n",
            "activation_2 (Activation)    (None, 190, 190, 16)      0         \n",
            "_________________________________________________________________\n",
            "max_pooling2d_2 (MaxPooling2 (None, 95, 95, 16)        0         \n",
            "_________________________________________________________________\n",
            "conv2d_5 (Conv2D)            (None, 95, 95, 32)        4640      \n",
            "_________________________________________________________________\n",
            "conv2d_6 (Conv2D)            (None, 95, 95, 32)        9248      \n",
            "_________________________________________________________________\n",
            "batch_normalization_3 (Batch (None, 95, 95, 32)        128       \n",
            "_________________________________________________________________\n",
            "activation_3 (Activation)    (None, 95, 95, 32)        0         \n",
            "_________________________________________________________________\n",
            "max_pooling2d_3 (MaxPooling2 (None, 48, 48, 32)        0         \n",
            "_________________________________________________________________\n",
            "conv2d_7 (Conv2D)            (None, 48, 48, 64)        18496     \n",
            "_________________________________________________________________\n",
            "conv2d_8 (Conv2D)            (None, 48, 48, 64)        36928     \n",
            "_________________________________________________________________\n",
            "batch_normalization_4 (Batch (None, 48, 48, 64)        256       \n",
            "_________________________________________________________________\n",
            "activation_4 (Activation)    (None, 48, 48, 64)        0         \n",
            "_________________________________________________________________\n",
            "average_pooling2d_1 (Average (None, 24, 24, 64)        0         \n",
            "_________________________________________________________________\n",
            "flatten_1 (Flatten)          (None, 36864)             0         \n",
            "_________________________________________________________________\n",
            "dense_1 (Dense)              (None, 512)               18874880  \n",
            "_________________________________________________________________\n",
            "dropout_1 (Dropout)          (None, 512)               0         \n",
            "_________________________________________________________________\n",
            "dense_2 (Dense)              (None, 2)                 1026      \n",
            "=================================================================\n",
            "Total params: 18,971,346\n",
            "Trainable params: 18,971,106\n",
            "Non-trainable params: 240\n",
            "_________________________________________________________________\n",
            "None\n"
          ],
          "name": "stdout"
        }
      ]
    },
    {
      "metadata": {
        "id": "fwYvxv8DjbN-",
        "colab_type": "text"
      },
      "cell_type": "markdown",
      "source": [
        "### `customizable_deep_network`"
      ]
    },
    {
      "metadata": {
        "id": "LQozC8apktZL",
        "colab_type": "code",
        "colab": {}
      },
      "cell_type": "code",
      "source": [
        "def architecture_params_wrapper(blocks=5,\n",
        "                                inputl_kernel=15,\n",
        "                                inputl_node=8,\n",
        "                                hiddenl_kernels=(7,5),\n",
        "                                hiddenl_nodes=((8,16),(32,32)),\n",
        "                                pooling_sizes = (7,5,3),\n",
        "                                n1_ave_pool=64, \n",
        "                                n2_ave_pool=64, \n",
        "                                k1_ave_pool=3, \n",
        "                                k2_ave_pool=3, \n",
        "                                av_pool=4,\n",
        "                                val_dense=512,\n",
        "                                drop=0.5\n",
        "                               ):\n",
        "  params={}\n",
        "  params['blocks'] = blocks # Each block has 5 layers = 2 Conv2D + 1 Activation + 1 Normalization + 1 Pooling\n",
        "\n",
        "\n",
        "  \"\"\" \n",
        "  Helper function to make architecture inspired by deep consensus\n",
        "  param blocks: Each block has 5 layers = 2 Conv2D + 1 Activation + 1 Normalization + 1 Pooling\n",
        "  param k1_size:  Kernel size of the first Conv2D layer\n",
        "  param K2_size: Kernel size of the second Conv2D layer\n",
        "  param pool1: max pooling size\n",
        "  returns: param dictionary\n",
        "  \"\"\"\n",
        "\n",
        "  #inputl_kernel = [k1_size,k2_size]\n",
        "  \"\"\"Represents the kernel size of the first layer of the network or call input layer\"\"\"\n",
        "  assert type(inputl_kernel) == int\n",
        "  params['inputl_kernel'] = [inputl_kernel,inputl_kernel]\n",
        "\n",
        "  #inputl_node =  [node1_number, node2_number]\n",
        "  \"\"\"Represents the number of node that each CONV2D layer has in the first layer\"\"\"\n",
        "  assert type(inputl_node) == int\n",
        "  params['inputl_node'] = [inputl_node,inputl_node]\n",
        "\n",
        "  #hiddenl_kernel = [k3_size, k4_size, k5_size,k6_size,...] # Depends on the number of layers\n",
        "  \"\"\"Represents the kernel size of the hidden layers of the network\"\"\"\n",
        "  \n",
        "  params['hiddenl_kernel']=[]\n",
        "  assert len(hiddenl_kernels) == blocks - 3\n",
        "  for i in hiddenl_kernels:\n",
        "    assert type(i) == int                         \n",
        "    params['hiddenl_kernel'].extend((i,i)) # [11, 11,7, 7,5,5,3,3]\n",
        "\n",
        "  # hiddenl_node = [node3_number, node4_number, node5_number, node6_number,...] # Depends on the number of layers\n",
        "  \"\"\"Represents the number of node that each CONV2D layer has in the hidden layers\"\"\"\n",
        "  params['hiddenl_node']=[]\n",
        "  assert len(hiddenl_nodes) == blocks - 3\n",
        "  for i in hiddenl_nodes:\n",
        "    assert type(i) == tuple\n",
        "    assert len(i) == 2                         \n",
        "    params['hiddenl_node'].extend(i) # [8,16,32,32,32,32,32,32]\n",
        "  for i in params['hiddenl_node']:\n",
        "    assert type(i) == int\n",
        "\n",
        "  # pooling_size = [pool1_size, pool2_size, pool3_size, ...] # Depends on the number of layers\n",
        "  \"\"\"Represents the size of pooling layer in the input and hidden layer\"\"\"\n",
        "  assert len(pooling_sizes) == blocks - 3 + 1\n",
        "  params['pooling_size']=pooling_sizes\n",
        "\n",
        "  # Penultimate Block\n",
        "  # av_pool = [node1_number, node2_number, k1_size, k2_size, av_pool_size]\n",
        "  #average_pool= [64, 64, 3, 3, 4]\n",
        "  params['n1_ave_pool'] = n1_ave_pool\n",
        "  params['n2_ave_pool'] = n2_ave_pool\n",
        "  params['k1_ave_pool'] = k1_ave_pool\n",
        "  params['k2_ave_pool'] = k2_ave_pool\n",
        "  params['av_pool'] = av_pool\n",
        "\n",
        "  # Output Layer = Full connected network\n",
        "  params['val_dense'] = val_dense\n",
        "  params['drop'] = drop\n",
        "  return(params)\n",
        "\n",
        "params = architecture_params_wrapper(blocks=6,\n",
        "                                inputl_kernel=30,\n",
        "                                inputl_node=8,\n",
        "                                hiddenl_kernels=(15,7,5),\n",
        "                                hiddenl_nodes=((8,8),(8,16),(32,32)),\n",
        "                                pooling_sizes = (15,7,5,3),\n",
        "                                n1_ave_pool=64, \n",
        "                                n2_ave_pool=64, \n",
        "                                k1_ave_pool=3, \n",
        "                                k2_ave_pool=3, \n",
        "                                av_pool=4,\n",
        "                                val_dense=256,\n",
        "                                drop=0.5\n",
        "                               )"
      ],
      "execution_count": 0,
      "outputs": []
    },
    {
      "metadata": {
        "id": "A7MtiLzFjU6y",
        "colab_type": "code",
        "outputId": "e2fe099e-7e67-49a9-bc0b-f3dc79ae7a24",
        "colab": {
          "base_uri": "https://localhost:8080/",
          "height": 1139
        }
      },
      "cell_type": "code",
      "source": [
        "# Define input shape and number of classes\n",
        "\n",
        "input_shape=X.shape[1::]\n",
        "n_classes = 2\n",
        "\n",
        "# Call function build_network\n",
        "\n",
        "model = customizable_deep_network.build_network (\n",
        "  blocks=params['blocks'],\n",
        "  input_shape=input_shape, \n",
        "  inputl_node=params['inputl_node'],\n",
        "  inputl_kernel=params['inputl_kernel'],\n",
        "  hiddenl_node=params['hiddenl_node'],\n",
        "    \n",
        "  hiddenl_kernel=params['hiddenl_kernel'], \n",
        "  pooling_size=params['pooling_size'], \n",
        "  n1_ave_pool=params['n1_ave_pool'], \n",
        "  n2_ave_pool=params['n2_ave_pool'], \n",
        "    \n",
        "  k1_ave_pool=params['k1_ave_pool'], \n",
        "  k2_ave_pool=params['k2_ave_pool'], \n",
        "  av_pool=params['av_pool'], \n",
        "  val_dense=params['val_dense'], \n",
        "  drop=params['drop'], \n",
        "  n_classes=n_classes)\n",
        "\n",
        "print(model.summary())\n",
        "model.compile(optimizer = SGD() , loss='categorical_crossentropy', metrics=['categorical_accuracy'])"
      ],
      "execution_count": 24,
      "outputs": [
        {
          "output_type": "stream",
          "text": [
            "_________________________________________________________________\n",
            "Layer (type)                 Output Shape              Param #   \n",
            "=================================================================\n",
            "conv2d_19 (Conv2D)           (None, 380, 380, 8)       7208      \n",
            "_________________________________________________________________\n",
            "conv2d_20 (Conv2D)           (None, 380, 380, 8)       57608     \n",
            "_________________________________________________________________\n",
            "batch_normalization_10 (Batc (None, 380, 380, 8)       32        \n",
            "_________________________________________________________________\n",
            "activation_10 (Activation)   (None, 380, 380, 8)       0         \n",
            "_________________________________________________________________\n",
            "max_pooling2d_8 (MaxPooling2 (None, 190, 190, 8)       0         \n",
            "_________________________________________________________________\n",
            "conv2d_21 (Conv2D)           (None, 190, 190, 8)       14408     \n",
            "_________________________________________________________________\n",
            "conv2d_22 (Conv2D)           (None, 190, 190, 8)       14408     \n",
            "_________________________________________________________________\n",
            "batch_normalization_11 (Batc (None, 190, 190, 8)       32        \n",
            "_________________________________________________________________\n",
            "activation_11 (Activation)   (None, 190, 190, 8)       0         \n",
            "_________________________________________________________________\n",
            "max_pooling2d_9 (MaxPooling2 (None, 95, 95, 8)         0         \n",
            "_________________________________________________________________\n",
            "conv2d_23 (Conv2D)           (None, 95, 95, 8)         3144      \n",
            "_________________________________________________________________\n",
            "conv2d_24 (Conv2D)           (None, 95, 95, 16)        6288      \n",
            "_________________________________________________________________\n",
            "batch_normalization_12 (Batc (None, 95, 95, 16)        64        \n",
            "_________________________________________________________________\n",
            "activation_12 (Activation)   (None, 95, 95, 16)        0         \n",
            "_________________________________________________________________\n",
            "max_pooling2d_10 (MaxPooling (None, 48, 48, 16)        0         \n",
            "_________________________________________________________________\n",
            "conv2d_25 (Conv2D)           (None, 48, 48, 32)        12832     \n",
            "_________________________________________________________________\n",
            "conv2d_26 (Conv2D)           (None, 48, 48, 32)        25632     \n",
            "_________________________________________________________________\n",
            "batch_normalization_13 (Batc (None, 48, 48, 32)        128       \n",
            "_________________________________________________________________\n",
            "activation_13 (Activation)   (None, 48, 48, 32)        0         \n",
            "_________________________________________________________________\n",
            "max_pooling2d_11 (MaxPooling (None, 24, 24, 32)        0         \n",
            "_________________________________________________________________\n",
            "conv2d_27 (Conv2D)           (None, 24, 24, 64)        18496     \n",
            "_________________________________________________________________\n",
            "conv2d_28 (Conv2D)           (None, 24, 24, 64)        36928     \n",
            "_________________________________________________________________\n",
            "batch_normalization_14 (Batc (None, 24, 24, 64)        256       \n",
            "_________________________________________________________________\n",
            "activation_14 (Activation)   (None, 24, 24, 64)        0         \n",
            "_________________________________________________________________\n",
            "average_pooling2d_3 (Average (None, 12, 12, 64)        0         \n",
            "_________________________________________________________________\n",
            "flatten_3 (Flatten)          (None, 9216)              0         \n",
            "_________________________________________________________________\n",
            "dense_5 (Dense)              (None, 256)               2359552   \n",
            "_________________________________________________________________\n",
            "dropout_3 (Dropout)          (None, 256)               0         \n",
            "_________________________________________________________________\n",
            "dense_6 (Dense)              (None, 2)                 514       \n",
            "=================================================================\n",
            "Total params: 2,557,530\n",
            "Trainable params: 2,557,274\n",
            "Non-trainable params: 256\n",
            "_________________________________________________________________\n",
            "None\n"
          ],
          "name": "stdout"
        }
      ]
    },
    {
      "metadata": {
        "id": "gJqDqRxg35Tx",
        "colab_type": "text"
      },
      "cell_type": "markdown",
      "source": [
        "# train model"
      ]
    },
    {
      "metadata": {
        "id": "OV5FEB5M35Ty",
        "colab_type": "code",
        "colab": {}
      },
      "cell_type": "code",
      "source": [
        "batch_size = 100\n",
        "steps_per_epoch = np.floor(df.shape[0] / batch_size) # 110 for 11k particles"
      ],
      "execution_count": 0,
      "outputs": []
    },
    {
      "metadata": {
        "id": "yy3BG7bRwqIn",
        "colab_type": "code",
        "colab": {}
      },
      "cell_type": "code",
      "source": [
        "#model = loaded_model"
      ],
      "execution_count": 0,
      "outputs": []
    },
    {
      "metadata": {
        "id": "-JvNQdzg35T0",
        "colab_type": "code",
        "outputId": "e1a6dbee-c07f-4f50-f43b-a0c4216f8e8f",
        "colab": {
          "base_uri": "https://localhost:8080/",
          "height": 513
        }
      },
      "cell_type": "code",
      "source": [
        "for _ in range(5):\n",
        "    print('epoch %i' % _)\n",
        "    model.fit_generator(fit_generator_helper.image_loader(df,batch_size=batch_size,nx=nx,ny=ny),\n",
        "                    steps_per_epoch=steps_per_epoch, # steps_per_epoch is number of batches per epoch\n",
        "                    epochs=1,\n",
        "                   )\n",
        "    scores = model.evaluate(X_val, Y_val)\n",
        "    print(\"%s: %.2f%%\" % (model.metrics_names[1], scores[1] * 100))"
      ],
      "execution_count": 26,
      "outputs": [
        {
          "output_type": "stream",
          "text": [
            "epoch 0\n",
            "WARNING:tensorflow:From /usr/local/lib/python3.6/dist-packages/tensorflow/python/ops/math_ops.py:3066: to_int32 (from tensorflow.python.ops.math_ops) is deprecated and will be removed in a future version.\n",
            "Instructions for updating:\n",
            "Use tf.cast instead.\n",
            "Epoch 1/1\n",
            "18/18 [==============================] - 444s 25s/step - loss: 0.8363 - categorical_accuracy: 0.7867\n",
            "200/200 [==============================] - 32s 158ms/step\n",
            "categorical_accuracy: 73.00%\n",
            "epoch 1\n",
            "Epoch 1/1\n",
            "18/18 [==============================] - 364s 20s/step - loss: 0.0163 - categorical_accuracy: 1.0000\n",
            "200/200 [==============================] - 13s 67ms/step\n",
            "categorical_accuracy: 100.00%\n",
            "epoch 2\n",
            "Epoch 1/1\n",
            "18/18 [==============================] - 364s 20s/step - loss: 0.0069 - categorical_accuracy: 1.0000\n",
            "200/200 [==============================] - 13s 67ms/step\n",
            "categorical_accuracy: 100.00%\n",
            "epoch 3\n",
            "Epoch 1/1\n",
            "18/18 [==============================] - 364s 20s/step - loss: 0.0046 - categorical_accuracy: 1.0000\n",
            "200/200 [==============================] - 13s 67ms/step\n",
            "categorical_accuracy: 100.00%\n",
            "epoch 4\n",
            "Epoch 1/1\n",
            "18/18 [==============================] - 364s 20s/step - loss: 0.0030 - categorical_accuracy: 1.0000\n",
            "200/200 [==============================] - 13s 67ms/step\n",
            "categorical_accuracy: 100.00%\n"
          ],
          "name": "stdout"
        }
      ]
    },
    {
      "metadata": {
        "id": "p-8mhtvEwdli",
        "colab_type": "text"
      },
      "cell_type": "markdown",
      "source": [
        "# Save model"
      ]
    },
    {
      "metadata": {
        "id": "Bk6VlHqyByPL",
        "colab_type": "code",
        "colab": {}
      },
      "cell_type": "code",
      "source": [
        "import time\n",
        "timestr = time.strftime('%Y%m%d-%H%M')\n",
        "\n",
        "\n",
        "model_yaml = model.to_yaml()\n",
        "with open('model-missing-2cytc-J145-J151-256dense-5epochs-'+timestr+'.yaml', \"w\") as yaml_file:\n",
        "    yaml_file.write(model_yaml)\n",
        "model.save_weights(\"model\"+timestr+\".h5\")"
      ],
      "execution_count": 0,
      "outputs": []
    },
    {
      "metadata": {
        "id": "z6yIMTKHSwqd",
        "colab_type": "code",
        "colab": {}
      },
      "cell_type": "code",
      "source": [
        "timestr = '20190328-0241'"
      ],
      "execution_count": 0,
      "outputs": []
    },
    {
      "metadata": {
        "id": "pbTQB9E6CTkh",
        "colab_type": "code",
        "colab": {
          "base_uri": "https://localhost:8080/",
          "height": 88
        },
        "outputId": "6a935768-4092-4d73-a606-e5699a416a8c"
      },
      "cell_type": "code",
      "source": [
        "from keras.models import model_from_yaml\n",
        "\n",
        "\n",
        "# load YAML and create model\n",
        "yaml_file = open('model'+timestr+'.yaml', 'r')\n",
        "loaded_model_yaml = yaml_file.read()\n",
        "yaml_file.close()\n",
        "loaded_model = model_from_yaml(loaded_model_yaml)\n",
        "# load weights into new model\n",
        "loaded_model.load_weights(\"model\"+timestr+\".h5\")\n",
        "loaded_model.compile(optimizer = SGD() , loss='categorical_crossentropy', metrics=['categorical_accuracy'])\n"
      ],
      "execution_count": 10,
      "outputs": [
        {
          "output_type": "stream",
          "text": [
            "WARNING:tensorflow:From /usr/local/lib/python3.6/dist-packages/keras/backend/tensorflow_backend.py:3445: calling dropout (from tensorflow.python.ops.nn_ops) with keep_prob is deprecated and will be removed in a future version.\n",
            "Instructions for updating:\n",
            "Please use `rate` instead of `keep_prob`. Rate should be set to `rate = 1 - keep_prob`.\n"
          ],
          "name": "stdout"
        }
      ]
    },
    {
      "metadata": {
        "id": "EaCsrO-oDy4p",
        "colab_type": "code",
        "outputId": "68d8c440-8f96-4624-f1d3-be3c2426cb4b",
        "colab": {
          "base_uri": "https://localhost:8080/",
          "height": 51
        }
      },
      "cell_type": "code",
      "source": [
        "scores = loaded_model.evaluate(X_val, Y_val)\n",
        "print(\"%s: %.2f%%\" % (loaded_model.metrics_names[1], scores[1] * 100))"
      ],
      "execution_count": 11,
      "outputs": [
        {
          "output_type": "stream",
          "text": [
            "200/200 [==============================] - 7s 36ms/step\n",
            "categorical_accuracy: 62.50%\n"
          ],
          "name": "stdout"
        }
      ]
    },
    {
      "metadata": {
        "id": "7syBihzD35T3",
        "colab_type": "text"
      },
      "cell_type": "markdown",
      "source": [
        "# tune dense layer"
      ]
    },
    {
      "metadata": {
        "id": "HB_7ZioO35T3",
        "colab_type": "code",
        "colab": {}
      },
      "cell_type": "code",
      "source": [
        "for dense13_n in []:\n",
        "    print('%i dense layer'% dense13_n)\n",
        "    model_dense13_n = deep_consensus_wrapper(input_shape=X.shape[1::],dense13_n=dense13_n,optimizer=Adam())\n",
        "    print(model_dense13_n.summary())\n",
        "    for _ in range(40):\n",
        "        print('epoch %i' % _)\n",
        "        model_dense13_n.fit_generator(fit_generator_helper.image_loader(df,batch_size=batch_size,nx=nx,ny=ny,crop_n=400),\n",
        "                        steps_per_epoch=steps_per_epoch, # steps_per_epoch is number of batches per epoch\n",
        "                        epochs=1,\n",
        "                        #use_multiprocessing=True,\n",
        "                        #workers=5\n",
        "                       )\n",
        "        scores = model_dense13_n.evaluate(X_val, Y_val)\n",
        "        print(\"%s: %.2f%%\" % (model_dense13_n.metrics_names[1], scores[1] * 100))\n",
        "    \n",
        "    "
      ],
      "execution_count": 0,
      "outputs": []
    }
  ]
}